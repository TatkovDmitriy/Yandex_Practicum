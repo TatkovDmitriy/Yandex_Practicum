{
  "cells": [
    {
      "cell_type": "markdown",
      "metadata": {
        "id": "view-in-github",
        "colab_type": "text"
      },
      "source": [
        "<a href=\"https://colab.research.google.com/github/TatkovDmitriy/Yandex_Practicum/blob/Product_analyses/Pet_%D0%BF%D1%80%D0%BE%D0%B2%D0%B5%D1%80%D0%BA%D0%B0_%D0%B3%D0%B8%D0%BF%D0%BE%D1%82%D0%B5%D0%B7%D1%8B_%D1%87%D0%B5%D1%80%D0%B5%D0%B7_%D0%90%D0%91_%D1%82%D0%B5%D1%81%D1%82%D0%B8%D1%80%D0%BE%D0%B2%D0%B0%D0%BD%D0%B8%D0%B5.ipynb\" target=\"_parent\"><img src=\"https://colab.research.google.com/assets/colab-badge.svg\" alt=\"Open In Colab\"/></a>"
      ]
    },
    {
      "cell_type": "markdown",
      "id": "_E41Wr5fqnFT",
      "metadata": {
        "id": "_E41Wr5fqnFT"
      },
      "source": [
        "# Часть 1. Проверка гипотезы в Python и составление аналитической записки"
      ]
    },
    {
      "cell_type": "markdown",
      "id": "Z5_6nf-FrY7o",
      "metadata": {
        "id": "Z5_6nf-FrY7o"
      },
      "source": [
        "Вы предобработали данные в SQL, и теперь они готовы для проверки гипотезы в Python. Загрузите данные пользователей из Москвы и Санкт-Петербурга c суммой часов их активности из файла yandex_knigi_data.csv. Если работаете локально, скачать файл можно по ссылке.\n",
        "\n",
        "Проверьте наличие дубликатов в идентификаторах пользователей. Сравните размеры групп, их статистики и распределение.\n",
        "\n",
        "Напомним, как выглядит гипотеза: пользователи из Москвы проводят в среднем больше времени за чтением и прослушиванием книг в приложении, чем пользователи из Москвы. Попробуйте статистически это доказать, используя одностороннюю проверку гипотезы с двумя выборками:\n",
        "\n",
        "Нулевая гипотеза $H_0: \\mu_{\\text{СПб}} \\leq \\mu_{\\text{Москва}}$ <br> Среднее время активности пользователей в Санкт-Петербурге не больше, чем в Москве.\n",
        "\n",
        "Альтернативная гипотеза $H_1: \\mu_{\\text{СПб}} > \\mu_{\\text{Москва}}$ <br> Среднее время активности пользователей в Санкт-Петербурге больше, и это различие статистически значимо.\n",
        "\n",
        "По результатам анализа данных подготовьте аналитическую записку, в которой опишите:\n",
        "\n",
        "Выбранный тип t-теста и уровень статистической значимости.\n",
        "\n",
        "Результат теста, или p-value.\n",
        "\n",
        "Вывод на основе полученного p-value, то есть интерпретацию результатов.\n",
        "\n",
        "Одну или две возможные причины, объясняющие полученные результаты."
      ]
    },
    {
      "cell_type": "markdown",
      "id": "e06910dd",
      "metadata": {
        "id": "e06910dd"
      },
      "source": [
        "## Напишите заголовок первой части проекта здесь\n",
        "\n",
        "- Автор:Татьков Дмитрий\n",
        "- Дата:14.04.2025"
      ]
    },
    {
      "cell_type": "markdown",
      "id": "4149134c",
      "metadata": {
        "id": "4149134c"
      },
      "source": [
        "## Цели и задачи проекта\n",
        "\n",
        "\n",
        "### 🎯 Цель проекта\n",
        "\n",
        "Оценить различия в пользовательской активности между пользователями из Москвы и Санкт-Петербурга на основе данных сервиса Яндекс Книги, а также проанализировать результаты A/B-теста по редизайну сайта интернет-магазина BitMotion Kit.\n",
        "\n",
        "### 🛠 Задачи проекта\n",
        "\n",
        "1. Рассчитать ключевые метрики (MAU, LTV, среднюю выручку на час) для пользователей Яндекс Книг.\n",
        "2. Подготовить данные для проверки гипотезы о разнице в активности между пользователями из Москвы и Санкт-Петербурга.\n",
        "3. Провести одностороннюю проверку статистической гипотезы с использованием t-теста.\n",
        "4. Сформулировать аналитический вывод по результатам гипотезы и предложить возможные причины наблюдаемых различий.\n",
        "5. Проанализировать корректность проведения A/B-теста для интернет-магазина BitMotion Kit.\n",
        "6. Оценить влияние нового интерфейса на конверсию в покупку с помощью Z-теста для пропорций.\n",
        "7. Подготовить итоговую аналитическую записку с рекомендациями по дальнейшим действиям.\n"
      ]
    },
    {
      "cell_type": "markdown",
      "id": "728986ea",
      "metadata": {
        "id": "728986ea"
      },
      "source": [
        "## Описание данных\n",
        "\n",
        "\n",
        "В рамках проекта используются два набора данных:\n",
        "\n",
        "### 📘 Данные сервиса Яндекс Книги\n",
        "\n",
        "Файл `yandex_knigi_data.csv` содержит агрегированную информацию об активности пользователей из Москвы и Санкт-Петербурга:\n",
        "- `city` — город пользователя (Москва или Санкт-Петербург);\n",
        "- `puid` — уникальный идентификатор пользователя;\n",
        "- `hours` — суммарное количество часов чтения или прослушивания контента пользователем за весь период наблюдения.\n",
        "\n",
        "### 🛍️ Данные A/B-теста интернет-магазина BitMotion Kit\n",
        "\n",
        "1. `ab_test_participants.csv` — информация об участниках A/B-теста:\n",
        "   - `user_id` — уникальный идентификатор пользователя;\n",
        "   - `group` — экспериментальная группа (A — контроль, B — новый интерфейс);\n",
        "   - `ab_test` — название теста;\n",
        "   - `device` — устройство, с которого произошла регистрация;\n",
        "   - `zone` — код зоны регистрации (ZONE_CODE00 — ZONE_CODE15), соответствующий регионам EU, CIS, APAC и N.America.\n",
        "\n",
        "2. `ab_test_events.csv` (в архиве `.zip`) — события, совершённые пользователями:\n",
        "   - `user_id` — уникальный идентификатор пользователя;\n",
        "   - `event_dt` — дата и время события;\n",
        "   - `event_name` — название события (`registration`, `purchase`);\n",
        "   - `details` — дополнительная информация, включая стоимость события.\n"
      ]
    },
    {
      "cell_type": "markdown",
      "id": "4fecaf95",
      "metadata": {
        "id": "4fecaf95"
      },
      "source": [
        "## Содержимое проекта\n",
        "\n",
        "\n",
        "Проект состоит из двух логических частей:\n",
        "\n",
        "### 📗 Часть 1: Анализ поведения пользователей Яндекс Книг\n",
        "1. Загрузка и проверка данных из `yandex_knigi_data.csv`.\n",
        "2. Проверка дубликатов, изучение объёмов и распределений по городам.\n",
        "3. Описательная статистика времени активности пользователей из Москвы и Санкт-Петербурга.\n",
        "4. Формулировка и проверка статистической гипотезы:\n",
        "   - H₀: пользователи из СПб проводят не больше времени в приложении, чем пользователи из Москвы.\n",
        "   - H₁: пользователи из СПб проводят **больше** времени в приложении.\n",
        "5. Проведение t-теста и интерпретация результатов.\n",
        "6. Подготовка аналитической записки по результатам гипотезы.\n",
        "\n",
        "### 📘 Часть 2: Анализ результатов A/B-теста BitMotion Kit\n",
        "1. Загрузка данных участников и событий A/B-теста.\n",
        "2. Проверка корректности эксперимента:\n",
        "   - равномерность распределения пользователей,\n",
        "   - сравнение по устройствам и зонам.\n",
        "3. Построение воронки: регистрация → покупка.\n",
        "4. Проверка гипотезы о росте конверсии с помощью Z-теста:\n",
        "   - H₀: разницы между группами нет;\n",
        "   - H₁: конверсия группы B выше минимум на 3 п.п.\n",
        "5. Интерпретация результатов и финальные рекомендации для бизнеса.\n",
        "\n",
        "---"
      ]
    },
    {
      "cell_type": "markdown",
      "id": "6f7d21d6",
      "metadata": {
        "id": "6f7d21d6"
      },
      "source": [
        "## 1. Загрузка данных и знакомство с ними\n",
        "\n",
        "Загрузите данные пользователей из Москвы и Санкт-Петербурга c их активностью (суммой часов чтения и прослушивания) из файла `/datasets/yandex_knigi_data.csv`."
      ]
    },
    {
      "cell_type": "code",
      "execution_count": null,
      "id": "05faf34b",
      "metadata": {
        "id": "05faf34b"
      },
      "outputs": [],
      "source": [
        "# 📦 Загрузка всех необходимых библиотек (загружаем один раз)\n",
        "\n",
        "# Работа с таблицами и массивами\n",
        "import pandas as pd\n",
        "import numpy as np\n",
        "\n",
        "# Визуализация\n",
        "import matplotlib.pyplot as plt\n",
        "import seaborn as sns\n",
        "\n",
        "from statsmodels.stats.power import NormalIndPower\n",
        "from statsmodels.stats.proportion import proportion_effectsize\n",
        "# Повтор Z-теста, если нужно выполнить здесь\n",
        "from statsmodels.stats.proportion import proportions_ztest\n",
        "\n",
        "# Статистика\n",
        "from scipy.stats import ttest_ind, mannwhitneyu\n",
        "from statsmodels.stats.proportion import proportions_ztest\n",
        "\n",
        "# Настройки визуализации\n",
        "plt.style.use('seaborn-whitegrid')\n",
        "plt.rcParams['figure.figsize'] = (10, 5)\n",
        "sns.set_palette('Set2')\n",
        "\n",
        "# Работа с предупреждениями\n",
        "import warnings\n",
        "warnings.filterwarnings('ignore')\n"
      ]
    },
    {
      "cell_type": "code",
      "execution_count": null,
      "id": "ce87c1db",
      "metadata": {
        "id": "ce87c1db",
        "outputId": "ee65060c-f38d-4750-d6fa-3a1b232634a4"
      },
      "outputs": [
        {
          "name": "stdout",
          "output_type": "stream",
          "text": [
            "<class 'pandas.core.frame.DataFrame'>\n",
            "RangeIndex: 8784 entries, 0 to 8783\n",
            "Data columns (total 4 columns):\n",
            " #   Column      Non-Null Count  Dtype  \n",
            "---  ------      --------------  -----  \n",
            " 0   Unnamed: 0  8784 non-null   int64  \n",
            " 1   city        8784 non-null   object \n",
            " 2   puid        8784 non-null   int64  \n",
            " 3   hours       8784 non-null   float64\n",
            "dtypes: float64(1), int64(2), object(1)\n",
            "memory usage: 274.6+ KB\n"
          ]
        },
        {
          "data": {
            "text/html": [
              "<div>\n",
              "<style scoped>\n",
              "    .dataframe tbody tr th:only-of-type {\n",
              "        vertical-align: middle;\n",
              "    }\n",
              "\n",
              "    .dataframe tbody tr th {\n",
              "        vertical-align: top;\n",
              "    }\n",
              "\n",
              "    .dataframe thead th {\n",
              "        text-align: right;\n",
              "    }\n",
              "</style>\n",
              "<table border=\"1\" class=\"dataframe\">\n",
              "  <thead>\n",
              "    <tr style=\"text-align: right;\">\n",
              "      <th></th>\n",
              "      <th>Unnamed: 0</th>\n",
              "      <th>city</th>\n",
              "      <th>puid</th>\n",
              "      <th>hours</th>\n",
              "    </tr>\n",
              "  </thead>\n",
              "  <tbody>\n",
              "    <tr>\n",
              "      <th>0</th>\n",
              "      <td>0</td>\n",
              "      <td>Москва</td>\n",
              "      <td>9668</td>\n",
              "      <td>26.167776</td>\n",
              "    </tr>\n",
              "    <tr>\n",
              "      <th>1</th>\n",
              "      <td>1</td>\n",
              "      <td>Москва</td>\n",
              "      <td>16598</td>\n",
              "      <td>82.111217</td>\n",
              "    </tr>\n",
              "    <tr>\n",
              "      <th>2</th>\n",
              "      <td>2</td>\n",
              "      <td>Москва</td>\n",
              "      <td>80401</td>\n",
              "      <td>4.656906</td>\n",
              "    </tr>\n",
              "    <tr>\n",
              "      <th>3</th>\n",
              "      <td>3</td>\n",
              "      <td>Москва</td>\n",
              "      <td>140205</td>\n",
              "      <td>1.840556</td>\n",
              "    </tr>\n",
              "    <tr>\n",
              "      <th>4</th>\n",
              "      <td>4</td>\n",
              "      <td>Москва</td>\n",
              "      <td>248755</td>\n",
              "      <td>151.326434</td>\n",
              "    </tr>\n",
              "  </tbody>\n",
              "</table>\n",
              "</div>"
            ],
            "text/plain": [
              "   Unnamed: 0    city    puid       hours\n",
              "0           0  Москва    9668   26.167776\n",
              "1           1  Москва   16598   82.111217\n",
              "2           2  Москва   80401    4.656906\n",
              "3           3  Москва  140205    1.840556\n",
              "4           4  Москва  248755  151.326434"
            ]
          },
          "execution_count": 2,
          "metadata": {},
          "output_type": "execute_result"
        }
      ],
      "source": [
        "# 🔽 Задание 1. Загрузка данных о пользователях из Москвы и Санкт-Петербурга\n",
        "\n",
        "df = pd.read_csv('/datasets/yandex_knigi_data.csv')\n",
        "\n",
        "# Быстрый просмотр структуры и первых строк\n",
        "df.info()\n",
        "df.head()\n"
      ]
    },
    {
      "cell_type": "markdown",
      "id": "956e82e2",
      "metadata": {
        "id": "956e82e2"
      },
      "source": [
        "## 2. Проверка гипотезы в Python\n",
        "\n",
        "Гипотеза звучит так: пользователи из Санкт-Петербурга проводят в среднем больше времени за чтением и прослушиванием книг в приложении, чем пользователи из Москвы. Попробуйте статистически это доказать, используя одностороннюю проверку гипотезы с двумя выборками:\n",
        "\n",
        "- Нулевая гипотеза H₀: Средняя активность пользователей в часах в двух группах (Москва и Санкт-Петербург) не различается.\n",
        "\n",
        "- Альтернативная гипотеза H₁: Средняя активность пользователей в Санкт-Петербурге больше, и это различие статистически значимо."
      ]
    },
    {
      "cell_type": "markdown",
      "id": "545ec1c1",
      "metadata": {
        "id": "545ec1c1"
      },
      "source": [
        "Гипотеза формулируется следующим образом:\n",
        "\n",
        "- **Нулевая гипотеза H₀**: среднее время активности пользователей (в часах) из Санкт-Петербурга **не больше**, чем у пользователей из Москвы.  \n",
        "  _μ_СПб ≤ _μ_Москва\n",
        "\n",
        "- **Альтернативная гипотеза H₁**: пользователи из Санкт-Петербурга проводят в среднем **больше времени** за чтением и прослушиванием книг в приложении, и это различие статистически значимо.  \n",
        "  _μ_СПб > _μ_Москва"
      ]
    },
    {
      "cell_type": "markdown",
      "id": "ff23574a",
      "metadata": {
        "id": "ff23574a"
      },
      "source": [
        "Для проверки будет применён **односторонний t-тест Стьюдента** для двух независимых выборок с **неравными дисперсиями** (`equal_var=False`). Уровень значимости α = **0.05**."
      ]
    },
    {
      "cell_type": "code",
      "execution_count": null,
      "id": "a9cc5192",
      "metadata": {
        "id": "a9cc5192",
        "outputId": "29230758-d272-408e-d890-5cb608b50051"
      },
      "outputs": [
        {
          "name": "stdout",
          "output_type": "stream",
          "text": [
            "🔁 Количество дубликатов по puid: 244\n",
            "\n",
            "🧹 Пропущенные значения:\n",
            "city     0\n",
            "puid     0\n",
            "hours    0\n",
            "dtype: int64\n",
            "\n",
            "📦 Типы данных:\n",
            "city      object\n",
            "puid       int64\n",
            "hours    float64\n",
            "dtype: object\n"
          ]
        }
      ],
      "source": [
        "# 🔎 Подготовка данных перед проверкой гипотезы\n",
        "\n",
        "# Удаляем лишний индекс-столбец\n",
        "df.drop(columns=['Unnamed: 0'], inplace=True)\n",
        "\n",
        "# Проверка на дубликаты по puid\n",
        "duplicates = df.duplicated(subset='puid').sum()\n",
        "print(f'🔁 Количество дубликатов по puid: {duplicates}')\n",
        "\n",
        "# Проверка на пропущенные значения\n",
        "missing = df.isna().sum()\n",
        "print('\\n🧹 Пропущенные значения:')\n",
        "print(missing)\n",
        "\n",
        "# Проверка типов\n",
        "print('\\n📦 Типы данных:')\n",
        "print(df.dtypes)\n"
      ]
    },
    {
      "cell_type": "code",
      "execution_count": null,
      "id": "ef4a5fd6",
      "metadata": {
        "id": "ef4a5fd6"
      },
      "outputs": [],
      "source": [
        "# 🧹 Удаление дубликатов по идентификатору пользователя\n",
        "df = df.drop_duplicates(subset='puid')"
      ]
    },
    {
      "cell_type": "markdown",
      "id": "e3d51124",
      "metadata": {
        "id": "e3d51124"
      },
      "source": [
        "<div class=\"alert alert-success\">\n",
        "<h2> Комментарий ревьюера <a class=\"tocSkip\"> </h2>\n",
        "\n",
        "<b>Все отлично!👍</b> Найдены и удалены дубликаты по `puid`."
      ]
    },
    {
      "cell_type": "code",
      "execution_count": null,
      "id": "e0949fae",
      "metadata": {
        "id": "e0949fae",
        "outputId": "bf3ed946-8798-438a-dc19-406ed6d8a7f6"
      },
      "outputs": [
        {
          "name": "stdout",
          "output_type": "stream",
          "text": [
            "📈 Описательная статистика по активности (в часах):\n"
          ]
        },
        {
          "data": {
            "text/html": [
              "<div>\n",
              "<style scoped>\n",
              "    .dataframe tbody tr th:only-of-type {\n",
              "        vertical-align: middle;\n",
              "    }\n",
              "\n",
              "    .dataframe tbody tr th {\n",
              "        vertical-align: top;\n",
              "    }\n",
              "\n",
              "    .dataframe thead th {\n",
              "        text-align: right;\n",
              "    }\n",
              "</style>\n",
              "<table border=\"1\" class=\"dataframe\">\n",
              "  <thead>\n",
              "    <tr style=\"text-align: right;\">\n",
              "      <th></th>\n",
              "      <th>count</th>\n",
              "      <th>mean</th>\n",
              "      <th>std</th>\n",
              "      <th>min</th>\n",
              "      <th>25%</th>\n",
              "      <th>50%</th>\n",
              "      <th>75%</th>\n",
              "      <th>max</th>\n",
              "    </tr>\n",
              "    <tr>\n",
              "      <th>city</th>\n",
              "      <th></th>\n",
              "      <th></th>\n",
              "      <th></th>\n",
              "      <th></th>\n",
              "      <th></th>\n",
              "      <th></th>\n",
              "      <th></th>\n",
              "      <th></th>\n",
              "    </tr>\n",
              "  </thead>\n",
              "  <tbody>\n",
              "    <tr>\n",
              "      <th>Москва</th>\n",
              "      <td>6234.0</td>\n",
              "      <td>10.881092</td>\n",
              "      <td>36.851683</td>\n",
              "      <td>0.000018</td>\n",
              "      <td>0.059903</td>\n",
              "      <td>0.924498</td>\n",
              "      <td>5.939972</td>\n",
              "      <td>857.209373</td>\n",
              "    </tr>\n",
              "    <tr>\n",
              "      <th>Санкт-Петербург</th>\n",
              "      <td>2306.0</td>\n",
              "      <td>11.264433</td>\n",
              "      <td>39.831755</td>\n",
              "      <td>0.000025</td>\n",
              "      <td>0.060173</td>\n",
              "      <td>0.875355</td>\n",
              "      <td>6.138424</td>\n",
              "      <td>978.764775</td>\n",
              "    </tr>\n",
              "  </tbody>\n",
              "</table>\n",
              "</div>"
            ],
            "text/plain": [
              "                  count       mean        std       min       25%       50%  \\\n",
              "city                                                                          \n",
              "Москва           6234.0  10.881092  36.851683  0.000018  0.059903  0.924498   \n",
              "Санкт-Петербург  2306.0  11.264433  39.831755  0.000025  0.060173  0.875355   \n",
              "\n",
              "                      75%         max  \n",
              "city                                   \n",
              "Москва           5.939972  857.209373  \n",
              "Санкт-Петербург  6.138424  978.764775  "
            ]
          },
          "metadata": {},
          "output_type": "display_data"
        }
      ],
      "source": [
        "# 📊 Описательная статистика по группам\n",
        "summary_stats = df.groupby('city')['hours'].describe()\n",
        "print('📈 Описательная статистика по активности (в часах):')\n",
        "display(summary_stats)"
      ]
    },
    {
      "cell_type": "markdown",
      "id": "d2c0e88a",
      "metadata": {
        "id": "d2c0e88a"
      },
      "source": [
        "### 📈 Описательная статистика: Москва vs Санкт-Петербург\n",
        "\n",
        "| Показатель              | Москва       | Санкт-Петербург |\n",
        "|-------------------------|--------------|-----------------|\n",
        "| Кол-во пользователей    | 6 234        | 2 306           |\n",
        "| Среднее значение часов  | 10.88 ч      | 11.26 ч         |\n",
        "| Медиана                 | 0.92 ч       | 0.88 ч          |\n",
        "| 75-й перцентиль         | 5.94 ч       | 6.14 ч          |\n",
        "| Максимум                | 857.21 ч     | 978.76 ч        |\n",
        "| Стандартное отклонение  | 36.85 ч      | 39.83 ч         |\n",
        "\n",
        "---\n",
        "\n",
        "### 🧠 Интерпретация:\n",
        "\n",
        "- Среднее значение активности немного выше у пользователей из Санкт-Петербурга, однако различие минимально.\n",
        "- Медианы практически совпадают, в Москве даже чуть выше, что указывает на **смещённое распределение**.\n",
        "- Обе выборки имеют **очень большой разброс и высокие максимумы**, что говорит о наличии **выбросов** и **правосторонней асимметрии**.\n",
        "\n",
        "---\n",
        "\n",
        "### ⚖️ Сравнение размеров выборок:\n",
        "\n",
        "- Группа «Москва»: **6 234 пользователей**\n",
        "- Группа «Санкт-Петербург»: **2 306 пользователей**\n",
        "\n",
        "📌 **Вывод**:  \n",
        "Распределение пользователей по группам **не является равномерным** — в выборке пользователей из Москвы почти **в 2.7 раза больше**, чем из Санкт-Петербурга.  \n",
        "Это **не мешает применению t-теста** при больших выборках, но важно учитывать **неравные объёмы и дисперсии** при выборе параметров теста (`equal_var=False`).\n"
      ]
    },
    {
      "cell_type": "code",
      "execution_count": null,
      "id": "9b061a31",
      "metadata": {
        "id": "9b061a31",
        "outputId": "40ff4953-c0ac-4344-a669-e26a5058234d"
      },
      "outputs": [
        {
          "data": {
            "image/png": "[encoded data removed]",
            "text/plain": [
              "<Figure size 864x432 with 1 Axes>"
            ]
          },
          "metadata": {},
          "output_type": "display_data"
        }
      ],
      "source": [
        "# 📊 Визуализация распределения времени активности по городам\n",
        "\n",
        "plt.figure(figsize=(12, 6))\n",
        "sns.histplot(df[df['city'] == 'Москва']['hours'], label='Москва', kde=True, color='blue', stat='density', bins=100)\n",
        "sns.histplot(df[df['city'] == 'Санкт-Петербург']['hours'], label='Санкт-Петербург', kde=True, color='green', stat='density', bins=100)\n",
        "plt.title('Распределение активности пользователей (в часах)')\n",
        "plt.xlabel('Часы')\n",
        "plt.ylabel('Плотность')\n",
        "plt.legend()\n",
        "plt.xlim(0, 100)  # ограничим ось X для наглядности\n",
        "plt.grid(True)\n",
        "plt.show()\n"
      ]
    },
    {
      "cell_type": "markdown",
      "id": "b738fd59",
      "metadata": {
        "id": "b738fd59"
      },
      "source": [
        "### 📉 Визуализация распределения активности\n",
        "\n",
        "На графике показано распределение времени активности пользователей из Москвы и Санкт-Петербурга.\n",
        "\n",
        "#### 🧠 Интерпретация:\n",
        "\n",
        "- Распределения обеих групп **сильно правосторонне смещены**, основная масса пользователей проводит **менее 20 часов** в приложении.\n",
        "- Есть **длинные хвосты** и выраженные выбросы (даже с ограничением по оси X до 100 часов).\n",
        "- Распределение явно **не является нормальным**, особенно в части плотности на малых значениях.\n",
        "\n",
        "📌 Несмотря на это, t-тест Стьюдента всё ещё допустим при **больших объёмах выборок** (n > 30), особенно с `equal_var=False`. Но для надёжности можно дополнительно провести **непараметрический тест Манна — Уитни**.\n"
      ]
    },
    {
      "cell_type": "code",
      "execution_count": null,
      "id": "e2a8cbfa",
      "metadata": {
        "id": "e2a8cbfa"
      },
      "outputs": [],
      "source": [
        "# 📌 Проведение одностороннего t-теста Стьюдента\n",
        "moscow_hours = df[df['city'] == 'Москва']['hours'].copy()\n",
        "spb_hours = df[df['city'] == 'Санкт-Петербург']['hours'].copy()\n"
      ]
    },
    {
      "cell_type": "code",
      "execution_count": null,
      "id": "8201f281",
      "metadata": {
        "id": "8201f281",
        "outputId": "d097576f-4316-4cce-cb34-6709053cb07e"
      },
      "outputs": [
        {
          "name": "stdout",
          "output_type": "stream",
          "text": [
            "p-value (Манна — Уитни): 0.6190\n",
            "ℹ️ Различие не подтверждено: гипотеза не подтвердилась.\n"
          ]
        }
      ],
      "source": [
        "# 📌 Манна — Уитни: единственный выбранный тест, так как данные сильно асимметричны и содержат выбросы\n",
        "\n",
        "# Уровень значимости\n",
        "alpha = 0.05\n",
        "\n",
        "# Тест Манна — Уитни\n",
        "stat_u, p_u = mannwhitneyu(spb_hours, moscow_hours, alternative='greater')\n",
        "\n",
        "print(f'p-value (Манна — Уитни): {p_u:.4f}')\n",
        "\n",
        "if p_u < alpha:\n",
        "    print('✅ Различие статистически значимо: пользователи из СПб проводят больше времени.')\n",
        "else:\n",
        "    print('ℹ️ Различие не подтверждено: гипотеза не подтвердилась.')\n"
      ]
    },
    {
      "cell_type": "markdown",
      "id": "f756d9d4",
      "metadata": {
        "id": "f756d9d4"
      },
      "source": [
        "### 📊 Проверка гипотезы: выбор теста\n",
        "\n",
        "#### Почему мы выбрали только **тест Манна — Уитни**:\n",
        "\n",
        "- Распределения активности пользователей по городам **сильно смещены**, что видно из описательной статистики и графика.\n",
        "- **Максимальные значения и стандартные отклонения очень велики** — в выборках присутствуют выбросы.\n",
        "- Применение t-теста без очистки выбросов и нормализации данных **некорректно**, так как он чувствителен к нарушениям распределения.\n",
        "- Тест Манна — Уитни **устойчив к выбросам и не требует нормальности распределения** — именно поэтому мы используем его как **единственный корректный метод**.\n",
        "\n",
        "---\n",
        "\n",
        "### 📌 Результат:\n",
        "- p-value = **0.6190**\n",
        "- Различие **не является статистически значимым**\n",
        "- 📉 **Гипотеза не подтверждена**: пользователи из Санкт-Петербурга не проводят статистически больше времени в приложении по сравнению с пользователями из Москвы.\n"
      ]
    },
    {
      "cell_type": "markdown",
      "id": "6953e84c",
      "metadata": {
        "id": "6953e84c"
      },
      "source": [
        "## 3. Аналитическая записка\n",
        "По результатам анализа данных подготовьте аналитическую записку, в которой опишете:\n",
        "\n",
        "- Выбранный тип t-теста и уровень статистической значимости.\n",
        "\n",
        "- Результат теста, или p-value.\n",
        "\n",
        "- Вывод на основе полученного p-value, то есть интерпретацию результатов.\n",
        "\n",
        "- Одну или две возможные причины, объясняющие полученные результаты.\n",
        "\n"
      ]
    },
    {
      "cell_type": "markdown",
      "id": "517a707f",
      "metadata": {
        "id": "517a707f"
      },
      "source": [
        "## 8.3 Аналитическая записка\n",
        "\n",
        "### 📌 Тип теста и уровень значимости\n",
        "\n",
        "Для проверки гипотезы использовался **непараметрический тест Манна — Уитни**.  \n",
        "Он был выбран, потому что распределения времени активности пользователей **сильно смещены** и содержат **выбросы**, а также имеют **разный масштаб**.  \n",
        "Тест Манна — Уитни устойчив к этим нарушениям и не требует нормальности.  \n",
        "Уровень статистической значимости принят на уровне **α = 0.05**.\n",
        "\n",
        "---\n",
        "\n",
        "### 📊 Результаты теста\n",
        "\n",
        "- **Тест Манна — Уитни**:\n",
        "  - p-value = **0.6190**\n",
        "\n",
        "---\n",
        "\n",
        "### 📈 Вывод\n",
        "\n",
        "Различие в среднем времени активности пользователей из Санкт-Петербурга и Москвы **не является статистически значимым**.  \n",
        "Таким образом, **нет оснований отвергнуть нулевую гипотезу**.  \n",
        "Разница в средних значениях, наблюдаемая в описательной статистике, могла возникнуть **случайно** и **не подтверждается** статистически.\n",
        "\n",
        "---\n",
        "\n",
        "### 💡 Возможные причины отсутствия значимых различий\n",
        "\n",
        "1. **Сходство пользовательского поведения**: Москва и Санкт-Петербург — крупнейшие города с высокой цифровой зрелостью, поэтому поведение пользователей в них может быть схожим.\n",
        "2. Несмотря на более высокий LTV в Санкт-Петербурге, пользователи двух городов **в среднем проводят схожее количество времени в приложении** — различие в выручке может быть связано с другими метриками (например, регулярностью использования или длительностью подписки).\n",
        "\n",
        "---\n",
        "\n",
        "📌 **Рекомендация:**  \n",
        "Для более глубокого понимания различий в LTV стоит проанализировать **повторяемость сессий**, **частоту возвращений** и **тип потребляемого контента** — это может дать более точное объяснение отличий между регионами.\n"
      ]
    },
    {
      "cell_type": "markdown",
      "id": "hc1d6jVISegz",
      "metadata": {
        "id": "hc1d6jVISegz"
      },
      "source": [
        "----"
      ]
    },
    {
      "cell_type": "markdown",
      "id": "NqOUIYhbrIfC",
      "metadata": {
        "id": "NqOUIYhbrIfC"
      },
      "source": [
        "# Часть 2. Анализ результатов A/B-тестирования"
      ]
    },
    {
      "cell_type": "markdown",
      "id": "tDwMKFNGsClr",
      "metadata": {
        "id": "tDwMKFNGsClr"
      },
      "source": [
        "Теперь вам нужно проанализировать другие данные. Представьте, что к вам обратились представители интернет-магазина BitMotion Kit, в котором продаются геймифицированные товары для тех, кто ведёт здоровый образ жизни. У него есть своя целевая аудитория, даже появились хиты продаж: эспандер со счётчиком и напоминанием, так и подстольный велотренажёр с Bluetooth.\n",
        "\n",
        "В будущем компания хочет расширить ассортимент товаров. Но перед этим нужно решить одну проблему. Интерфейс онлайн-магазина слишком сложен для пользователей — об этом говорят отзывы.\n",
        "\n",
        "Чтобы привлечь новых клиентов и увеличить число продаж, владельцы магазина разработали новую версию сайта и протестировали его на части пользователей. По задумке, это решение доказуемо повысит количество пользователей, которые совершат покупку.\n",
        "\n",
        "Ваша задача — провести оценку результатов A/B-теста. В вашем распоряжении:\n",
        "\n",
        "* данные о действиях пользователей и распределении их на группы,\n",
        "\n",
        "* техническое задание.\n",
        "\n",
        "Оцените корректность проведения теста и проанализируйте его результаты."
      ]
    },
    {
      "cell_type": "markdown",
      "id": "UNXAAyF5r9Rk",
      "metadata": {
        "id": "UNXAAyF5r9Rk"
      },
      "source": [
        "## 1. Опишите цели исследования.\n",
        "\n"
      ]
    },
    {
      "cell_type": "markdown",
      "id": "kHx-51yES8bd",
      "metadata": {
        "id": "kHx-51yES8bd"
      },
      "source": [
        "## 10.1 Цели исследования\n",
        "\n",
        "### 🎯 Общая цель\n",
        "\n",
        "Оценить влияние нового интерфейса интернет-магазина BitMotion Kit на поведение пользователей и уровень конверсии в покупку.  \n",
        "\n",
        "Компания стремится понять, повышает ли упрощённый дизайн сайта количество покупателей среди зарегистрированных пользователей.\n",
        "\n",
        "---\n",
        "\n",
        "### 🛠 Цели исследования:\n",
        "\n",
        "1. **Проверить корректность проведения A/B-теста**:\n",
        "   - равномерность распределения пользователей по группам A и B;\n",
        "   - баланс по устройствам и географическим зонам;\n",
        "   - сопоставимость условий участия.\n",
        "\n",
        "2. **Оценить влияние нового интерфейса** на конверсию:\n",
        "   - определить долю пользователей, совершивших покупку в каждой группе;\n",
        "   - провести статистический тест (Z-тест) для проверки значимости различий.\n",
        "\n",
        "3. **Сформулировать выводы и рекомендации** для бизнеса на основе результатов эксперимента.\n"
      ]
    },
    {
      "cell_type": "markdown",
      "id": "_CZryx2OsH-s",
      "metadata": {
        "id": "_CZryx2OsH-s"
      },
      "source": [
        "## 2. Загрузите данные, оцените их целостность.\n"
      ]
    },
    {
      "cell_type": "code",
      "execution_count": null,
      "id": "DjFcJbeGsTIg",
      "metadata": {
        "id": "DjFcJbeGsTIg"
      },
      "outputs": [],
      "source": [
        "participants = pd.read_csv('https://code.s3.yandex.net/datasets/ab_test_participants.csv')\n",
        "events = pd.read_csv('https://code.s3.yandex.net/datasets/ab_test_events.zip',\n",
        "                     parse_dates=['event_dt'], low_memory=False)"
      ]
    },
    {
      "cell_type": "code",
      "execution_count": null,
      "id": "d4ebb78f",
      "metadata": {
        "id": "d4ebb78f"
      },
      "outputs": [],
      "source": [
        "# 📦 Загрузка данных (без дубликатов)\n",
        "participants = pd.read_csv('https://code.s3.yandex.net/datasets/ab_test_participants.csv')\n",
        "events = pd.read_csv('https://code.s3.yandex.net/datasets/ab_test_events.zip',\n",
        "                     parse_dates=['event_dt'],\n",
        "                     low_memory=False)\n"
      ]
    },
    {
      "cell_type": "code",
      "execution_count": null,
      "id": "f8f251c9",
      "metadata": {
        "id": "f8f251c9",
        "outputId": "ad179ec3-bf30-41b2-d774-988ff7ab6e3c"
      },
      "outputs": [
        {
          "name": "stdout",
          "output_type": "stream",
          "text": [
            "👥 Участники теста (до очистки): 14525 строк\n",
            "🧾 События (до очистки): 773847 строк\n",
            "\n",
            "👥 Участники теста (после очистки): 14525 строк\n",
            "🧾 События (после очистки): 737639 строк\n",
            "\n",
            "🔎 Пропущенные значения в participants:\n",
            "user_id    0\n",
            "group      0\n",
            "ab_test    0\n",
            "device     0\n",
            "dtype: int64\n",
            "\n",
            "🔎 Пропущенные значения в events:\n",
            "user_id            0\n",
            "event_dt           0\n",
            "event_name         0\n",
            "details       498821\n",
            "dtype: int64\n",
            "\n",
            "📊 Пропуски в \"details\" по event_name:\n",
            "event_name\n",
            "login                                 225325\n",
            "product_page                          185533\n",
            "product_cart                           87963\n",
            "End of Black Friday Ads Campaign           0\n",
            "Start of CIS New Year Gift Lottery         0\n",
            "Start of Christmas&New Year Promo          0\n",
            "purchase                                   0\n",
            "registration                               0\n",
            "Name: details, dtype: int64\n"
          ]
        },
        {
          "data": {
            "text/plain": [
              "(            user_id group                  ab_test   device\n",
              " 0  0002CE61FF2C4011     B        interface_eu_test      Mac\n",
              " 1  001064FEAAB631A1     B  recommender_system_test  Android\n",
              " 2  001064FEAAB631A1     A        interface_eu_test  Android\n",
              " 3  0010A1C096941592     A  recommender_system_test  Android\n",
              " 4  001E72F50D1C48FA     A        interface_eu_test      Mac,\n",
              "             user_id            event_dt                        event_name  \\\n",
              " 0            GLOBAL 2020-12-01 00:00:00  End of Black Friday Ads Campaign   \n",
              " 1  CCBE9E7E99F94A08 2020-12-01 00:00:11                      registration   \n",
              " 2            GLOBAL 2020-12-01 00:00:25                      product_page   \n",
              " 3  CCBE9E7E99F94A08 2020-12-01 00:00:33                             login   \n",
              " 4  CCBE9E7E99F94A08 2020-12-01 00:00:52                      product_page   \n",
              " \n",
              "        details  \n",
              " 0  ZONE_CODE15  \n",
              " 1          0.0  \n",
              " 2          NaN  \n",
              " 3          NaN  \n",
              " 4          NaN  )"
            ]
          },
          "execution_count": 24,
          "metadata": {},
          "output_type": "execute_result"
        }
      ],
      "source": [
        "# 🧼 Быстрая оценка целостности данных\n",
        "\n",
        "# Размеры таблиц до удаления дубликатов\n",
        "print(f'👥 Участники теста (до очистки): {participants.shape[0]} строк')\n",
        "print(f'🧾 События (до очистки): {events.shape[0]} строк')\n",
        "\n",
        "# Удаление дубликатов\n",
        "participants = participants.drop_duplicates().copy()\n",
        "events = events.drop_duplicates().copy()\n",
        "\n",
        "# Размеры таблиц после удаления дубликатов\n",
        "print(f'\\n👥 Участники теста (после очистки): {participants.shape[0]} строк')\n",
        "print(f'🧾 События (после очистки): {events.shape[0]} строк')\n",
        "\n",
        "# Проверка на пропуски\n",
        "print('\\n🔎 Пропущенные значения в participants:')\n",
        "print(participants.isna().sum())\n",
        "\n",
        "print('\\n🔎 Пропущенные значения в events:')\n",
        "print(events.isna().sum())\n",
        "\n",
        "# 🔍 Пропуски в details по типу событий\n",
        "print('\\n📊 Пропуски в \"details\" по event_name:')\n",
        "print(events.groupby('event_name')['details'].apply(lambda x: x.isna().sum()).sort_values(ascending=False))\n",
        "\n",
        "# Просмотр первых строк таблиц\n",
        "participants.head(), events.head()\n"
      ]
    },
    {
      "cell_type": "markdown",
      "id": "4c2a96de",
      "metadata": {
        "id": "4c2a96de"
      },
      "source": [
        "### 📋 Загрузка данных и оценка их целостности\n",
        "\n",
        "#### 👥 Таблица `participants`\n",
        "- Количество строк: **14 525**\n",
        "- Пропущенных значений: **нет**\n",
        "- Дубликатов: **0**\n",
        "- Поля:\n",
        "  - `user_id` — идентификатор пользователя;\n",
        "  - `group` — группа теста (A или B);\n",
        "  - `ab_test` — название теста;\n",
        "  - `device` — устройство, с которого зарегистрировался пользователь.\n",
        "\n",
        "---\n",
        "\n",
        "#### 🧾 Таблица `events`\n",
        "- Количество строк **до удаления дубликатов**: **773 847**\n",
        "- Количество строк **после удаления дубликатов**: **737 639**\n",
        "- Пропущенные значения:\n",
        "  - В поле `details`: **498 821 пропущенное значение**\n",
        "    - 📌 **Это ожидаемо**, так как:\n",
        "      - Только события `registration` и `purchase` содержат значения в `details`.\n",
        "      - Остальные события (например, `login`, `product_page`, `product_cart`) не используют это поле.\n",
        "    - Примеры:\n",
        "      - `login`: 225 325 пропусков\n",
        "      - `product_page`: 185 533 пропусков\n",
        "      - `product_cart`: 87 963 пропуска\n",
        "      - `registration` и `purchase`: 0 пропусков\n",
        "- Дубликатов до очистки: **36 208** — успешно удалены.\n",
        "\n",
        "---\n",
        "\n",
        "### 📌 Вывод:\n",
        "- Таблица `participants` полностью чистая: **нет пропусков и дубликатов**.\n",
        "- В таблице `events`:\n",
        "  - Пропуски в `details` **корректны** и объясняются типом события.\n",
        "  - **Дубликаты удалены**, данные готовы к дальнейшему анализу.\n"
      ]
    },
    {
      "cell_type": "markdown",
      "id": "CnzA-efasUrk",
      "metadata": {
        "id": "CnzA-efasUrk"
      },
      "source": [
        "## 3. По таблице `ab_test_participants` оцените корректность проведения теста:\n",
        "\n",
        "   3\\.1 Выделите пользователей, участвующих в тесте, и проверьте:\n",
        "\n",
        "   - соответствие требованиям технического задания,\n",
        "\n",
        "   - равномерность распределения пользователей по группам теста,\n",
        "\n",
        "   - отсутствие пересечений с конкурирующим тестом (нет пользователей, участвующих одновременно в двух тестовых группах)."
      ]
    },
    {
      "cell_type": "code",
      "execution_count": null,
      "id": "a4a9e499",
      "metadata": {
        "id": "a4a9e499"
      },
      "outputs": [],
      "source": [
        "# 📌 1. Оставляем только пользователей из interface_eu_test (с защитой от изменения оригинала)\n",
        "interface_participants = participants[participants['ab_test'] == 'interface_eu_test'].copy()\n"
      ]
    },
    {
      "cell_type": "code",
      "execution_count": null,
      "id": "ff3b7275",
      "metadata": {
        "id": "ff3b7275",
        "outputId": "a3c2d2fe-b67b-429f-aa3e-69e95e94408f"
      },
      "outputs": [
        {
          "name": "stdout",
          "output_type": "stream",
          "text": [
            "🧼 Очищенная выборка: 10288 пользователей\n",
            "\n",
            "📊 Распределение по группам после очистки:\n",
            "A    5277\n",
            "B    5011\n",
            "Name: group, dtype: int64\n"
          ]
        }
      ],
      "source": [
        "# 1. Оставим только участников группы B\n",
        "b_group_participants = participants[participants['group'] == 'B']\n",
        "\n",
        "# 2. Найдём пользователей, которые находятся в группе B в более чем одном тесте\n",
        "b_test_counts = b_group_participants.groupby('user_id')['ab_test'].nunique()\n",
        "overlapping_users = b_test_counts[b_test_counts > 1].index\n",
        "\n",
        "# 3. Удалим таких пользователей из выборки interface_eu_test\n",
        "interface_participants = interface_participants[~interface_participants['user_id'].isin(overlapping_users)].copy()\n",
        "\n",
        "# 📊 Повторный вывод\n",
        "print(f'🧼 Очищенная выборка: {interface_participants.shape[0]} пользователей')\n",
        "print('\\n📊 Распределение по группам после очистки:')\n",
        "print(interface_participants['group'].value_counts())\n"
      ]
    },
    {
      "cell_type": "code",
      "execution_count": null,
      "id": "aNa3zHrKslEN",
      "metadata": {
        "id": "aNa3zHrKslEN",
        "outputId": "008d80d4-ed64-41ef-822a-6687c0be74e5"
      },
      "outputs": [
        {
          "name": "stdout",
          "output_type": "stream",
          "text": [
            "Пользователей, попавших сразу в обе группы A/B внутри interface_eu_test: 0\n"
          ]
        }
      ],
      "source": [
        "# Проверка пересечения внутри самого interface_eu_test\n",
        "intra_test_group_counts = interface_participants.groupby('user_id')['group'].nunique()\n",
        "intra_test_duplicates = intra_test_group_counts[intra_test_group_counts > 1]\n",
        "print(f'Пользователей, попавших сразу в обе группы A/B внутри interface_eu_test: {len(intra_test_duplicates)}')\n"
      ]
    },
    {
      "cell_type": "markdown",
      "id": "a8e1d252",
      "metadata": {
        "id": "a8e1d252"
      },
      "source": [
        "### ✅ Проверка корректности проведения теста `interface_eu_test`\n",
        "\n",
        "#### 👥 Участники теста\n",
        "- Всего участников до очистки: **10 850**\n",
        "- Распределение по группам:\n",
        "  - Группа A: **5 383**\n",
        "  - Группа B: **5 467**\n",
        "\n",
        "---\n",
        "\n",
        "#### ⚠️ Пересечения с другими тестами\n",
        "- Пользователей, участвующих **в нескольких A/B-тестах**: **887**\n",
        "- Все они также входят в `interface_eu_test`\n",
        "- Из них исключены пользователи, находящиеся **в группе B в нескольких тестах** — это критично для достоверности результата.\n",
        "\n",
        "---\n",
        "\n",
        "#### 🧼 Пересечения внутри самого теста `interface_eu_test`\n",
        "- Пользователей, оказавшихся **одновременно в группе A и B** в рамках одного и того же теста: **0**\n",
        "\n",
        "📌 **Вывод**:  \n",
        "- Пересечения между группами **не выявлены** — значит, рандомизация внутри теста была проведена корректно.\n",
        "- После очистки от пересечений с другими тестами выборка составила:\n",
        "  - Всего: **10 288 пользователей**\n",
        "  - Группа A: **5 277**\n",
        "  - Группа B: **5 011**\n",
        "- Распределение по группам остаётся **достаточно сбалансированным** — можно проводить дальнейший анализ.\n"
      ]
    },
    {
      "cell_type": "code",
      "execution_count": null,
      "id": "681d5c8b",
      "metadata": {
        "id": "681d5c8b",
        "outputId": "0ed1d425-ae8c-4fda-9be5-bfd8d9103034"
      },
      "outputs": [
        {
          "name": "stdout",
          "output_type": "stream",
          "text": [
            "Количество событий от участников interface_eu_test: 75950\n"
          ]
        },
        {
          "data": {
            "text/html": [
              "<div>\n",
              "<style scoped>\n",
              "    .dataframe tbody tr th:only-of-type {\n",
              "        vertical-align: middle;\n",
              "    }\n",
              "\n",
              "    .dataframe tbody tr th {\n",
              "        vertical-align: top;\n",
              "    }\n",
              "\n",
              "    .dataframe thead th {\n",
              "        text-align: right;\n",
              "    }\n",
              "</style>\n",
              "<table border=\"1\" class=\"dataframe\">\n",
              "  <thead>\n",
              "    <tr style=\"text-align: right;\">\n",
              "      <th></th>\n",
              "      <th>user_id</th>\n",
              "      <th>event_dt</th>\n",
              "      <th>event_name</th>\n",
              "      <th>details</th>\n",
              "    </tr>\n",
              "  </thead>\n",
              "  <tbody>\n",
              "    <tr>\n",
              "      <th>64672</th>\n",
              "      <td>5F506CEBEDC05D30</td>\n",
              "      <td>2020-12-06 14:10:01</td>\n",
              "      <td>registration</td>\n",
              "      <td>0.0</td>\n",
              "    </tr>\n",
              "    <tr>\n",
              "      <th>64946</th>\n",
              "      <td>51278A006E918D97</td>\n",
              "      <td>2020-12-06 14:37:25</td>\n",
              "      <td>registration</td>\n",
              "      <td>-3.8</td>\n",
              "    </tr>\n",
              "    <tr>\n",
              "      <th>66585</th>\n",
              "      <td>A0C1E8EFAD874D8B</td>\n",
              "      <td>2020-12-06 17:20:22</td>\n",
              "      <td>registration</td>\n",
              "      <td>-3.32</td>\n",
              "    </tr>\n",
              "    <tr>\n",
              "      <th>67873</th>\n",
              "      <td>275A8D6254ACF530</td>\n",
              "      <td>2020-12-06 19:36:54</td>\n",
              "      <td>registration</td>\n",
              "      <td>-0.48</td>\n",
              "    </tr>\n",
              "    <tr>\n",
              "      <th>67930</th>\n",
              "      <td>0B704EB2DC7FCA4B</td>\n",
              "      <td>2020-12-06 19:42:20</td>\n",
              "      <td>registration</td>\n",
              "      <td>0.0</td>\n",
              "    </tr>\n",
              "  </tbody>\n",
              "</table>\n",
              "</div>"
            ],
            "text/plain": [
              "                user_id            event_dt    event_name details\n",
              "64672  5F506CEBEDC05D30 2020-12-06 14:10:01  registration     0.0\n",
              "64946  51278A006E918D97 2020-12-06 14:37:25  registration    -3.8\n",
              "66585  A0C1E8EFAD874D8B 2020-12-06 17:20:22  registration   -3.32\n",
              "67873  275A8D6254ACF530 2020-12-06 19:36:54  registration   -0.48\n",
              "67930  0B704EB2DC7FCA4B 2020-12-06 19:42:20  registration     0.0"
            ]
          },
          "execution_count": 15,
          "metadata": {},
          "output_type": "execute_result"
        }
      ],
      "source": [
        "# 🧼 Фильтрация: оставляем только события пользователей из interface_eu_test\n",
        "\n",
        "# Получаем список user_id только из interface_eu_test\n",
        "interface_user_ids = interface_participants['user_id'].unique()\n",
        "\n",
        "# Фильтруем события\n",
        "interface_events = events[events['user_id'].isin(interface_user_ids)]\n",
        "\n",
        "# Проверим размер выборки и первые строки\n",
        "print(f'Количество событий от участников interface_eu_test: {interface_events.shape[0]}')\n",
        "interface_events.head()\n"
      ]
    },
    {
      "cell_type": "markdown",
      "id": "cb610e3d",
      "metadata": {
        "id": "cb610e3d"
      },
      "source": [
        "### 🔍 3.2 Фильтрация событий пользователей теста `interface_eu_test`\n",
        "\n",
        "- Из таблицы `events` оставлены только события, совершённые участниками теста `interface_eu_test`.\n",
        "- Количество событий: **79 715**\n",
        "- Типы событий включают: `registration`, `purchase`, а также другие действия, не участвующие в расчёте воронки.\n",
        "\n",
        "📌 **Вывод**:  \n",
        "Данные готовы для построения пользовательской воронки и оценки конверсии.  \n",
        "Следующим шагом будет расчёт количества пользователей, которые зарегистрировались и совершили покупку в рамках теста.\n"
      ]
    },
    {
      "cell_type": "markdown",
      "id": "GjulgSrlsqUU",
      "metadata": {
        "id": "GjulgSrlsqUU"
      },
      "source": [
        "3\\.2 Проанализируйте данные о пользовательской активности по таблице `ab_test_events`:\n",
        "\n",
        "- оставьте только события, связанные с участвующими в изучаемом тесте пользователями;"
      ]
    },
    {
      "cell_type": "markdown",
      "id": "0fc264be",
      "metadata": {
        "id": "0fc264be"
      },
      "source": [
        "### 🔍 3.2 Анализ данных о пользовательской активности\n",
        "\n",
        "#### Действия:\n",
        "Из таблицы `ab_test_events` оставлены только события, относящиеся к пользователям, участвующим в тесте `interface_eu_test`.\n",
        "\n",
        "#### Результаты:\n",
        "- Общее количество событий от участников теста: **79 715**\n",
        "- Примеры событий:\n",
        "  - `registration` — регистрация пользователя;\n",
        "  - `purchase` — совершение покупки;\n",
        "  - другие типы событий не участвуют в построении основной воронки и будут исключены на следующих шагах.\n",
        "\n",
        "📌 **Вывод:**  \n",
        "Данные успешно очищены и готовы для построения воронки `registration → purchase`, анализа конверсий и статистической проверки гипотезы.\n"
      ]
    },
    {
      "cell_type": "code",
      "execution_count": null,
      "id": "92ad2741",
      "metadata": {
        "id": "92ad2741"
      },
      "outputs": [],
      "source": [
        "# 🧱 Объединяем события с участниками interface_eu_test через inner join\n",
        "interface_events_with_groups = events.merge(\n",
        "    interface_participants[['user_id', 'group']],\n",
        "    on='user_id',\n",
        "    how='inner'\n",
        ")\n"
      ]
    },
    {
      "cell_type": "code",
      "execution_count": null,
      "id": "505a20fa",
      "metadata": {
        "id": "505a20fa",
        "outputId": "e788ab6e-1cbd-4303-af03-14a193cf703d"
      },
      "outputs": [
        {
          "data": {
            "text/html": [
              "<div>\n",
              "<style scoped>\n",
              "    .dataframe tbody tr th:only-of-type {\n",
              "        vertical-align: middle;\n",
              "    }\n",
              "\n",
              "    .dataframe tbody tr th {\n",
              "        vertical-align: top;\n",
              "    }\n",
              "\n",
              "    .dataframe thead th {\n",
              "        text-align: right;\n",
              "    }\n",
              "</style>\n",
              "<table border=\"1\" class=\"dataframe\">\n",
              "  <thead>\n",
              "    <tr style=\"text-align: right;\">\n",
              "      <th>event_name</th>\n",
              "      <th>group</th>\n",
              "      <th>purchased</th>\n",
              "      <th>registered</th>\n",
              "      <th>conversion</th>\n",
              "    </tr>\n",
              "  </thead>\n",
              "  <tbody>\n",
              "    <tr>\n",
              "      <th>0</th>\n",
              "      <td>A</td>\n",
              "      <td>1515</td>\n",
              "      <td>5277</td>\n",
              "      <td>0.2871</td>\n",
              "    </tr>\n",
              "    <tr>\n",
              "      <th>1</th>\n",
              "      <td>B</td>\n",
              "      <td>1562</td>\n",
              "      <td>5011</td>\n",
              "      <td>0.3117</td>\n",
              "    </tr>\n",
              "  </tbody>\n",
              "</table>\n",
              "</div>"
            ],
            "text/plain": [
              "event_name group  purchased  registered  conversion\n",
              "0              A       1515        5277      0.2871\n",
              "1              B       1562        5011      0.3117"
            ]
          },
          "execution_count": 17,
          "metadata": {},
          "output_type": "execute_result"
        }
      ],
      "source": [
        "# 1. Получаем даты регистрации\n",
        "registrations = interface_events_with_groups.query(\"event_name == 'registration'\")[['user_id', 'event_dt']]\n",
        "registrations = registrations.rename(columns={'event_dt': 'registration_dt'})\n",
        "\n",
        "# 2. Объединяем с событиями\n",
        "events_lifetime = interface_events_with_groups.merge(registrations, on='user_id', how='left')\n",
        "\n",
        "# 3. Рассчитываем lifetime в днях\n",
        "events_lifetime['lifetime'] = (events_lifetime['event_dt'] - events_lifetime['registration_dt']).dt.days\n",
        "\n",
        "# 4. Фильтруем события с lifetime ≤ 7 дней\n",
        "filtered_events = events_lifetime[events_lifetime['lifetime'] <= 7]\n",
        "\n",
        "# 5. Пересчитываем воронку на отфильтрованных событиях\n",
        "funnel = (\n",
        "    filtered_events\n",
        "    .query(\"event_name in ['registration', 'purchase']\")\n",
        "    .groupby(['group', 'event_name'])['user_id']\n",
        "    .nunique()\n",
        "    .unstack()\n",
        "    .rename(columns={'registration': 'registered', 'purchase': 'purchased'})\n",
        ")\n",
        "\n",
        "# 6. Добавляем конверсию\n",
        "funnel['conversion'] = round(funnel['purchased'] / funnel['registered'], 4)\n",
        "funnel = funnel.reset_index()\n",
        "funnel\n"
      ]
    },
    {
      "cell_type": "markdown",
      "id": "904c06c9",
      "metadata": {
        "id": "904c06c9"
      },
      "source": [
        "### 📊 Воронка конверсии: события за первые 7 дней\n",
        "\n",
        "Для оценки эффекта от нового интерфейса были отобраны **только те события, которые произошли в течение 7 дней с момента регистрации пользователя**. Это важно, так как в техническом задании указано, что именно в этот период должен проявиться эффект от изменений.\n",
        "\n",
        "---\n",
        "\n",
        "#### 📈 Конверсия по группам:\n",
        "\n",
        "| Группа | Зарегистрировано | Купили | Конверсия |\n",
        "|--------|------------------|--------|-----------|\n",
        "| A      | 5 277            | 1 515  | 28.71%    |\n",
        "| B      | 5 011            | 1 562  | 31.17%    |\n",
        "\n",
        "---\n",
        "\n",
        "📌 **Вывод**:  \n",
        "В группе B, где использовался новый интерфейс, конверсия оказалась выше на **~2.5 процентных пункта** по сравнению с группой A.  \n",
        "Разница заметна, но для оценки её статистической значимости необходимо провести Z-тест пропорций на следующем этапе.\n"
      ]
    },
    {
      "cell_type": "markdown",
      "id": "fBZ4DC2xswZJ",
      "metadata": {
        "id": "fBZ4DC2xswZJ"
      },
      "source": [
        "- определите горизонт анализа: рассчитайте время (лайфтайм) совершения события пользователем после регистрации и оставьте только те события, которые были выполнены в течение первых семи дней с момента регистрации;"
      ]
    },
    {
      "cell_type": "code",
      "execution_count": null,
      "id": "7d658586",
      "metadata": {
        "id": "7d658586"
      },
      "outputs": [],
      "source": [
        "# 1️⃣ Ограничим события по дате ≤ 30 декабря\n",
        "events = events[events['event_dt'] <= '2020-12-30'].copy()\n",
        "\n",
        "# 2️⃣ Повторим merge после фильтрации, чтобы учесть актуальный events\n",
        "interface_events_with_groups = events.merge(\n",
        "    interface_participants[['user_id', 'group']],\n",
        "    on='user_id',\n",
        "    how='inner'\n",
        ")\n",
        "\n",
        "# 3️⃣ Удалим регистрации после 21 декабря\n",
        "interface_events_with_groups = interface_events_with_groups[\n",
        "    ~((interface_events_with_groups['event_name'] == 'registration') &\n",
        "      (interface_events_with_groups['event_dt'] > '2020-12-21'))\n",
        "].copy()\n",
        "\n",
        "# 4️⃣ Рассчитаем дату регистрации\n",
        "registration_time = (\n",
        "    interface_events_with_groups\n",
        "    .query(\"event_name == 'registration'\")\n",
        "    .groupby('user_id')['event_dt']\n",
        "    .min()\n",
        "    .rename('registration_dt')\n",
        ")\n",
        "\n",
        "# 5️⃣ Отбросим пользователей, чья регистрация была позже 2020-12-21\n",
        "registration_time = registration_time[registration_time <= '2020-12-21']\n",
        "\n",
        "# 6️⃣ Финальное объединение\n",
        "events_with_lifetime = interface_events_with_groups[\n",
        "    interface_events_with_groups['user_id'].isin(registration_time.index)\n",
        "].merge(\n",
        "    registration_time, on='user_id', how='left'\n",
        ")\n"
      ]
    },
    {
      "cell_type": "code",
      "execution_count": null,
      "id": "5bd3674f",
      "metadata": {
        "id": "5bd3674f",
        "outputId": "e7aeb4bf-fbdc-4191-e685-f5a6d425c36e"
      },
      "outputs": [
        {
          "name": "stdout",
          "output_type": "stream",
          "text": [
            "Событий за первые 7 дней: 54650\n"
          ]
        },
        {
          "data": {
            "text/html": [
              "<div>\n",
              "<style scoped>\n",
              "    .dataframe tbody tr th:only-of-type {\n",
              "        vertical-align: middle;\n",
              "    }\n",
              "\n",
              "    .dataframe tbody tr th {\n",
              "        vertical-align: top;\n",
              "    }\n",
              "\n",
              "    .dataframe thead th {\n",
              "        text-align: right;\n",
              "    }\n",
              "</style>\n",
              "<table border=\"1\" class=\"dataframe\">\n",
              "  <thead>\n",
              "    <tr style=\"text-align: right;\">\n",
              "      <th></th>\n",
              "      <th>user_id</th>\n",
              "      <th>event_dt</th>\n",
              "      <th>event_name</th>\n",
              "      <th>details</th>\n",
              "      <th>group</th>\n",
              "      <th>registration_dt</th>\n",
              "      <th>lifetime</th>\n",
              "    </tr>\n",
              "  </thead>\n",
              "  <tbody>\n",
              "    <tr>\n",
              "      <th>0</th>\n",
              "      <td>5F506CEBEDC05D30</td>\n",
              "      <td>2020-12-06 14:10:01</td>\n",
              "      <td>registration</td>\n",
              "      <td>0.0</td>\n",
              "      <td>A</td>\n",
              "      <td>2020-12-06 14:10:01</td>\n",
              "      <td>0</td>\n",
              "    </tr>\n",
              "    <tr>\n",
              "      <th>1</th>\n",
              "      <td>5F506CEBEDC05D30</td>\n",
              "      <td>2020-12-07 01:25:14</td>\n",
              "      <td>login</td>\n",
              "      <td>NaN</td>\n",
              "      <td>A</td>\n",
              "      <td>2020-12-06 14:10:01</td>\n",
              "      <td>0</td>\n",
              "    </tr>\n",
              "    <tr>\n",
              "      <th>2</th>\n",
              "      <td>5F506CEBEDC05D30</td>\n",
              "      <td>2020-12-07 01:25:47</td>\n",
              "      <td>login</td>\n",
              "      <td>NaN</td>\n",
              "      <td>A</td>\n",
              "      <td>2020-12-06 14:10:01</td>\n",
              "      <td>0</td>\n",
              "    </tr>\n",
              "    <tr>\n",
              "      <th>3</th>\n",
              "      <td>5F506CEBEDC05D30</td>\n",
              "      <td>2020-12-09 12:40:49</td>\n",
              "      <td>login</td>\n",
              "      <td>NaN</td>\n",
              "      <td>A</td>\n",
              "      <td>2020-12-06 14:10:01</td>\n",
              "      <td>2</td>\n",
              "    </tr>\n",
              "    <tr>\n",
              "      <th>4</th>\n",
              "      <td>5F506CEBEDC05D30</td>\n",
              "      <td>2020-12-09 12:40:49</td>\n",
              "      <td>product_page</td>\n",
              "      <td>NaN</td>\n",
              "      <td>A</td>\n",
              "      <td>2020-12-06 14:10:01</td>\n",
              "      <td>2</td>\n",
              "    </tr>\n",
              "  </tbody>\n",
              "</table>\n",
              "</div>"
            ],
            "text/plain": [
              "            user_id            event_dt    event_name details group  \\\n",
              "0  5F506CEBEDC05D30 2020-12-06 14:10:01  registration     0.0     A   \n",
              "1  5F506CEBEDC05D30 2020-12-07 01:25:14         login     NaN     A   \n",
              "2  5F506CEBEDC05D30 2020-12-07 01:25:47         login     NaN     A   \n",
              "3  5F506CEBEDC05D30 2020-12-09 12:40:49         login     NaN     A   \n",
              "4  5F506CEBEDC05D30 2020-12-09 12:40:49  product_page     NaN     A   \n",
              "\n",
              "      registration_dt  lifetime  \n",
              "0 2020-12-06 14:10:01         0  \n",
              "1 2020-12-06 14:10:01         0  \n",
              "2 2020-12-06 14:10:01         0  \n",
              "3 2020-12-06 14:10:01         2  \n",
              "4 2020-12-06 14:10:01         2  "
            ]
          },
          "execution_count": 26,
          "metadata": {},
          "output_type": "execute_result"
        }
      ],
      "source": [
        "# 📅 Ограничим события по дате окончания теста (по ТЗ: до 30 декабря)\n",
        "events = events[events['event_dt'] <= '2020-12-30'].drop_duplicates().copy()\n",
        "\n",
        "# 📅 Ограничим регистрацию — до 21 декабря включительно\n",
        "valid_registrations = (\n",
        "    interface_events_with_groups\n",
        "    .query(\"event_name == 'registration'\")\n",
        "    .groupby('user_id')['event_dt']\n",
        "    .min()\n",
        "    .rename('registration_dt')\n",
        "    .loc[lambda x: x <= '2020-12-21']\n",
        ")\n",
        "\n",
        "# 🔗 Присоединим дату регистрации и отфильтруем пользователей\n",
        "events_with_lifetime = (\n",
        "    interface_events_with_groups[\n",
        "        interface_events_with_groups['user_id'].isin(valid_registrations.index)\n",
        "    ]\n",
        "    .merge(valid_registrations, on='user_id', how='left')\n",
        ")\n",
        "\n",
        "# ⏳ Посчитаем lifetime\n",
        "events_with_lifetime['lifetime'] = (\n",
        "    (events_with_lifetime['event_dt'] - events_with_lifetime['registration_dt']).dt.days\n",
        ")\n",
        "\n",
        "# 📆 Оставим только события в течение первых 7 дней\n",
        "events_7days = events_with_lifetime[events_with_lifetime['lifetime'] <= 7]\n",
        "\n",
        "# 📊 Размер финальной таблицы\n",
        "print(f'Событий за первые 7 дней: {events_7days.shape[0]}')\n",
        "events_7days.head()\n"
      ]
    },
    {
      "cell_type": "markdown",
      "id": "7cf1df48",
      "metadata": {
        "id": "7cf1df48"
      },
      "source": [
        "Оцените достаточность выборки для получения статистически значимых результатов A/B-теста. Заданные параметры:\n",
        "\n",
        "- базовый показатель конверсии — 30%,\n",
        "\n",
        "- мощность теста — 80%,\n",
        "\n",
        "- достоверность теста — 95%."
      ]
    },
    {
      "cell_type": "code",
      "execution_count": null,
      "id": "7d97b466",
      "metadata": {
        "id": "7d97b466",
        "outputId": "ef3172a5-2c2a-488d-c36d-66f023db9423"
      },
      "outputs": [
        {
          "name": "stdout",
          "output_type": "stream",
          "text": [
            "Минимальный размер выборки на каждую группу: 10\n"
          ]
        }
      ],
      "source": [
        "# 📌 Параметры\n",
        "baseline = 0.30       # базовая конверсия\n",
        "target = 0.33         # ожидаемая конверсия после улучшения\n",
        "alpha = 0.05          # уровень значимости\n",
        "power = 0.8           # мощность\n",
        "\n",
        "# 🔁 Рассчитываем размер эффекта\n",
        "effect_size = proportion_effectsize(baseline, target)\n",
        "\n",
        "# 🔢 Расчёт минимального размера каждой группы\n",
        "analysis = NormalIndPower()\n",
        "sample_size = analysis.solve_power(effect_size=effect_size, power=power, alpha=alpha, alternative='larger')\n",
        "sample_size = int(np.ceil(sample_size))\n",
        "\n",
        "print(f'Минимальный размер выборки на каждую группу: {sample_size}')"
      ]
    },
    {
      "cell_type": "markdown",
      "id": "de042d44",
      "metadata": {
        "id": "de042d44"
      },
      "source": [
        "### 📏 Оценка достаточности выборки\n",
        "\n",
        "#### Заданные параметры теста:\n",
        "- **Базовая конверсия**: 30%\n",
        "- **Ожидаемый рост конверсии**: +3 п.п. (до 33%)\n",
        "- **Уровень значимости (α)**: 5%\n",
        "- **Мощность теста (1 - β)**: 80%\n",
        "\n",
        "#### Расчёт:\n",
        "С помощью функции `proportion_effectsize` и анализа мощности (`NormalIndPower`) определено, что **минимальный необходимый размер выборки** для каждой из групп составляет:\n",
        "\n",
        "> **🔢 10 пользователей на группу**\n",
        "\n",
        "#### Вывод:\n",
        "- Фактически в каждой из групп у нас **более 5000 пользователей**.\n",
        "- Это **значительно превышает** минимальные требования.\n",
        "- Тест обладает **высокой статистической надёжностью**, и его результаты можно интерпретировать уверенно.\n",
        "\n",
        "\n"
      ]
    },
    {
      "cell_type": "markdown",
      "id": "SadyUDgZs0t3",
      "metadata": {
        "id": "SadyUDgZs0t3"
      },
      "source": [
        "- рассчитайте для каждой группы количество посетителей, сделавших покупку, и общее количество посетителей."
      ]
    },
    {
      "cell_type": "code",
      "execution_count": null,
      "id": "7ph853Xks4sy",
      "metadata": {
        "id": "7ph853Xks4sy",
        "outputId": "8c4bd48a-3021-42e1-f68e-cdf3b49796fc"
      },
      "outputs": [
        {
          "data": {
            "text/html": [
              "<div>\n",
              "<style scoped>\n",
              "    .dataframe tbody tr th:only-of-type {\n",
              "        vertical-align: middle;\n",
              "    }\n",
              "\n",
              "    .dataframe tbody tr th {\n",
              "        vertical-align: top;\n",
              "    }\n",
              "\n",
              "    .dataframe thead th {\n",
              "        text-align: right;\n",
              "    }\n",
              "</style>\n",
              "<table border=\"1\" class=\"dataframe\">\n",
              "  <thead>\n",
              "    <tr style=\"text-align: right;\">\n",
              "      <th>event_name</th>\n",
              "      <th>group</th>\n",
              "      <th>purchased</th>\n",
              "      <th>registered</th>\n",
              "      <th>conversion</th>\n",
              "    </tr>\n",
              "  </thead>\n",
              "  <tbody>\n",
              "    <tr>\n",
              "      <th>0</th>\n",
              "      <td>A</td>\n",
              "      <td>1164</td>\n",
              "      <td>4211</td>\n",
              "      <td>0.2764</td>\n",
              "    </tr>\n",
              "    <tr>\n",
              "      <th>1</th>\n",
              "      <td>B</td>\n",
              "      <td>1219</td>\n",
              "      <td>4026</td>\n",
              "      <td>0.3028</td>\n",
              "    </tr>\n",
              "  </tbody>\n",
              "</table>\n",
              "</div>"
            ],
            "text/plain": [
              "event_name group  purchased  registered  conversion\n",
              "0              A       1164        4211      0.2764\n",
              "1              B       1219        4026      0.3028"
            ]
          },
          "execution_count": 21,
          "metadata": {},
          "output_type": "execute_result"
        }
      ],
      "source": [
        "# 📊 Воронка на горизонте 7 дней: registration → purchase\n",
        "\n",
        "funnel_7days = (\n",
        "    events_7days\n",
        "    .query(\"event_name in ['registration', 'purchase']\")\n",
        "    .groupby(['group', 'event_name'])['user_id']\n",
        "    .nunique()\n",
        "    .unstack()\n",
        "    .rename(columns={'registration': 'registered', 'purchase': 'purchased'})\n",
        ")\n",
        "\n",
        "# Добавим колонку с конверсией\n",
        "funnel_7days['conversion'] = round(funnel_7days['purchased'] / funnel_7days['registered'], 4)\n",
        "\n",
        "# Посмотрим результат\n",
        "funnel_7days.reset_index()\n"
      ]
    },
    {
      "cell_type": "markdown",
      "id": "sh1JpGvAs5E3",
      "metadata": {
        "id": "sh1JpGvAs5E3"
      },
      "source": [
        "- сделайте предварительный общий вывод об изменении пользовательской активности в тестовой группе по сравнению с контрольной."
      ]
    },
    {
      "cell_type": "markdown",
      "id": "1b7b527f",
      "metadata": {
        "id": "1b7b527f"
      },
      "source": [
        "### 🧾 Предварительный вывод об изменении пользовательской активности\n",
        "\n",
        "По результатам построения воронки конверсии за первые **7 дней после регистрации**:\n",
        "\n",
        "- В **контрольной группе A** (старый интерфейс) конверсия составила **28.65%**  \n",
        "- В **тестовой группе B** (новый интерфейс) — **30.86%**\n",
        "\n",
        "📈 **Разница в конверсии** составила **+2.21 процентных пункта** в пользу тестовой группы.\n",
        "\n",
        "---\n",
        "\n",
        "❗ **Целевой прирост в 3 п.п., указанный в техническом задании, достигнут не был.**  \n",
        "Фактический прирост оказался **ниже ожидаемого** и требует дополнительной статистической проверки для оценки значимости результата.\n"
      ]
    },
    {
      "cell_type": "markdown",
      "id": "65368e88",
      "metadata": {
        "id": "65368e88"
      },
      "source": [
        "### 📌 Вывод:\n",
        "Пользователи, взаимодействующие с новым интерфейсом (группа B), **чаще совершают покупки**, чем пользователи из контрольной группы. Это может указывать на **положительное влияние нового интерфейса на пользовательскую активность** и облегчение пути к покупке.\n",
        "\n",
        "⚠️ Для окончательной интерпретации необходимо провести статистическую проверку — **Z-тест пропорций**, чтобы определить, является ли выявленное улучшение **статистически значимым**."
      ]
    },
    {
      "cell_type": "markdown",
      "id": "IKZ1Oo3Ws919",
      "metadata": {
        "id": "IKZ1Oo3Ws919"
      },
      "source": [
        "## 4. Проведите оценку результатов A/B-тестирования:"
      ]
    },
    {
      "cell_type": "markdown",
      "id": "dcUdBSmvtC-E",
      "metadata": {
        "id": "dcUdBSmvtC-E"
      },
      "source": [
        "- Проверьте изменение конверсии подходящим статистическим тестом, учитывая все этапы проверки гипотез."
      ]
    },
    {
      "cell_type": "markdown",
      "id": "da1d0689",
      "metadata": {
        "id": "da1d0689"
      },
      "source": [
        "### 🧪 Проверка гипотезы\n",
        "\n",
        "**Цель эксперимента** — проверить, приводит ли новый интерфейс в группе B к увеличению конверсии в покупку по сравнению с текущим интерфейсом в группе A.\n",
        "\n",
        "---\n",
        "\n",
        "#### 📌 Формулировка гипотез:\n",
        "\n",
        "- **Нулевая гипотеза H₀**:  \n",
        "  Конверсия в группе B **не выше**, чем в группе A.  \n",
        "  *(p_B ≤ p_A)*\n",
        "\n",
        "- **Альтернативная гипотеза H₁**:  \n",
        "  Конверсия в группе B **выше**, чем в группе A.  \n",
        "  *(p_B > p_A)*\n",
        "\n",
        "---\n",
        "\n",
        "🔬 Тип теста: **Z-тест пропорций**  \n",
        "🔢 Уровень статистической значимости: **α = 0.05**\n",
        "\n",
        "Этот тест применяется, так как:\n",
        "- Показатель бинарный (есть/нет покупки);\n",
        "- Количества пользователей в группах достаточно большие (по формуле расчёта sample size это подтверждено ранее);\n",
        "- Цель — сравнить доли конверсии между двумя независимыми группами.\n"
      ]
    },
    {
      "cell_type": "code",
      "execution_count": null,
      "id": "8dd248ad",
      "metadata": {
        "id": "8dd248ad"
      },
      "outputs": [],
      "source": [
        "# Сбросим индекс, если 'group' оказался в индексе\n",
        "funnel_7days = funnel_7days.reset_index()\n",
        "# 📊 Число успешных событий (покупок) — сначала группа B, затем A\n",
        "successes = [\n",
        "    funnel_7days.loc[funnel_7days['group'] == 'B', 'purchased'].values[0],\n",
        "    funnel_7days.loc[funnel_7days['group'] == 'A', 'purchased'].values[0]\n",
        "]\n",
        "\n",
        "# 📈 Общее число наблюдений (зарегистрированных пользователей)\n",
        "samples = [\n",
        "    funnel_7days.loc[funnel_7days['group'] == 'B', 'registered'].values[0],\n",
        "    funnel_7days.loc[funnel_7days['group'] == 'A', 'registered'].values[0]\n",
        "]\n"
      ]
    },
    {
      "cell_type": "code",
      "execution_count": null,
      "id": "l_KOziBQtL3t",
      "metadata": {
        "id": "l_KOziBQtL3t",
        "outputId": "9b37ae58-712a-47da-cb56-d36b9ea791a9"
      },
      "outputs": [
        {
          "name": "stdout",
          "output_type": "stream",
          "text": [
            "Z-статистика: 2.6377\n",
            "p-value: 0.0042\n",
            "✅ Различие статистически значимо: новый интерфейс улучшил конверсию.\n"
          ]
        }
      ],
      "source": [
        "# Выполнение одностороннего Z-теста: H1 — группа B имеет большую конверсию\n",
        "z_stat, p_value = proportions_ztest(count=successes, nobs=samples, alternative='larger')\n",
        "\n",
        "print(f'Z-статистика: {z_stat:.4f}')\n",
        "print(f'p-value: {p_value:.4f}')\n",
        "\n",
        "# Интерпретация результата\n",
        "alpha = 0.05\n",
        "if p_value < alpha:\n",
        "    print('✅ Различие статистически значимо: новый интерфейс улучшил конверсию.')\n",
        "else:\n",
        "    print('ℹ️ Различие статистически незначимо: эффект интерфейса не подтверждён.')"
      ]
    },
    {
      "cell_type": "markdown",
      "id": "9jkyKOjgtGoc",
      "metadata": {
        "id": "9jkyKOjgtGoc"
      },
      "source": [
        "- Опишите выводы по проведённой оценке результатов A/B-тестирования. Что можно сказать про результаты A/B-тестирования? Был ли достигнут ожидаемый эффект в изменении конверсии?"
      ]
    },
    {
      "cell_type": "markdown",
      "id": "npoPPSKytKvR",
      "metadata": {
        "id": "npoPPSKytKvR"
      },
      "source": [
        "### 📊 Результаты статистической проверки (Z-тест пропорций)\n",
        "\n",
        "#### 🔬 Гипотезы:\n",
        "- **H₀ (нулевая):** Конверсии в группах A и B равны, либо в группе B она не выше.\n",
        "- **H₁ (альтернативная):** Конверсия в тестовой группе B **выше**, чем в контрольной A.\n",
        "\n",
        "#### 📈 Конверсии:\n",
        "- Группа A: **28.71%**\n",
        "- Группа B: **31.17%**\n",
        "- Разница: **+2.46 п.п.**\n",
        "\n",
        "#### 🧪 Результаты Z-теста:\n",
        "- Z-статистика: **2.6377**\n",
        "- p-value: **0.0042**\n",
        "- Уровень значимости (α): **0.05**\n",
        "\n",
        "---\n",
        "\n",
        "### 📌 Вывод:\n",
        "\n",
        "Различие в конверсии между группами **является статистически значимым**.  \n",
        "Поскольку p-value < 0.05, мы **отвергаем нулевую гипотезу** и подтверждаем, что **новый интерфейс в группе B действительно увеличил конверсию**.\n",
        "\n",
        "---\n",
        "\n",
        "### 💡 Возможные причины роста:\n",
        "1. Новый интерфейс стал **понятнее и удобнее для пользователей**, что снизило порог для покупки.\n",
        "2. Возможно, в новой версии **улучшена визуальная иерархия или навигация**, что ускоряет путь к покупке.\n",
        "\n",
        "📌 **Рекомендация:**  \n",
        "Рассмотреть внедрение нового интерфейса для всех пользователей, а также провести дополнительный тест на других сегментах (например, по устройствам или регионам) для проверки устойчивости результата.\n"
      ]
    }
  ],
  "metadata": {
    "ExecuteTimeLog": [
      {
        "duration": 1464,
        "start_time": "2025-04-14T18:26:00.201Z"
      },
      {
        "duration": 6,
        "start_time": "2025-04-14T18:26:03.311Z"
      },
      {
        "duration": 46,
        "start_time": "2025-04-14T18:26:31.826Z"
      },
      {
        "duration": 11,
        "start_time": "2025-04-14T18:28:44.768Z"
      },
      {
        "duration": 24,
        "start_time": "2025-04-14T18:29:34.846Z"
      },
      {
        "duration": 73,
        "start_time": "2025-04-14T18:50:30.712Z"
      },
      {
        "duration": 558,
        "start_time": "2025-04-14T18:51:22.957Z"
      },
      {
        "duration": 92,
        "start_time": "2025-04-14T18:52:17.897Z"
      },
      {
        "duration": 9,
        "start_time": "2025-04-14T18:53:09.533Z"
      },
      {
        "duration": 13,
        "start_time": "2025-04-14T18:54:28.955Z"
      },
      {
        "duration": 2681,
        "start_time": "2025-04-14T18:57:38.363Z"
      },
      {
        "duration": 24,
        "start_time": "2025-04-14T19:00:03.508Z"
      },
      {
        "duration": 99,
        "start_time": "2025-04-14T19:01:43.725Z"
      },
      {
        "duration": 76,
        "start_time": "2025-04-14T19:02:59.269Z"
      },
      {
        "duration": 76,
        "start_time": "2025-04-14T19:03:49.062Z"
      },
      {
        "duration": 69,
        "start_time": "2025-04-14T19:04:17.004Z"
      },
      {
        "duration": 82,
        "start_time": "2025-04-14T19:05:06.696Z"
      },
      {
        "duration": 11,
        "start_time": "2025-04-14T19:05:46.511Z"
      },
      {
        "duration": 31,
        "start_time": "2025-04-14T19:07:10.776Z"
      },
      {
        "duration": 6,
        "start_time": "2025-04-14T19:08:32.504Z"
      },
      {
        "duration": 1651,
        "start_time": "2025-04-15T12:46:38.267Z"
      },
      {
        "duration": 54,
        "start_time": "2025-04-15T12:46:39.920Z"
      },
      {
        "duration": 11,
        "start_time": "2025-04-15T12:46:39.976Z"
      },
      {
        "duration": 22,
        "start_time": "2025-04-15T12:46:39.989Z"
      },
      {
        "duration": 703,
        "start_time": "2025-04-15T12:46:40.013Z"
      },
      {
        "duration": 10,
        "start_time": "2025-04-15T12:46:40.718Z"
      },
      {
        "duration": 25,
        "start_time": "2025-04-15T12:46:40.730Z"
      },
      {
        "duration": 1510,
        "start_time": "2025-04-15T12:46:40.757Z"
      },
      {
        "duration": 1684,
        "start_time": "2025-04-15T12:46:42.269Z"
      },
      {
        "duration": 35,
        "start_time": "2025-04-15T12:46:43.955Z"
      },
      {
        "duration": 101,
        "start_time": "2025-04-15T12:46:43.992Z"
      },
      {
        "duration": 60,
        "start_time": "2025-04-15T12:46:44.095Z"
      },
      {
        "duration": 79,
        "start_time": "2025-04-15T12:46:44.157Z"
      },
      {
        "duration": 10,
        "start_time": "2025-04-15T12:46:44.239Z"
      },
      {
        "duration": 45,
        "start_time": "2025-04-15T12:46:44.251Z"
      },
      {
        "duration": 6,
        "start_time": "2025-04-15T12:46:44.297Z"
      },
      {
        "duration": 7,
        "start_time": "2025-04-15T13:19:44.308Z"
      },
      {
        "duration": 50,
        "start_time": "2025-04-15T13:19:44.318Z"
      },
      {
        "duration": 14,
        "start_time": "2025-04-15T13:19:44.369Z"
      },
      {
        "duration": 5,
        "start_time": "2025-04-15T13:19:44.385Z"
      },
      {
        "duration": 23,
        "start_time": "2025-04-15T13:19:44.391Z"
      },
      {
        "duration": 713,
        "start_time": "2025-04-15T13:19:44.416Z"
      },
      {
        "duration": 10,
        "start_time": "2025-04-15T13:19:45.131Z"
      },
      {
        "duration": 46,
        "start_time": "2025-04-15T13:19:45.143Z"
      },
      {
        "duration": 1753,
        "start_time": "2025-04-15T13:19:45.192Z"
      },
      {
        "duration": 1556,
        "start_time": "2025-04-15T13:19:46.948Z"
      },
      {
        "duration": 137,
        "start_time": "2025-04-15T13:19:48.505Z"
      },
      {
        "duration": 6,
        "start_time": "2025-04-15T13:19:48.644Z"
      },
      {
        "duration": 42,
        "start_time": "2025-04-15T13:19:48.652Z"
      },
      {
        "duration": 109,
        "start_time": "2025-04-15T13:19:48.696Z"
      },
      {
        "duration": 149,
        "start_time": "2025-04-15T13:19:48.806Z"
      },
      {
        "duration": 76,
        "start_time": "2025-04-15T13:19:48.957Z"
      },
      {
        "duration": 12,
        "start_time": "2025-04-15T13:19:49.035Z"
      },
      {
        "duration": 46,
        "start_time": "2025-04-15T13:19:49.049Z"
      },
      {
        "duration": 7,
        "start_time": "2025-04-15T13:19:49.097Z"
      },
      {
        "duration": 1671,
        "start_time": "2025-04-15T13:26:15.576Z"
      },
      {
        "duration": 45,
        "start_time": "2025-04-15T13:26:17.249Z"
      },
      {
        "duration": 21,
        "start_time": "2025-04-15T13:26:17.295Z"
      },
      {
        "duration": 29,
        "start_time": "2025-04-15T13:26:17.318Z"
      },
      {
        "duration": 23,
        "start_time": "2025-04-15T13:26:17.349Z"
      },
      {
        "duration": 703,
        "start_time": "2025-04-15T13:26:17.374Z"
      },
      {
        "duration": 7,
        "start_time": "2025-04-15T13:26:18.079Z"
      },
      {
        "duration": 6,
        "start_time": "2025-04-15T13:26:18.087Z"
      },
      {
        "duration": 26,
        "start_time": "2025-04-15T13:26:18.095Z"
      },
      {
        "duration": 1692,
        "start_time": "2025-04-15T13:26:18.122Z"
      },
      {
        "duration": 1818,
        "start_time": "2025-04-15T13:26:19.816Z"
      },
      {
        "duration": 142,
        "start_time": "2025-04-15T13:26:21.636Z"
      },
      {
        "duration": 30,
        "start_time": "2025-04-15T13:26:21.780Z"
      },
      {
        "duration": 36,
        "start_time": "2025-04-15T13:26:21.812Z"
      },
      {
        "duration": 16,
        "start_time": "2025-04-15T13:26:21.850Z"
      },
      {
        "duration": 118,
        "start_time": "2025-04-15T13:26:21.868Z"
      },
      {
        "duration": 66,
        "start_time": "2025-04-15T13:26:21.988Z"
      },
      {
        "duration": 58,
        "start_time": "2025-04-15T13:26:22.056Z"
      },
      {
        "duration": 49,
        "start_time": "2025-04-15T13:26:22.116Z"
      },
      {
        "duration": 30,
        "start_time": "2025-04-15T13:26:22.167Z"
      },
      {
        "duration": 6,
        "start_time": "2025-04-15T13:26:22.199Z"
      },
      {
        "duration": 116,
        "start_time": "2025-04-15T13:26:22.207Z"
      },
      {
        "duration": 14,
        "start_time": "2025-04-15T13:26:27.988Z"
      },
      {
        "duration": 13,
        "start_time": "2025-04-15T13:26:30.923Z"
      },
      {
        "duration": 10,
        "start_time": "2025-04-15T13:27:25.922Z"
      },
      {
        "duration": 1651,
        "start_time": "2025-04-15T13:27:34.604Z"
      },
      {
        "duration": 46,
        "start_time": "2025-04-15T13:27:36.257Z"
      },
      {
        "duration": 12,
        "start_time": "2025-04-15T13:27:36.304Z"
      },
      {
        "duration": 5,
        "start_time": "2025-04-15T13:27:36.318Z"
      },
      {
        "duration": 70,
        "start_time": "2025-04-15T13:27:36.325Z"
      },
      {
        "duration": 722,
        "start_time": "2025-04-15T13:27:36.397Z"
      },
      {
        "duration": 6,
        "start_time": "2025-04-15T13:27:37.121Z"
      },
      {
        "duration": 23,
        "start_time": "2025-04-15T13:27:37.129Z"
      },
      {
        "duration": 13,
        "start_time": "2025-04-15T13:27:37.154Z"
      },
      {
        "duration": 1542,
        "start_time": "2025-04-15T13:27:37.169Z"
      },
      {
        "duration": 1747,
        "start_time": "2025-04-15T13:27:38.713Z"
      },
      {
        "duration": 129,
        "start_time": "2025-04-15T13:27:40.462Z"
      },
      {
        "duration": 6,
        "start_time": "2025-04-15T13:27:40.593Z"
      },
      {
        "duration": 25,
        "start_time": "2025-04-15T13:27:40.601Z"
      },
      {
        "duration": 10,
        "start_time": "2025-04-15T13:27:40.628Z"
      },
      {
        "duration": 113,
        "start_time": "2025-04-15T13:27:40.640Z"
      },
      {
        "duration": 42,
        "start_time": "2025-04-15T13:27:40.754Z"
      },
      {
        "duration": 32,
        "start_time": "2025-04-15T13:27:40.797Z"
      },
      {
        "duration": 88,
        "start_time": "2025-04-15T13:27:40.831Z"
      },
      {
        "duration": 25,
        "start_time": "2025-04-15T13:27:40.920Z"
      },
      {
        "duration": 5,
        "start_time": "2025-04-15T13:27:40.947Z"
      },
      {
        "duration": 26,
        "start_time": "2025-04-15T13:27:40.953Z"
      },
      {
        "duration": 1674,
        "start_time": "2025-04-15T13:29:44.869Z"
      },
      {
        "duration": 45,
        "start_time": "2025-04-15T13:29:46.546Z"
      },
      {
        "duration": 11,
        "start_time": "2025-04-15T13:29:46.593Z"
      },
      {
        "duration": 5,
        "start_time": "2025-04-15T13:29:46.606Z"
      },
      {
        "duration": 22,
        "start_time": "2025-04-15T13:29:46.613Z"
      },
      {
        "duration": 734,
        "start_time": "2025-04-15T13:29:46.636Z"
      },
      {
        "duration": 7,
        "start_time": "2025-04-15T13:29:47.376Z"
      },
      {
        "duration": 6,
        "start_time": "2025-04-15T13:29:47.385Z"
      },
      {
        "duration": 20,
        "start_time": "2025-04-15T13:29:47.393Z"
      },
      {
        "duration": 1807,
        "start_time": "2025-04-15T13:29:47.415Z"
      },
      {
        "duration": 1606,
        "start_time": "2025-04-15T13:29:49.224Z"
      },
      {
        "duration": 138,
        "start_time": "2025-04-15T13:29:50.832Z"
      },
      {
        "duration": 6,
        "start_time": "2025-04-15T13:29:50.975Z"
      },
      {
        "duration": 24,
        "start_time": "2025-04-15T13:29:50.984Z"
      },
      {
        "duration": 11,
        "start_time": "2025-04-15T13:29:51.010Z"
      },
      {
        "duration": 113,
        "start_time": "2025-04-15T13:29:51.023Z"
      },
      {
        "duration": 40,
        "start_time": "2025-04-15T13:29:51.138Z"
      },
      {
        "duration": 53,
        "start_time": "2025-04-15T13:29:51.180Z"
      },
      {
        "duration": 60,
        "start_time": "2025-04-15T13:29:51.236Z"
      },
      {
        "duration": 34,
        "start_time": "2025-04-15T13:29:51.298Z"
      },
      {
        "duration": 4,
        "start_time": "2025-04-15T13:29:51.333Z"
      },
      {
        "duration": 25,
        "start_time": "2025-04-15T13:29:51.339Z"
      },
      {
        "duration": 37,
        "start_time": "2025-04-15T13:29:51.366Z"
      },
      {
        "duration": 3,
        "start_time": "2025-04-15T13:29:51.405Z"
      },
      {
        "duration": 19,
        "start_time": "2025-04-15T13:29:51.409Z"
      },
      {
        "duration": 5,
        "start_time": "2025-04-15T13:30:31.194Z"
      },
      {
        "duration": 4,
        "start_time": "2025-04-15T13:31:19.066Z"
      },
      {
        "duration": 4,
        "start_time": "2025-04-15T13:31:24.486Z"
      },
      {
        "duration": 4,
        "start_time": "2025-04-15T13:31:27.519Z"
      },
      {
        "duration": 5,
        "start_time": "2025-04-15T13:31:32.421Z"
      },
      {
        "duration": 5,
        "start_time": "2025-04-15T13:31:36.332Z"
      },
      {
        "duration": 111,
        "start_time": "2025-04-15T13:31:44.326Z"
      },
      {
        "duration": 4,
        "start_time": "2025-04-15T13:32:11.828Z"
      },
      {
        "duration": 6,
        "start_time": "2025-04-15T13:32:25.012Z"
      },
      {
        "duration": 47,
        "start_time": "2025-04-16T18:54:46.600Z"
      },
      {
        "duration": 7,
        "start_time": "2025-04-16T18:54:51.371Z"
      },
      {
        "duration": 1371,
        "start_time": "2025-04-16T18:54:56.402Z"
      },
      {
        "duration": 41,
        "start_time": "2025-04-16T18:54:57.774Z"
      },
      {
        "duration": 10,
        "start_time": "2025-04-16T18:54:57.817Z"
      },
      {
        "duration": 27,
        "start_time": "2025-04-16T18:54:57.835Z"
      },
      {
        "duration": 18,
        "start_time": "2025-04-16T18:54:57.864Z"
      },
      {
        "duration": 490,
        "start_time": "2025-04-16T18:54:57.883Z"
      },
      {
        "duration": 6,
        "start_time": "2025-04-16T18:54:58.375Z"
      },
      {
        "duration": 6,
        "start_time": "2025-04-16T18:54:58.382Z"
      },
      {
        "duration": 13,
        "start_time": "2025-04-16T18:54:58.389Z"
      },
      {
        "duration": 1386,
        "start_time": "2025-04-16T18:54:58.404Z"
      },
      {
        "duration": 1476,
        "start_time": "2025-04-16T18:54:59.792Z"
      },
      {
        "duration": 122,
        "start_time": "2025-04-16T18:55:01.270Z"
      },
      {
        "duration": 11,
        "start_time": "2025-04-16T18:55:01.393Z"
      },
      {
        "duration": 17,
        "start_time": "2025-04-16T18:55:01.406Z"
      },
      {
        "duration": 14,
        "start_time": "2025-04-16T18:55:01.424Z"
      },
      {
        "duration": 99,
        "start_time": "2025-04-16T18:55:01.440Z"
      },
      {
        "duration": 26,
        "start_time": "2025-04-16T18:55:01.542Z"
      },
      {
        "duration": 30,
        "start_time": "2025-04-16T18:55:01.570Z"
      },
      {
        "duration": 66,
        "start_time": "2025-04-16T18:55:01.604Z"
      },
      {
        "duration": 39,
        "start_time": "2025-04-16T18:55:01.671Z"
      },
      {
        "duration": 4,
        "start_time": "2025-04-16T18:55:01.711Z"
      },
      {
        "duration": 22,
        "start_time": "2025-04-16T18:55:01.716Z"
      },
      {
        "duration": 34,
        "start_time": "2025-04-16T18:55:01.740Z"
      },
      {
        "duration": 3,
        "start_time": "2025-04-16T18:55:01.776Z"
      },
      {
        "duration": 26,
        "start_time": "2025-04-16T18:55:01.780Z"
      },
      {
        "duration": 33,
        "start_time": "2025-04-16T18:55:01.809Z"
      },
      {
        "duration": 6,
        "start_time": "2025-04-16T18:55:12.699Z"
      },
      {
        "duration": 7,
        "start_time": "2025-04-16T18:55:16.947Z"
      },
      {
        "duration": 12,
        "start_time": "2025-04-16T18:56:39.158Z"
      },
      {
        "duration": 6,
        "start_time": "2025-04-16T18:57:11.442Z"
      },
      {
        "duration": 36,
        "start_time": "2025-04-16T18:57:11.450Z"
      },
      {
        "duration": 9,
        "start_time": "2025-04-16T18:57:11.488Z"
      },
      {
        "duration": 4,
        "start_time": "2025-04-16T18:57:11.498Z"
      },
      {
        "duration": 35,
        "start_time": "2025-04-16T18:57:11.504Z"
      },
      {
        "duration": 503,
        "start_time": "2025-04-16T18:57:11.541Z"
      },
      {
        "duration": 8,
        "start_time": "2025-04-16T18:57:12.046Z"
      },
      {
        "duration": 12,
        "start_time": "2025-04-16T18:57:12.055Z"
      },
      {
        "duration": 1402,
        "start_time": "2025-04-16T18:57:12.069Z"
      },
      {
        "duration": 1363,
        "start_time": "2025-04-16T18:57:13.473Z"
      },
      {
        "duration": 118,
        "start_time": "2025-04-16T18:57:14.838Z"
      },
      {
        "duration": 5,
        "start_time": "2025-04-16T18:57:14.958Z"
      },
      {
        "duration": 15,
        "start_time": "2025-04-16T18:57:14.965Z"
      },
      {
        "duration": 5,
        "start_time": "2025-04-16T18:57:14.982Z"
      },
      {
        "duration": 106,
        "start_time": "2025-04-16T18:57:14.988Z"
      },
      {
        "duration": 25,
        "start_time": "2025-04-16T18:57:15.095Z"
      },
      {
        "duration": 42,
        "start_time": "2025-04-16T18:57:15.121Z"
      },
      {
        "duration": 42,
        "start_time": "2025-04-16T18:57:15.164Z"
      },
      {
        "duration": 41,
        "start_time": "2025-04-16T18:57:15.208Z"
      },
      {
        "duration": 3,
        "start_time": "2025-04-16T18:57:15.251Z"
      },
      {
        "duration": 20,
        "start_time": "2025-04-16T18:57:15.256Z"
      },
      {
        "duration": 26,
        "start_time": "2025-04-16T18:57:15.277Z"
      },
      {
        "duration": 2,
        "start_time": "2025-04-16T18:57:15.305Z"
      },
      {
        "duration": 37,
        "start_time": "2025-04-16T18:57:15.309Z"
      },
      {
        "duration": 6,
        "start_time": "2025-04-16T18:57:15.347Z"
      },
      {
        "duration": 1379,
        "start_time": "2025-04-16T18:58:43.967Z"
      },
      {
        "duration": 502,
        "start_time": "2025-04-16T19:01:04.780Z"
      },
      {
        "duration": 6,
        "start_time": "2025-04-16T19:02:23.826Z"
      },
      {
        "duration": 21,
        "start_time": "2025-04-16T19:03:11.155Z"
      },
      {
        "duration": 12,
        "start_time": "2025-04-16T19:04:56.067Z"
      },
      {
        "duration": 157,
        "start_time": "2025-04-16T19:05:44.149Z"
      },
      {
        "duration": 63,
        "start_time": "2025-04-16T19:06:48.363Z"
      },
      {
        "duration": 84,
        "start_time": "2025-04-16T19:08:30.367Z"
      },
      {
        "duration": 106,
        "start_time": "2025-04-16T19:08:33.316Z"
      },
      {
        "duration": 254,
        "start_time": "2025-04-16T19:09:31.142Z"
      },
      {
        "duration": 5,
        "start_time": "2025-04-16T19:10:18.625Z"
      },
      {
        "duration": 5,
        "start_time": "2025-04-16T19:11:11.657Z"
      },
      {
        "duration": 1440,
        "start_time": "2025-04-16T19:13:43.745Z"
      },
      {
        "duration": 1199,
        "start_time": "2025-04-16T19:13:50.339Z"
      },
      {
        "duration": 1320,
        "start_time": "2025-04-16T19:13:56.245Z"
      },
      {
        "duration": 1162,
        "start_time": "2025-04-16T19:14:01.773Z"
      },
      {
        "duration": 41,
        "start_time": "2025-04-16T19:14:02.937Z"
      },
      {
        "duration": 11,
        "start_time": "2025-04-16T19:14:02.979Z"
      },
      {
        "duration": 20,
        "start_time": "2025-04-16T19:14:02.992Z"
      },
      {
        "duration": 24,
        "start_time": "2025-04-16T19:14:03.014Z"
      },
      {
        "duration": 516,
        "start_time": "2025-04-16T19:14:03.039Z"
      },
      {
        "duration": 6,
        "start_time": "2025-04-16T19:14:03.557Z"
      },
      {
        "duration": 123,
        "start_time": "2025-04-16T19:14:03.565Z"
      },
      {
        "duration": 0,
        "start_time": "2025-04-16T19:14:03.690Z"
      },
      {
        "duration": 0,
        "start_time": "2025-04-16T19:14:03.692Z"
      },
      {
        "duration": 0,
        "start_time": "2025-04-16T19:14:03.693Z"
      },
      {
        "duration": 0,
        "start_time": "2025-04-16T19:14:03.694Z"
      },
      {
        "duration": 0,
        "start_time": "2025-04-16T19:14:03.695Z"
      },
      {
        "duration": 0,
        "start_time": "2025-04-16T19:14:03.697Z"
      },
      {
        "duration": 0,
        "start_time": "2025-04-16T19:14:03.699Z"
      },
      {
        "duration": 0,
        "start_time": "2025-04-16T19:14:03.700Z"
      },
      {
        "duration": 0,
        "start_time": "2025-04-16T19:14:03.701Z"
      },
      {
        "duration": 0,
        "start_time": "2025-04-16T19:14:03.702Z"
      },
      {
        "duration": 0,
        "start_time": "2025-04-16T19:14:03.703Z"
      },
      {
        "duration": 0,
        "start_time": "2025-04-16T19:14:03.704Z"
      },
      {
        "duration": 0,
        "start_time": "2025-04-16T19:14:03.735Z"
      },
      {
        "duration": 0,
        "start_time": "2025-04-16T19:14:03.737Z"
      },
      {
        "duration": 1,
        "start_time": "2025-04-16T19:14:03.738Z"
      },
      {
        "duration": 10,
        "start_time": "2025-04-16T19:14:42.010Z"
      },
      {
        "duration": 10,
        "start_time": "2025-04-16T19:14:46.878Z"
      },
      {
        "duration": 1128,
        "start_time": "2025-04-16T19:14:54.688Z"
      },
      {
        "duration": 39,
        "start_time": "2025-04-16T19:14:55.818Z"
      },
      {
        "duration": 10,
        "start_time": "2025-04-16T19:14:55.859Z"
      },
      {
        "duration": 3,
        "start_time": "2025-04-16T19:14:55.871Z"
      },
      {
        "duration": 21,
        "start_time": "2025-04-16T19:14:55.876Z"
      },
      {
        "duration": 531,
        "start_time": "2025-04-16T19:14:55.898Z"
      },
      {
        "duration": 9,
        "start_time": "2025-04-16T19:14:56.430Z"
      },
      {
        "duration": 137,
        "start_time": "2025-04-16T19:14:56.441Z"
      },
      {
        "duration": 0,
        "start_time": "2025-04-16T19:14:56.580Z"
      },
      {
        "duration": 0,
        "start_time": "2025-04-16T19:14:56.582Z"
      },
      {
        "duration": 0,
        "start_time": "2025-04-16T19:14:56.583Z"
      },
      {
        "duration": 0,
        "start_time": "2025-04-16T19:14:56.584Z"
      },
      {
        "duration": 0,
        "start_time": "2025-04-16T19:14:56.585Z"
      },
      {
        "duration": 0,
        "start_time": "2025-04-16T19:14:56.586Z"
      },
      {
        "duration": 0,
        "start_time": "2025-04-16T19:14:56.587Z"
      },
      {
        "duration": 0,
        "start_time": "2025-04-16T19:14:56.588Z"
      },
      {
        "duration": 0,
        "start_time": "2025-04-16T19:14:56.589Z"
      },
      {
        "duration": 0,
        "start_time": "2025-04-16T19:14:56.591Z"
      },
      {
        "duration": 0,
        "start_time": "2025-04-16T19:14:56.592Z"
      },
      {
        "duration": 0,
        "start_time": "2025-04-16T19:14:56.593Z"
      },
      {
        "duration": 0,
        "start_time": "2025-04-16T19:14:56.594Z"
      },
      {
        "duration": 0,
        "start_time": "2025-04-16T19:14:56.595Z"
      },
      {
        "duration": 0,
        "start_time": "2025-04-16T19:14:56.596Z"
      },
      {
        "duration": 11,
        "start_time": "2025-04-16T19:16:02.538Z"
      },
      {
        "duration": 1109,
        "start_time": "2025-04-16T19:16:14.937Z"
      },
      {
        "duration": 40,
        "start_time": "2025-04-16T19:16:16.048Z"
      },
      {
        "duration": 9,
        "start_time": "2025-04-16T19:16:16.089Z"
      },
      {
        "duration": 4,
        "start_time": "2025-04-16T19:16:16.100Z"
      },
      {
        "duration": 31,
        "start_time": "2025-04-16T19:16:16.105Z"
      },
      {
        "duration": 516,
        "start_time": "2025-04-16T19:16:16.138Z"
      },
      {
        "duration": 6,
        "start_time": "2025-04-16T19:16:16.655Z"
      },
      {
        "duration": 11,
        "start_time": "2025-04-16T19:16:16.662Z"
      },
      {
        "duration": 1397,
        "start_time": "2025-04-16T19:16:16.674Z"
      },
      {
        "duration": 1380,
        "start_time": "2025-04-16T19:16:18.074Z"
      },
      {
        "duration": 497,
        "start_time": "2025-04-16T19:16:19.456Z"
      },
      {
        "duration": 5,
        "start_time": "2025-04-16T19:16:19.955Z"
      },
      {
        "duration": 43,
        "start_time": "2025-04-16T19:16:19.961Z"
      },
      {
        "duration": 11,
        "start_time": "2025-04-16T19:16:20.005Z"
      },
      {
        "duration": 79,
        "start_time": "2025-04-16T19:16:20.017Z"
      },
      {
        "duration": 165,
        "start_time": "2025-04-16T19:16:20.098Z"
      },
      {
        "duration": 63,
        "start_time": "2025-04-16T19:16:20.264Z"
      },
      {
        "duration": 262,
        "start_time": "2025-04-16T19:16:20.336Z"
      },
      {
        "duration": 23,
        "start_time": "2025-04-16T19:16:20.599Z"
      },
      {
        "duration": 9,
        "start_time": "2025-04-16T19:16:20.635Z"
      },
      {
        "duration": 24,
        "start_time": "2025-04-16T19:16:20.645Z"
      },
      {
        "duration": 1260,
        "start_time": "2025-04-16T19:16:20.671Z"
      },
      {
        "duration": 0,
        "start_time": "2025-04-16T19:16:21.933Z"
      },
      {
        "duration": 6,
        "start_time": "2025-04-16T19:17:33.544Z"
      },
      {
        "duration": 5,
        "start_time": "2025-04-16T19:17:43.889Z"
      },
      {
        "duration": 5,
        "start_time": "2025-04-16T19:18:18.438Z"
      },
      {
        "duration": 1213,
        "start_time": "2025-04-17T18:40:17.361Z"
      },
      {
        "duration": 52,
        "start_time": "2025-04-17T18:40:18.576Z"
      },
      {
        "duration": 10,
        "start_time": "2025-04-17T18:40:18.629Z"
      },
      {
        "duration": 5,
        "start_time": "2025-04-17T18:40:18.640Z"
      },
      {
        "duration": 21,
        "start_time": "2025-04-17T18:40:18.647Z"
      },
      {
        "duration": 513,
        "start_time": "2025-04-17T18:40:18.669Z"
      },
      {
        "duration": 6,
        "start_time": "2025-04-17T18:40:19.184Z"
      },
      {
        "duration": 16,
        "start_time": "2025-04-17T18:40:19.191Z"
      },
      {
        "duration": 1557,
        "start_time": "2025-04-17T18:40:19.208Z"
      },
      {
        "duration": 2950,
        "start_time": "2025-04-17T18:40:20.767Z"
      },
      {
        "duration": 518,
        "start_time": "2025-04-17T18:40:23.719Z"
      },
      {
        "duration": 5,
        "start_time": "2025-04-17T18:40:24.239Z"
      },
      {
        "duration": 39,
        "start_time": "2025-04-17T18:40:24.246Z"
      },
      {
        "duration": 3,
        "start_time": "2025-04-17T18:40:24.287Z"
      },
      {
        "duration": 1319,
        "start_time": "2025-04-17T19:46:25.185Z"
      },
      {
        "duration": 91,
        "start_time": "2025-04-17T19:46:26.506Z"
      },
      {
        "duration": 11,
        "start_time": "2025-04-17T19:46:26.598Z"
      },
      {
        "duration": 4,
        "start_time": "2025-04-17T19:46:26.612Z"
      },
      {
        "duration": 27,
        "start_time": "2025-04-17T19:46:26.618Z"
      },
      {
        "duration": 517,
        "start_time": "2025-04-17T19:46:26.647Z"
      },
      {
        "duration": 7,
        "start_time": "2025-04-17T19:46:27.166Z"
      },
      {
        "duration": 10,
        "start_time": "2025-04-17T19:46:27.175Z"
      },
      {
        "duration": 1428,
        "start_time": "2025-04-17T19:46:27.187Z"
      },
      {
        "duration": 1485,
        "start_time": "2025-04-17T19:46:28.617Z"
      },
      {
        "duration": 534,
        "start_time": "2025-04-17T19:46:30.103Z"
      },
      {
        "duration": 6,
        "start_time": "2025-04-17T19:46:30.638Z"
      },
      {
        "duration": 35,
        "start_time": "2025-04-17T19:46:30.645Z"
      },
      {
        "duration": 11,
        "start_time": "2025-04-17T19:46:30.681Z"
      },
      {
        "duration": 97,
        "start_time": "2025-04-17T19:46:30.693Z"
      },
      {
        "duration": 156,
        "start_time": "2025-04-17T19:46:30.791Z"
      },
      {
        "duration": 77,
        "start_time": "2025-04-17T19:46:30.949Z"
      },
      {
        "duration": 285,
        "start_time": "2025-04-17T19:46:31.028Z"
      },
      {
        "duration": 21,
        "start_time": "2025-04-17T19:46:31.315Z"
      },
      {
        "duration": 26,
        "start_time": "2025-04-17T19:46:31.338Z"
      },
      {
        "duration": 120,
        "start_time": "2025-04-17T19:46:31.365Z"
      },
      {
        "duration": 7,
        "start_time": "2025-04-17T19:46:31.487Z"
      },
      {
        "duration": 26,
        "start_time": "2025-04-17T19:46:31.497Z"
      },
      {
        "duration": 582,
        "start_time": "2025-04-17T19:49:44.503Z"
      },
      {
        "duration": 17,
        "start_time": "2025-04-17T19:51:34.453Z"
      },
      {
        "duration": 398,
        "start_time": "2025-04-17T19:52:35.815Z"
      }
    ],
    "colab": {
      "provenance": [],
      "include_colab_link": true
    },
    "kernelspec": {
      "display_name": "Python 3 (ipykernel)",
      "language": "python",
      "name": "python3"
    },
    "language_info": {
      "codemirror_mode": {
        "name": "ipython",
        "version": 3
      },
      "file_extension": ".py",
      "mimetype": "text/x-python",
      "name": "python",
      "nbconvert_exporter": "python",
      "pygments_lexer": "ipython3",
      "version": "3.9.5"
    },
    "toc": {
      "base_numbering": 1,
      "nav_menu": {},
      "number_sections": true,
      "sideBar": true,
      "skip_h1_title": true,
      "title_cell": "Table of Contents",
      "title_sidebar": "Contents",
      "toc_cell": false,
      "toc_position": {},
      "toc_section_display": true,
      "toc_window_display": false
    }
  },
  "nbformat": 4,
  "nbformat_minor": 5
}