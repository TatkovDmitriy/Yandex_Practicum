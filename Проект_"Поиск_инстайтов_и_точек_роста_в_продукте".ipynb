{
  "cells": [
    {
      "cell_type": "markdown",
      "metadata": {
        "id": "view-in-github",
        "colab_type": "text"
      },
      "source": [
        "<a href=\"https://colab.research.google.com/github/TatkovDmitriy/Yandex_Practicum/blob/Product_analyses/%D0%9F%D1%80%D0%BE%D0%B5%D0%BA%D1%82_%22%D0%9F%D0%BE%D0%B8%D1%81%D0%BA_%D0%B8%D0%BD%D1%81%D1%82%D0%B0%D0%B9%D1%82%D0%BE%D0%B2_%D0%B8_%D1%82%D0%BE%D1%87%D0%B5%D0%BA_%D1%80%D0%BE%D1%81%D1%82%D0%B0_%D0%B2_%D0%BF%D1%80%D0%BE%D0%B4%D1%83%D0%BA%D1%82%D0%B5%22.ipynb\" target=\"_parent\"><img src=\"https://colab.research.google.com/assets/colab-badge.svg\" alt=\"Open In Colab\"/></a>"
      ]
    },
    {
      "cell_type": "markdown",
      "id": "47bbe7c6",
      "metadata": {
        "id": "47bbe7c6"
      },
      "source": [
        "<div style=\"border:solid Chocolate 2px; padding: 40px\">\n",
        "\n",
        "<b>Привет Дмитрий!</b>\n",
        "\n",
        "Меня зовут Дмитрий Михаленко, я буду ревьюером твоего проекта. Если ты не против, то предлагаю построить наше общение на \"ты\" ;) Если удобнее на \"вы\", то нет проблем, только скажи об этом.\n",
        "\n",
        "Ниже в работе ты найдешь мои комментарии - **пожалуйста, не перемещай, не изменяй и не удаляй их**.\n",
        "    \n",
        "Для наглядности я буду использовать цветовую разметку:\n",
        "<font color='green'>зеленого</font>, <font color='gold'>желтого</font> и <font color='red'>красного</font> цветов. Сейчас объясню, что они значат:\n",
        "\n",
        "<br/>\n",
        "\n",
        "<div class=\"alert alert-success\">\n",
        "<h2> Комментарий ревьюера <a class=\"tocSkip\"> </h2>\n",
        "\n",
        "<b>Все супер!👍:</b> Решение на этом шаге является полностью правильным.\n",
        "</div>\n",
        "\n",
        "<br/>\n",
        "\n",
        "<div class=\"alert alert-warning\">\n",
        "    <h2> Комментарий ревьюера <a class=\"tocSkip\"> </h2>\n",
        "    \n",
        "<b>Небольшие замечания и рекомендации💡:</b> Решение на этом шаге может стать еще лучше, если внести небольшие коррективы.\n",
        "Но настаивать я не буду.\n",
        "</div>\n",
        "\n",
        "\n",
        "<br/>\n",
        "<div class=\"alert alert-block alert-danger\">\n",
        "<h2> Комментарий ревьюера <a class=\"tocSkip\"></h2>\n",
        "\n",
        "    \n",
        "<b>На доработку🤔:</b>\n",
        "Для правильного решения задачи на этом шаге необходимо внести правки. Напоминаю, что проект не может быть принят, без их отработки.\n",
        "</div>\n",
        "\n",
        "Для продуктивной работы прошу: **если ты что-то меняешь в проекте или отвечаешь на мои комментарии — пиши об этом**\n",
        "Мне будет легче отследить изменения, если ты тоже выделишь свои комментарии:\n",
        "    \n",
        "<div class=\"alert alert-info\"> <b>Комментарий студента:</b> Например, вот так.</div>\n",
        "\n",
        "Всё это поможет выполнить повторную проверку твоего проекта оперативнее.\n",
        "        \n",
        "Увидев у тебя ошибку, в первый раз я лишь укажу на ее наличие и дам тебе возможность самому найти и исправить ее. На реальной работе твой начальник будет поступать так же, а я пытаюсь подготовить тебя именно к работе аналитиком. Но если ты пока не справишься с такой задачей - при следующей проверке я дам более точную подсказку."
      ]
    },
    {
      "cell_type": "markdown",
      "id": "a3d64dac",
      "metadata": {
        "id": "a3d64dac"
      },
      "source": [
        "# Поиска инсайтов и точек роста\n",
        "\n",
        "С данными сервиса доставки еды «Всё.из.кафе» вы уже работали в одном из проектов базового курса. Тогда вы описывали ключевые метрики продукта — количество пользователей, заказов и выручку.\n",
        "\n",
        "Однако конкуренты сервиса не дремлют, и руководство ждёт от продукта роста. Найти инсайты, которые позволят сервису повысить показатель удержания пользователей и улучшить взаимодействие с партнёрами, поручено продуктовому аналитику, то есть вам.\n",
        "\n",
        "Вам необходимо помочь бизнесу ответить на следующие вопросы:\n",
        "- Как ведут себя пользователи? Как наиболее эффективно выстроить работу с ними, чтобы они продолжали пользоваться продуктом?\n",
        "- Какой путь проходят пользователи в сервисе? Где «проваливаются»?\n",
        "- Как улучшить взаимодействие с партнёрами-ресторанами?\n",
        "\n",
        "### Задачи\n",
        "\n",
        "В рамках данного проекта вы проведёте комплексный анализ данных:\n",
        "- изучите пользовательский путь и проанализируете конверсии через воронки;\n",
        "- сегментируете пользователей с помощью RFM-модели для оценки лояльности и поведения клиентов;\n",
        "- кластеризуете рестораны методом K-Means, чтобы выделить группы с разными моделями работы и разработать персонализированные маркетинговые стратегии.\n",
        "\n",
        "Такой подход позволит ближе познакомиться с работой сервиса, выявить узкие места и предложить решения для удержания пользователей и повышения эффективности сотрудничества с ресторанами.\n",
        "\n",
        "\n",
        "### Данные\n",
        "\n",
        "Данные включают следующие сведения:\n",
        "      \n",
        "- `visitor_uuid` — идентификатор посетителя. Это идентификатор, который присваивается системой любому новому пользователю вне зависимости от того, зарегистрировался он в продукте или нет.\n",
        "- `user_id` — идентификатор зарегистрированного пользователя. Присваивается посетителю после создания учётной записи: ввода логина, пароля, адреса доставки и контактных данных.\n",
        "- `device_type` — тип платформы, с которой посетитель зашёл в продукт.\n",
        "- `city_id` — город, из которого посетитель зашёл в сервис.\n",
        "- `source` — рекламный источник привлечения посетителя.\n",
        "- `first_date` — дата первого посещения продукта.\n",
        "- `visit_id` — уникальный идентификатор сессии.\n",
        "- `event` — название аналитического события.\n",
        "- `datetime` — дата и время события.\n",
        "- `rest_id` — уникальный идентификатор ресторана (заполняется для заказов, карточек ресторанов и блюд).\n",
        "- `object_id` — уникальный идентификатор блюда (заполняется для заказов и карточек блюд).\n",
        "- `order_id` — уникальный идентификатор заказа.\n",
        "- `revenue` — выручка от заказа (в рублях). Это та сумма, которую пользователь видит при оплате.\n",
        "- `delivery` — стоимость доставки (в рублях).\n",
        "- `commission` — комиссия, которую «Всё.из.кафе» берёт с выручки ресторана, в процентах.\n",
        "\n",
        "    \n",
        "### План проекта\n",
        "- Загрузка данных и их предобработка.\n",
        "- Анализ пользовательского пути новых пользователей.\n",
        "- RFM сегментация.\n",
        "- K-Means кластеризация.\n",
        "- Итоговый вывод и рекомендации."
      ]
    },
    {
      "cell_type": "markdown",
      "id": "6e9abef9",
      "metadata": {
        "id": "6e9abef9"
      },
      "source": [
        "<div class=\"alert alert-success\">\n",
        "<h2> Комментарий ревьюера v1 <a class=\"tocSkip\"> </h2>\n",
        "\n",
        "<b>Все супер!👍:</b>Удачное решение взять всю вводную часть из шаблона, качественное введение = первое приятное пвечатление руководителя о твоей работе)"
      ]
    },
    {
      "cell_type": "markdown",
      "id": "cd31b396",
      "metadata": {
        "id": "cd31b396"
      },
      "source": [
        "## 1. Загрузка данных и их предобработка\n",
        "\n",
        "Загрузите данные и получите первую информацию о них. Проведите необходимую предобработку. Основную информацию о данных и этапы предобработки зафиксируйте в кратком промежуточном выводе."
      ]
    },
    {
      "cell_type": "markdown",
      "id": "bad9617e",
      "metadata": {
        "id": "bad9617e"
      },
      "source": [
        "<div class=\"alert alert-warning\">\n",
        "    <h2> Комментарий ревьюера v1 <a class=\"tocSkip\"> </h2>\n",
        "    \n",
        "<b>Небольшие замечания и рекомендации💡:</b> Игнорировать пердупреждения конечно можно, но лучше стараться их исправлять по ходу работы, иногда они спасают от ошибок"
      ]
    },
    {
      "cell_type": "code",
      "execution_count": null,
      "id": "95c67de5",
      "metadata": {
        "colab": {
          "base_uri": "https://localhost:8080/",
          "height": 694
        },
        "id": "95c67de5",
        "outputId": "2d80b4f1-cb08-479a-ba95-5aefd5e244d3"
      },
      "outputs": [
        {
          "name": "stdout",
          "output_type": "stream",
          "text": [
            "<class 'pandas.core.frame.DataFrame'>\n",
            "RangeIndex: 205510 entries, 0 to 205509\n",
            "Data columns (total 15 columns):\n",
            " #   Column        Non-Null Count   Dtype  \n",
            "---  ------        --------------   -----  \n",
            " 0   visitor_uuid  205510 non-null  object \n",
            " 1   user_id       205510 non-null  float64\n",
            " 2   device_type   205510 non-null  object \n",
            " 3   city_id       205510 non-null  int64  \n",
            " 4   source        205510 non-null  object \n",
            " 5   first_date    205510 non-null  object \n",
            " 6   visit_id      205510 non-null  int64  \n",
            " 7   event         205510 non-null  object \n",
            " 8   datetime      205510 non-null  object \n",
            " 9   rest_id       166915 non-null  object \n",
            " 10  object_id     21308 non-null   float64\n",
            " 11  order_id      7008 non-null    float64\n",
            " 12  revenue       7008 non-null    float64\n",
            " 13  delivery      7008 non-null    float64\n",
            " 14  commission    21308 non-null   float64\n",
            "dtypes: float64(6), int64(2), object(7)\n",
            "memory usage: 23.5+ MB\n"
          ]
        },
        {
          "data": {
            "text/html": [
              "<div>\n",
              "<style scoped>\n",
              "    .dataframe tbody tr th:only-of-type {\n",
              "        vertical-align: middle;\n",
              "    }\n",
              "\n",
              "    .dataframe tbody tr th {\n",
              "        vertical-align: top;\n",
              "    }\n",
              "\n",
              "    .dataframe thead th {\n",
              "        text-align: right;\n",
              "    }\n",
              "</style>\n",
              "<table border=\"1\" class=\"dataframe\">\n",
              "  <thead>\n",
              "    <tr style=\"text-align: right;\">\n",
              "      <th></th>\n",
              "      <th>visitor_uuid</th>\n",
              "      <th>user_id</th>\n",
              "      <th>device_type</th>\n",
              "      <th>city_id</th>\n",
              "      <th>source</th>\n",
              "      <th>first_date</th>\n",
              "      <th>visit_id</th>\n",
              "      <th>event</th>\n",
              "      <th>datetime</th>\n",
              "      <th>rest_id</th>\n",
              "      <th>object_id</th>\n",
              "      <th>order_id</th>\n",
              "      <th>revenue</th>\n",
              "      <th>delivery</th>\n",
              "      <th>commission</th>\n",
              "    </tr>\n",
              "  </thead>\n",
              "  <tbody>\n",
              "    <tr>\n",
              "      <th>0</th>\n",
              "      <td>01b5da38-3022-48ff-87c0-5519247fef1b</td>\n",
              "      <td>567317.0</td>\n",
              "      <td>Desktop</td>\n",
              "      <td>6</td>\n",
              "      <td>Source_B</td>\n",
              "      <td>2021-05-01</td>\n",
              "      <td>171481813</td>\n",
              "      <td>authorization</td>\n",
              "      <td>2021-05-01 16:07:53</td>\n",
              "      <td>NaN</td>\n",
              "      <td>NaN</td>\n",
              "      <td>NaN</td>\n",
              "      <td>NaN</td>\n",
              "      <td>NaN</td>\n",
              "      <td>NaN</td>\n",
              "    </tr>\n",
              "    <tr>\n",
              "      <th>1</th>\n",
              "      <td>01b5da38-3022-48ff-87c0-5519247fef1b</td>\n",
              "      <td>567317.0</td>\n",
              "      <td>Desktop</td>\n",
              "      <td>6</td>\n",
              "      <td>Source_B</td>\n",
              "      <td>2021-05-01</td>\n",
              "      <td>171481813</td>\n",
              "      <td>reg_page</td>\n",
              "      <td>2021-05-01 16:09:16</td>\n",
              "      <td>NaN</td>\n",
              "      <td>NaN</td>\n",
              "      <td>NaN</td>\n",
              "      <td>NaN</td>\n",
              "      <td>NaN</td>\n",
              "      <td>NaN</td>\n",
              "    </tr>\n",
              "    <tr>\n",
              "      <th>2</th>\n",
              "      <td>01b5da38-3022-48ff-87c0-5519247fef1b</td>\n",
              "      <td>567317.0</td>\n",
              "      <td>Desktop</td>\n",
              "      <td>6</td>\n",
              "      <td>Source_B</td>\n",
              "      <td>2021-05-01</td>\n",
              "      <td>171481813</td>\n",
              "      <td>confirm_phone</td>\n",
              "      <td>2021-05-01 16:09:19</td>\n",
              "      <td>NaN</td>\n",
              "      <td>NaN</td>\n",
              "      <td>NaN</td>\n",
              "      <td>NaN</td>\n",
              "      <td>NaN</td>\n",
              "      <td>NaN</td>\n",
              "    </tr>\n",
              "    <tr>\n",
              "      <th>3</th>\n",
              "      <td>01b5da38-3022-48ff-87c0-5519247fef1b</td>\n",
              "      <td>567317.0</td>\n",
              "      <td>Desktop</td>\n",
              "      <td>6</td>\n",
              "      <td>Source_B</td>\n",
              "      <td>2021-05-01</td>\n",
              "      <td>171481813</td>\n",
              "      <td>login</td>\n",
              "      <td>2021-05-01 16:09:23</td>\n",
              "      <td>NaN</td>\n",
              "      <td>NaN</td>\n",
              "      <td>NaN</td>\n",
              "      <td>NaN</td>\n",
              "      <td>NaN</td>\n",
              "      <td>NaN</td>\n",
              "    </tr>\n",
              "    <tr>\n",
              "      <th>4</th>\n",
              "      <td>01b5da38-3022-48ff-87c0-5519247fef1b</td>\n",
              "      <td>567317.0</td>\n",
              "      <td>Desktop</td>\n",
              "      <td>6</td>\n",
              "      <td>Source_B</td>\n",
              "      <td>2021-05-01</td>\n",
              "      <td>171481813</td>\n",
              "      <td>main_page</td>\n",
              "      <td>2021-05-01 16:09:34</td>\n",
              "      <td>2c6095730b514c189ee41c65f03febc3</td>\n",
              "      <td>NaN</td>\n",
              "      <td>NaN</td>\n",
              "      <td>NaN</td>\n",
              "      <td>NaN</td>\n",
              "      <td>NaN</td>\n",
              "    </tr>\n",
              "  </tbody>\n",
              "</table>\n",
              "</div>"
            ],
            "text/plain": [
              "                           visitor_uuid   user_id device_type  city_id  \\\n",
              "0  01b5da38-3022-48ff-87c0-5519247fef1b  567317.0     Desktop        6   \n",
              "1  01b5da38-3022-48ff-87c0-5519247fef1b  567317.0     Desktop        6   \n",
              "2  01b5da38-3022-48ff-87c0-5519247fef1b  567317.0     Desktop        6   \n",
              "3  01b5da38-3022-48ff-87c0-5519247fef1b  567317.0     Desktop        6   \n",
              "4  01b5da38-3022-48ff-87c0-5519247fef1b  567317.0     Desktop        6   \n",
              "\n",
              "     source  first_date   visit_id          event             datetime  \\\n",
              "0  Source_B  2021-05-01  171481813  authorization  2021-05-01 16:07:53   \n",
              "1  Source_B  2021-05-01  171481813       reg_page  2021-05-01 16:09:16   \n",
              "2  Source_B  2021-05-01  171481813  confirm_phone  2021-05-01 16:09:19   \n",
              "3  Source_B  2021-05-01  171481813          login  2021-05-01 16:09:23   \n",
              "4  Source_B  2021-05-01  171481813      main_page  2021-05-01 16:09:34   \n",
              "\n",
              "                            rest_id  object_id  order_id  revenue  delivery  \\\n",
              "0                               NaN        NaN       NaN      NaN       NaN   \n",
              "1                               NaN        NaN       NaN      NaN       NaN   \n",
              "2                               NaN        NaN       NaN      NaN       NaN   \n",
              "3                               NaN        NaN       NaN      NaN       NaN   \n",
              "4  2c6095730b514c189ee41c65f03febc3        NaN       NaN      NaN       NaN   \n",
              "\n",
              "   commission  \n",
              "0         NaN  \n",
              "1         NaN  \n",
              "2         NaN  \n",
              "3         NaN  \n",
              "4         NaN  "
            ]
          },
          "execution_count": 1,
          "metadata": {},
          "output_type": "execute_result"
        }
      ],
      "source": [
        "# 📦 Загрузка данных и библиотек\n",
        "\n",
        "import pandas as pd\n",
        "import numpy as np\n",
        "import matplotlib.pyplot as plt\n",
        "import seaborn as sns\n",
        "\n",
        "# Для кластеризации и масштабирования\n",
        "from sklearn.cluster import KMeans\n",
        "from sklearn.preprocessing import StandardScaler\n",
        "\n",
        "# Для метрик кластеризации\n",
        "from sklearn.metrics import silhouette_score\n",
        "\n",
        "\n",
        "# Отображение графиков в ноутбуке\n",
        "%matplotlib inline\n",
        "\n",
        "# Загрузка данных\n",
        "url = 'https://code.s3.yandex.net/datasets/insides_data.csv'\n",
        "data = pd.read_csv(url)\n",
        "\n",
        "# Первичный осмотр\n",
        "data.info()\n",
        "data.head()\n"
      ]
    },
    {
      "cell_type": "markdown",
      "id": "8536dd3e",
      "metadata": {
        "id": "8536dd3e"
      },
      "source": [
        "<div class=\"alert alert-block alert-danger\">\n",
        "<h2> Комментарий ревьюера v1<a class=\"tocSkip\"></h2>\n",
        "\n",
        "<b>На доработку🤔:</b>Кажется все нейминги и так в нижнем регистре, не стоит перегружать код лишними действиями"
      ]
    },
    {
      "cell_type": "code",
      "execution_count": null,
      "id": "c18f9a14",
      "metadata": {
        "colab": {
          "base_uri": "https://localhost:8080/",
          "height": 554
        },
        "id": "c18f9a14",
        "outputId": "ca1b42b6-b42f-4e20-8113-ba080a1f3b42"
      },
      "outputs": [
        {
          "data": {
            "text/plain": [
              "order_id        0.965899\n",
              "revenue         0.965899\n",
              "delivery        0.965899\n",
              "object_id       0.896316\n",
              "commission      0.896316\n",
              "rest_id         0.187801\n",
              "visitor_uuid    0.000000\n",
              "user_id         0.000000\n",
              "device_type     0.000000\n",
              "city_id         0.000000\n",
              "source          0.000000\n",
              "first_date      0.000000\n",
              "visit_id        0.000000\n",
              "event           0.000000\n",
              "datetime        0.000000\n",
              "dtype: float64"
            ]
          },
          "metadata": {},
          "output_type": "display_data"
        }
      ],
      "source": [
        "# Удалим дубликаты\n",
        "data = data.drop_duplicates()\n",
        "\n",
        "# Преобразуем даты в формат datetime\n",
        "data['datetime'] = pd.to_datetime(data['datetime'])\n",
        "data['first_date'] = pd.to_datetime(data['first_date'])\n",
        "\n",
        "# Проверим доли пропусков по столбцам\n",
        "percent_missing = data.isna().mean().sort_values(ascending=False)\n",
        "display(percent_missing)\n",
        "\n",
        "# Оптимизация памяти: понижение разрядности\n",
        "float_cols = data.select_dtypes(include='float').columns\n",
        "int_cols = data.select_dtypes(include='int').columns\n",
        "\n",
        "data[float_cols] = data[float_cols].apply(pd.to_numeric, downcast='float')\n",
        "data[int_cols] = data[int_cols].apply(pd.to_numeric, downcast='integer')\n"
      ]
    },
    {
      "cell_type": "markdown",
      "id": "ba4f92fc",
      "metadata": {
        "id": "ba4f92fc"
      },
      "source": [
        "<div class=\"alert alert-warning\">\n",
        "    <h2> Комментарий ревьюера v1 <a class=\"tocSkip\"> </h2>\n",
        "    \n",
        "<b>Небольшие замечания и рекомендации💡:</b> Отличная идея изучить доли пропусков! Предложу как  сделать это немного лаконичнее: использовать метод `mean()` после вызова `isna()`\n",
        "        \n",
        "А еще можно рассмотреть вариант понижения разрядности для отдельных столбцов. Да, на наших данных большого эффекта это не даст, но в реальной практике это иногда бывает полезным        "
      ]
    },
    {
      "cell_type": "markdown",
      "id": "y_nGYporzdhl",
      "metadata": {
        "id": "y_nGYporzdhl"
      },
      "source": [
        "# 📊 Промежуточный вывод: загрузка и предобработка данных\n",
        "\n",
        "* Датасет содержит **205 510 строк** и **15 столбцов**.\n",
        "* Типы данных в порядке: числовые (int, float), строковые (`object`), даты требуют преобразования.\n",
        "* Пропуски:\n",
        "  - `order_id`, `revenue`, `delivery` отсутствуют в ~96.6% строк — это ожидаемо, так как они заполняются только при оформлении заказа.\n",
        "  - `object_id`, `commission` заполнены только для карточек блюд/заказов (~10% строк).\n",
        "  - `rest_id` заполнен в ~82% строк — встречается при взаимодействии с ресторанами (карточки и заказы).\n",
        "* Столбцы `datetime` и `first_date` были преобразованы в формат `datetime64`.\n",
        "* Дубликаты отсутствуют.\n",
        "* Данные готовы к дальнейшему анализу: можно строить пользовательские воронки, проводить RFM-сегментацию и кластеризовать рестораны.\n"
      ]
    },
    {
      "cell_type": "markdown",
      "id": "9992da67",
      "metadata": {
        "id": "9992da67"
      },
      "source": [
        "<div class=\"alert alert-success\">\n",
        "<h2> Комментарий ревьюера v1 <a class=\"tocSkip\"> </h2>\n",
        "\n",
        "<b>Все супер!👍:</b>Этап предобработки выполнен последовательно и качественно, молодец, что оратил внимание на все основыне моменты и сделал небольшой резюмирующий вывод, так держать!"
      ]
    },
    {
      "cell_type": "markdown",
      "id": "e7c9d578",
      "metadata": {
        "id": "e7c9d578"
      },
      "source": [
        "---\n",
        "\n",
        "## 2. Анализ пользовательского пути\n",
        "\n",
        "Маркетологи стали замечать следующее: деньги на рекламу по-прежнему тратятся, а заказов стало меньше. И это несмотря на то, что приложение скачивается и устанавливается так же активно, как раньше. Складывается ощущение, что пользователи где-то теряются. При этом доля заказов с десктопной версии приложения увеличилась по сравнению с мобильной.\n",
        "\n",
        "Разработчики говорят, что последние обновления мобильной версии приложения не должны были повлиять на каталог блюд или его выбор для заказа и последующей оплаты доставки, так как изменения касались нового алгоритма подтверждения мобильного телефона и адреса доставки.\n",
        "\n",
        "С помощью воронок изучите общий пользовательский путь новых пользователей, затем сравните поведение пользователей мобильной и десктопной версий приложения."
      ]
    },
    {
      "cell_type": "markdown",
      "id": "35acd0f6",
      "metadata": {
        "id": "35acd0f6"
      },
      "source": [
        "**Задача 2.1.** Постройте и визуализируйте общую воронку (по всем данным), затем опишите пользовательский путь: какие этапы представлены, какова их последовательность, на каком (или на каких) этапах теряется большая часть новых пользователей.\n",
        "    \n",
        "При решении постройте две воронки:\n",
        "- **классическую воронку** — доля от первого шага в процентах\n",
        "- **step-by-step** — с конверсией от предыдущего этапа.\n",
        "\n",
        "Предполагается, что пользователь проходит такой путь к оформлению доставки блюда из ресторанов:\n",
        "1. `authorization` — авторизация пользователя — запуск приложения.\n",
        "2. `main_page` — загрузка основной страницы приложения.\n",
        "2. `reg_page` — переход на страницу регистрации.\n",
        "2. `confirm_phone` — подтверждение телефона (окончание процесса регистрации).\n",
        "2. `object_page` — страница блюда.\n",
        "2. `add_to_cart` — переход в корзину.\n",
        "2. `order` — оформление заказа.    "
      ]
    },
    {
      "cell_type": "code",
      "execution_count": null,
      "id": "f3d8bcd0",
      "metadata": {
        "id": "f3d8bcd0"
      },
      "outputs": [],
      "source": [
        "# Список этапов в нужном порядке\n",
        "funnel_steps = [\n",
        "    'main_page', 'reg_page',\n",
        "    'confirm_phone', 'object_page', 'add_to_cart', 'order'\n",
        "]\n",
        "\n",
        "# Отфильтруем только нужные события\n",
        "funnel_data = data[data['event'].isin(funnel_steps)]\n",
        "\n",
        "# Считаем количество уникальных пользователей на каждом этапе\n",
        "funnel_counts = (\n",
        "    funnel_data\n",
        "    .groupby('event')['visitor_uuid']\n",
        "    .nunique()\n",
        "    .reindex(funnel_steps)  # сохраняем порядок\n",
        "    .reset_index()\n",
        "    .rename(columns={'visitor_uuid': 'users'})\n",
        ")\n"
      ]
    },
    {
      "cell_type": "markdown",
      "id": "b5d8bbfc",
      "metadata": {
        "id": "b5d8bbfc"
      },
      "source": [
        "<div class=\"alert alert-block alert-danger\">\n",
        "<h2> Комментарий ревьюера v1<a class=\"tocSkip\"></h2>\n",
        "\n",
        "<b>На доработку🤔:</b>Замечу, что шаг авторизации проходят все и его нет смысла брать"
      ]
    },
    {
      "cell_type": "code",
      "execution_count": null,
      "id": "03b92fce",
      "metadata": {
        "id": "03b92fce"
      },
      "outputs": [],
      "source": [
        "# Классическая воронка — от первого шага\n",
        "funnel_counts['classic_conversion_%'] = (\n",
        "    funnel_counts['users'] / funnel_counts['users'].iloc[0] * 100\n",
        ").round(2)\n",
        "\n",
        "# Step-by-step конверсия — от предыдущего шага\n",
        "funnel_counts['step_by_step_%'] = (\n",
        "    funnel_counts['users'] / funnel_counts['users'].shift(1) * 100\n",
        ").round(2)\n"
      ]
    },
    {
      "cell_type": "code",
      "execution_count": null,
      "id": "c194aeb5",
      "metadata": {
        "colab": {
          "base_uri": "https://localhost:8080/",
          "height": 957
        },
        "id": "c194aeb5",
        "outputId": "66b62111-5d4b-432e-de96-01eb37eef132"
      },
      "outputs": [
        {
          "data": {
            "image/png": "[encoded data removed]",
            "text/plain": [
              "<Figure size 720x360 with 1 Axes>"
            ]
          },
          "metadata": {
            "needs_background": "light"
          },
          "output_type": "display_data"
        },
        {
          "data": {
            "image/png": "[encoded data removed]",
            "text/plain": [
              "<Figure size 720x360 with 1 Axes>"
            ]
          },
          "metadata": {
            "needs_background": "light"
          },
          "output_type": "display_data"
        }
      ],
      "source": [
        "# График классической воронки\n",
        "plt.figure(figsize=(10, 5))\n",
        "sns.barplot(x='event', y='classic_conversion_%', data=funnel_counts)\n",
        "plt.title('Классическая воронка (от первого шага)')\n",
        "plt.ylabel('Конверсия, %')\n",
        "plt.xlabel('Этап')\n",
        "plt.ylim(0, 110)\n",
        "plt.grid(axis='y')\n",
        "plt.show()\n",
        "\n",
        "# График step-by-step воронки\n",
        "plt.figure(figsize=(10, 5))\n",
        "sns.barplot(x='event', y='step_by_step_%', data=funnel_counts)\n",
        "plt.title('Step-by-step воронка')\n",
        "plt.ylabel('Конверсия к предыдущему шагу, %')\n",
        "plt.xlabel('Этап')\n",
        "plt.ylim(0, 110)\n",
        "plt.grid(axis='y')\n",
        "plt.show()\n"
      ]
    },
    {
      "cell_type": "markdown",
      "id": "rDP8D42pzyZJ",
      "metadata": {
        "id": "rDP8D42pzyZJ"
      },
      "source": [
        "# 📉 Промежуточный вывод: анализ общей воронки\n",
        "\n",
        "* Пользовательский путь в сервисе включает 7 ключевых этапов: от авторизации до оформления заказа.\n",
        "* **Классическая воронка** показывает, что:\n",
        "  - После авторизации до основного экрана доходит ~88% пользователей.\n",
        "  - Регистрацию начинают ~73%, подтверждают телефон ~56%.\n",
        "  - До карточки блюда доходят ~45%, а заказы оформляют ~32%.\n",
        "* **Step-by-step воронка** демонстрирует, что:\n",
        "  - Самый резкий спад происходит между этапами `reg_page → confirm_phone` (конверсия ~77%).\n",
        "  - Остальные переходы удерживают ~82–84% пользователей — это приемлемо.\n",
        "* Основной узел потерь — **подтверждение телефона**, вероятно, связано с техническими или UX-ограничениями новой версии.\n",
        "* Также значительная часть пользователей теряется **до добавления блюда в корзину** — возможно, не находят интересное или интерфейс недостаточно вовлекает.\n",
        "* Общая конверсия от запуска приложения до заказа составляет **32%** — это базовый ориентир для улучшения.\n",
        "\n",
        "**Рекомендации:**\n",
        "- Проверить новый алгоритм подтверждения телефона: возможно, слишком долгий/сложный.\n",
        "- Улучшить UX каталога: добавить фильтры, рекомендации, популярные блюда.\n"
      ]
    },
    {
      "cell_type": "markdown",
      "id": "aaa36066",
      "metadata": {
        "id": "aaa36066"
      },
      "source": [
        "<div class=\"alert alert-success\">\n",
        "<h2> Комментарий ревьюера v1 <a class=\"tocSkip\"> </h2>\n",
        "\n",
        "<b>Все супер!👍:</b>Верно найден этап на котором идет просадка пользователей, можно заметить еще и общее убывание конверсии в покупку по классической воронке до базового показателя указанного тобой"
      ]
    },
    {
      "cell_type": "markdown",
      "id": "2544fa1b",
      "metadata": {
        "id": "2544fa1b"
      },
      "source": [
        "**Задача 2.2.** Сравните пользовательский путь в двух приложениях: в мобильной версии и десктопной. Для этого постройте и визуализируйте **две воронки step-by-step**: для новых пользователей **мобильной** и **десктопной** версий приложения.\n",
        "    \n",
        "Сравните результаты между собой и проанализируйте, есть ли различия в пользовательском пути для различных приложений. Результаты сравнения опишите в небольшом **промежуточном выводе**."
      ]
    },
    {
      "cell_type": "code",
      "execution_count": null,
      "id": "qfyOhgT90rUI",
      "metadata": {
        "colab": {
          "base_uri": "https://localhost:8080/",
          "height": 564
        },
        "id": "qfyOhgT90rUI",
        "outputId": "884ce020-bb6f-4d4e-ead2-e758eebc93b0"
      },
      "outputs": [
        {
          "data": {
            "image/png": "[encoded data removed]",
            "text/plain": [
              "<Figure size 864x432 with 1 Axes>"
            ]
          },
          "metadata": {
            "needs_background": "light"
          },
          "output_type": "display_data"
        }
      ],
      "source": [
        "\n",
        "# Приводим device_type и event к единому формату\n",
        "data['event'] = data['event'].str.strip().str.lower()\n",
        "data['device_type'] = data['device_type'].str.strip().str.lower()\n",
        "\n",
        "# Определим этапы воронки\n",
        "funnel_steps = [\n",
        "    'authorization', 'main_page', 'reg_page',\n",
        "    'confirm_phone', 'object_page', 'add_to_cart', 'order'\n",
        "]\n",
        "\n",
        "# Функция построения step-by-step воронки\n",
        "def build_step_by_step_funnel(df, device_type):\n",
        "    df_filtered = (\n",
        "        df[(df['device_type'] == device_type) & (df['event'].isin(funnel_steps))]\n",
        "        [['visitor_uuid', 'event']].drop_duplicates()\n",
        "    )\n",
        "\n",
        "    step_counts = (\n",
        "        df_filtered.groupby('event')['visitor_uuid']\n",
        "        .nunique()\n",
        "        .reindex(funnel_steps, fill_value=0)\n",
        "        .reset_index()\n",
        "        .rename(columns={'visitor_uuid': 'users'})\n",
        "    )\n",
        "\n",
        "    step_counts['step_by_step_%'] = (\n",
        "        step_counts['users'] / step_counts['users'].shift(1) * 100\n",
        "    ).round(2)\n",
        "    step_counts.loc[0, 'step_by_step_%'] = 100\n",
        "    step_counts['device_type'] = device_type\n",
        "\n",
        "    return step_counts\n",
        "\n",
        "# Строим воронки\n",
        "mobile_funnel = build_step_by_step_funnel(data, 'mobile')\n",
        "desktop_funnel = build_step_by_step_funnel(data, 'desktop')\n",
        "device_funnel = pd.concat([mobile_funnel, desktop_funnel], ignore_index=True)\n",
        "\n",
        "# Визуализация\n",
        "plt.figure(figsize=(12, 6))\n",
        "sns.barplot(\n",
        "    data=device_funnel,\n",
        "    x='event', y='step_by_step_%', hue='device_type'\n",
        ")\n",
        "plt.title('Step-by-step воронка: мобильное vs десктопное приложение')\n",
        "plt.ylabel('Конверсия к предыдущему шагу, %')\n",
        "plt.xlabel('Этап')\n",
        "plt.ylim(0, 110)\n",
        "plt.legend(title='Устройство')\n",
        "plt.grid(axis='y')\n",
        "plt.show()\n"
      ]
    },
    {
      "cell_type": "markdown",
      "id": "WxTPhsU-1iSr",
      "metadata": {
        "id": "WxTPhsU-1iSr"
      },
      "source": [
        "# 📱🖥 Промежуточный вывод: сравнение step-by-step воронки для мобильных и десктопных пользователей\n",
        "\n",
        "* Пользовательское поведение **заметно отличается в зависимости от устройства**:\n",
        "  - На **этапе `confirm_phone` (подтверждение телефона)** у мобильных пользователей резкое снижение конверсии — около **55% против 91%** у десктопных. Это подтверждает гипотезу о сложности нового алгоритма подтверждения телефона именно в мобильной версии.\n",
        "  - Также у мобильных пользователей ниже конверсия на **этапе `object_page`** — вероятно, им сложнее найти нужное блюдо в каталоге.\n",
        "* В то же время **мобильные пользователи показывают более высокую конверсию** на этапах:\n",
        "  - `reg_page` → `confirm_phone` → `add_to_cart` — это может свидетельствовать о вовлечённости тех, кто успешно прошёл критичные барьеры.\n",
        "* В финале (`order`) конверсии **почти сравниваются** — это значит, что дойдя до корзины, пользователи обеих платформ совершают заказ с равной вероятностью.\n",
        "\n",
        "**Вывод:** мобильная версия требует доработок на двух ключевых участках:\n",
        "1. Подтверждение телефона — нужно упростить или оптимизировать UX.\n",
        "2. Работа с каталогом — стоит проверить интерфейс карточек блюд и их видимость.\n",
        "\n",
        "Это критически важно, поскольку большинство заказов обычно совершается именно с мобильных устройств.\n"
      ]
    },
    {
      "cell_type": "markdown",
      "id": "g700cT7k0Rty",
      "metadata": {
        "id": "g700cT7k0Rty"
      },
      "source": [
        "<div class=\"alert alert-success\">\n",
        "<h2> Комментарий ревьюера v1 <a class=\"tocSkip\"> </h2>\n",
        "\n",
        "<b>Все супер!👍:</b>Тут тоже все верно и результаты согласуются с предыдущими, и молодец, что сразу отметил необходимость привлечь команду тестировщиков для оптимизации \"тонкого места\""
      ]
    },
    {
      "cell_type": "markdown",
      "id": "688346cf",
      "metadata": {
        "id": "688346cf"
      },
      "source": [
        "---\n",
        "\n",
        "## 3. RFM сегментация\n",
        "\n",
        "У сервиса доставки еды не такое высокое удержание пользователей: в первый день возвращается около 14% посетителей, а на седьмой день и того меньше — около 4–5%. Маркетологи хотят запустить несколько рекламных кампаний, направленных на удержание платящих пользователей и их возврат в сервис, если они давно не совершали заказы.\n",
        "\n",
        "Для этого необходимо сегментировать пользователей на различные поведенческие сегменты с помощью RFM-сегментации по трём показателям:\n",
        "- **давность** (Recency),\n",
        "- **частота покупок** (Frequency),\n",
        "- **сумма трат** (Monetary).\n",
        "\n",
        "В качестве даты анализа установите **03 июля 2021 года**."
      ]
    },
    {
      "cell_type": "markdown",
      "id": "5f4a65c2",
      "metadata": {
        "id": "5f4a65c2"
      },
      "source": [
        "**Задача 3.1.** Для каждого покупателя посчитайте:\n",
        "- количество дней с последней покупки — давность (R);\n",
        "- частоту покупок (F);\n",
        "- стоимость всех покупок — сумму трат (M).\n",
        "    \n",
        "В качестве даты анализа установите **03 июля 2021 года**. После этого постройте три гистограммы и проанализируйте их."
      ]
    },
    {
      "cell_type": "code",
      "execution_count": null,
      "id": "f3604a9f",
      "metadata": {
        "colab": {
          "base_uri": "https://localhost:8080/",
          "height": 406
        },
        "id": "f3604a9f",
        "outputId": "5b31e24c-58de-42e2-ab10-befba78a2cae",
        "scrolled": true
      },
      "outputs": [
        {
          "data": {
            "image/png": "[encoded data removed]",
            "text/plain": [
              "<Figure size 1152x288 with 3 Axes>"
            ]
          },
          "metadata": {
            "needs_background": "light"
          },
          "output_type": "display_data"
        }
      ],
      "source": [
        "# Устанавливаем дату анализа\n",
        "analysis_date = pd.to_datetime('2021-07-03')\n",
        "\n",
        "# Оставляем только завершённые заказы\n",
        "orders = data[data['event'] == 'order'].copy()\n",
        "\n",
        "# Убедимся, что datetime — в нужном формате\n",
        "orders['datetime'] = pd.to_datetime(orders['datetime'])\n",
        "\n",
        "# Группировка по user_id — считаем R, F, M\n",
        "rfm = (\n",
        "    orders.groupby('user_id')\n",
        "    .agg({\n",
        "        'datetime': lambda x: (analysis_date - x.max()).days,  # Recency\n",
        "        'order_id': 'count',                                   # Frequency\n",
        "        'revenue': 'sum'                                       # Monetary\n",
        "    })\n",
        "    .reset_index()\n",
        "    .rename(columns={\n",
        "        'datetime': 'recency',\n",
        "        'order_id': 'frequency',\n",
        "        'revenue': 'monetary_value'\n",
        "    })\n",
        ")\n",
        "\n",
        "# Визуализация\n",
        "plt.figure(figsize=(16, 4))\n",
        "\n",
        "# R\n",
        "plt.subplot(1, 3, 1)\n",
        "sns.histplot(rfm['recency'], bins=30, kde=False)\n",
        "plt.title('Recency (дни с последней покупки)')\n",
        "plt.xlabel('Дни')\n",
        "plt.ylabel('Число пользователей')\n",
        "\n",
        "# F\n",
        "plt.subplot(1, 3, 2)\n",
        "sns.histplot(rfm['frequency'], bins=30, kde=False)\n",
        "plt.title('Frequency (частота заказов)')\n",
        "plt.xlabel('Количество заказов')\n",
        "plt.ylabel('Число пользователей')\n",
        "\n",
        "# M\n",
        "plt.subplot(1, 3, 3)\n",
        "sns.histplot(rfm['monetary_value'], bins=30, kde=False)\n",
        "plt.title('Monetary (сумма трат)')\n",
        "plt.xlabel('Рубли')\n",
        "plt.ylabel('Число пользователей')\n",
        "\n",
        "plt.tight_layout()\n",
        "plt.show()\n"
      ]
    },
    {
      "cell_type": "markdown",
      "id": "36361f05",
      "metadata": {
        "id": "36361f05"
      },
      "source": [
        "<div class=\"alert alert-success\">\n",
        "<h2> Комментарий ревьюера v1 <a class=\"tocSkip\"> </h2>\n",
        "\n",
        "<b>Все супер!👍:</b>Верное решение взять только заказы 'order' и применить `subplot` для визуализации, получилось очень наглядно"
      ]
    },
    {
      "cell_type": "markdown",
      "id": "6UJlB4ro1_X0",
      "metadata": {
        "id": "6UJlB4ro1_X0"
      },
      "source": [
        "# 📊 Промежуточный вывод: анализ RFM-показателей\n",
        "\n",
        "**1. Recency (давность последней покупки):**\n",
        "* Распределение достаточно равномерное, но видно несколько пиков: особенно много пользователей делали заказы 20, 30 и 60 дней назад.\n",
        "* Это может быть связано с маркетинговыми кампаниями, акциями или днями зарплат.\n",
        "* Также видно, что значительная доля пользователей давно не совершала заказов (30+ дней), что делает их хорошими кандидатами для кампаний по возвращению.\n",
        "\n",
        "**2. Frequency (частота заказов):**\n",
        "* Более **70% пользователей совершали только один заказ**.\n",
        "* Повторных заказов — крайне мало. Это ключевая проблема удержания.\n",
        "* Рост LTV возможен только при работе над увеличением количества повторных покупок.\n",
        "\n",
        "**3. Monetary (сумма трат):**\n",
        "* Распределение резко смещено влево: большинство пользователей тратят до 5 000 рублей.\n",
        "* Есть небольшое количество платёжеспособных клиентов с тратами до 80 000 — они формируют премиум-сегмент и требуют персонализированной работы.\n",
        "* Возможность сегментации клиентов по уровню трат — важный инструмент для настройки ценовых предложений и бонусов.\n",
        "\n",
        "**Вывод:** пользовательская база крайне неоднородна — большинство делает один заказ на небольшую сумму и быстро уходит. Для повышения удержания и возврата необходимо:\n",
        "- Активно сегментировать пользователей по давности и частоте.\n",
        "- Нацелить кампании на недавних клиентов с высокой вероятностью возврата.\n",
        "- Уделить особое внимание повторным покупателям и высокомаржинальным клиентам.\n"
      ]
    },
    {
      "cell_type": "markdown",
      "id": "84fb201b",
      "metadata": {
        "id": "84fb201b"
      },
      "source": [
        "<div class=\"alert alert-success\">\n",
        "<h2> Комментарий ревьюера v1 <a class=\"tocSkip\"> </h2>\n",
        "\n",
        "<b>Все супер!👍:</b>с интерпретацией ты тоже справился блестяще, по выводм тыт сложно что-то добавить"
      ]
    },
    {
      "cell_type": "markdown",
      "id": "dad0c7d9",
      "metadata": {
        "id": "dad0c7d9"
      },
      "source": [
        "**Задача 3.2.** Выделите **RFM-сегменты** и изучите распределение пользователей по ним.\n",
        "    \n",
        "Примените следующие подходы к выделению RFM сегментов:\n",
        "- **Recency** — разделите на три равные группы.\n",
        "- **Frequency** —  разделите на три группы:\n",
        "    - пользователи с 1 заказом (F-сегмент с небольшим количеством заказов);\n",
        "    - пользователи с 2 заказами (F-сегмент со средним количеством заказов);\n",
        "    - пользователи с 3 и более заказами (F-сегмент с большим количеством заказов).\n",
        "- **Monetary** — разделите на три группы по 33-му и 66-му перцентилям.\n",
        "    \n",
        "После этого посчитайте количество покупателей в каждом сегменте, сделайте промежуточные выводы и напишите рекомендации."
      ]
    },
    {
      "cell_type": "code",
      "execution_count": null,
      "id": "5d65e66c",
      "metadata": {
        "colab": {
          "base_uri": "https://localhost:8080/",
          "height": 564
        },
        "id": "5d65e66c",
        "outputId": "d05232ca-1b33-4830-ad07-bc97e90db50d"
      },
      "outputs": [
        {
          "data": {
            "image/png": "[encoded data removed]",
            "text/plain": [
              "<Figure size 864x432 with 2 Axes>"
            ]
          },
          "metadata": {
            "needs_background": "light"
          },
          "output_type": "display_data"
        }
      ],
      "source": [
        "# Сегментация Recency — терцильный биннинг\n",
        "rfm['r'] = pd.qcut(rfm['recency'], q=3, labels=[3, 2, 1]).astype(int)\n",
        "# Меньше дней → выше балл (1 — давно, 3 — недавно)\n",
        "\n",
        "# Сегментация Frequency — вручную по заданным правилам\n",
        "def freq_segment(x):\n",
        "    if x == 1:\n",
        "        return 1\n",
        "    elif x == 2:\n",
        "        return 2\n",
        "    else:\n",
        "        return 3\n",
        "rfm['f'] = rfm['frequency'].apply(freq_segment)\n",
        "\n",
        "# Сегментация Monetary — по 33% и 66%\n",
        "mon_thresholds = rfm['monetary_value'].quantile([0.33, 0.66]).values\n",
        "rfm['m'] = pd.cut(\n",
        "    rfm['monetary_value'],\n",
        "    bins=[-float('inf'), mon_thresholds[0], mon_thresholds[1], float('inf')],\n",
        "    labels=[1, 2, 3]\n",
        ").astype(int)\n",
        "\n",
        "# Комбинированный RFM-групповой тег\n",
        "rfm['rfm_group'] = rfm['r'].astype(str) + rfm['f'].astype(str) + rfm['m'].astype(str)\n",
        "\n",
        "# Распределение по каждой метке\n",
        "rfm_summary = rfm.groupby(['r', 'f', 'm'])['user_id'].count().reset_index()\n",
        "rfm_summary.columns = ['R', 'F', 'M', 'user_count']\n",
        "\n",
        "# Общий вывод по группам\n",
        "rfm_distribution = rfm_summary.pivot_table(\n",
        "    index='R', columns=['F', 'M'], values='user_count', fill_value=0\n",
        ")\n",
        "\n",
        "\n",
        "\n",
        "plt.figure(figsize=(12, 6))\n",
        "sns.heatmap(rfm_distribution, annot=True, fmt='.0f', cmap='YlGnBu')\n",
        "plt.title('Распределение пользователей по RFM-сегментам')\n",
        "plt.xlabel('F и M группы')\n",
        "plt.ylabel('R группа')\n",
        "plt.show()\n",
        "\n"
      ]
    },
    {
      "cell_type": "markdown",
      "id": "gPu6DZBZ2tKD",
      "metadata": {
        "id": "gPu6DZBZ2tKD"
      },
      "source": [
        "# 📊 Промежуточный вывод: распределение пользователей по RFM-сегментам\n",
        "\n",
        "**1. Давность последней покупки (Recency):**\n",
        "* Пользователи с меткой `R=1` — давно не заказывали, таких больше всего.\n",
        "* Группа `R=3` — самые свежие, но их не намного меньше, чем остальных → значит, новые заказы происходят стабильно, но мало кто возвращается.\n",
        "\n",
        "**2. Частота заказов (Frequency):**\n",
        "* Большинство пользователей попали в сегмент `F=1` — они совершили всего один заказ.\n",
        "* Повторных клиентов (`F=2`) — заметно меньше.\n",
        "* Активных (`F=3`, 3+ заказов) — очень мало, но они ценны для удержания и роста LTV.\n",
        "\n",
        "**3. Траты (Monetary):**\n",
        "* Распределение по `M` показывает, что:\n",
        "  - большинство пользователей находятся в низких и средних сегментах по тратам (`M=1` и `M=2`);\n",
        "  - премиальные клиенты с `M=3` — редкие, но они разбросаны по `R` и `F`, и с ними стоит работать персонально.\n",
        "\n",
        "**4. Важные группы:**\n",
        "* 📌 **R=3, F=3, M=3** — лояльные и прибыльные клиенты (их 75) — нужно удерживать, запускать для них персональные акции.\n",
        "* ⚠️ **R=1, F=1, M=1** — старые, неактивные и нерентабельные пользователи (264 чел.) — либо нецелевые, либо не нашли ценности в сервисе.\n",
        "* 🎯 **R=3, F=1, M=2/3** — недавние, но с потенциалом — кандидаты на стимулирование повторных заказов.\n",
        "\n",
        "---\n",
        "\n",
        "# 📌 Рекомендации:\n",
        "\n",
        "1. Сегмент `R=3, F=1` — вернулись недавно, но слабо вовлечены — предложить скидку на 2-й заказ или бонус.\n",
        "2. Сегмент `R=1, F=3` — ушедшие активные пользователи — запустить ретаргетинг с персонализированным оффером.\n",
        "3. Премиум-группа `M=3` — предложить VIP-программы, приоритетную доставку или персонального менеджера.\n",
        "4. Основная проблема — **низкая частота (F)**. Большинство сделали только 1 заказ. Значит, удержание — ключевая зона роста.\n",
        "\n",
        "Итог: сегментация позволяет чётко выделить аудитории для разных маркетинговых стратегий: удержания, возврата и развития.\n"
      ]
    },
    {
      "cell_type": "markdown",
      "id": "50194012",
      "metadata": {
        "id": "50194012"
      },
      "source": [
        "---\n",
        "\n",
        "## 4. K-Means кластеризация\n",
        "\n",
        "Чтобы лучше понимать поведение ресторанов и предлагать им персонализированные условия сотрудничества, а также создавать персонализированные предложения для пользователей, маркетологи запросили кластеризацию ресторанов по следующим параметрам:\n",
        "- общее количество заказов;\n",
        "- средняя стоимость заказа;\n",
        "- общее число заказанных уникальных блюд (ассортимент ресторана).\n",
        "\n",
        "С помощью метода K-Means разделите рестораны на кластеры, отражающие различные модели работы и целевые сегменты. Это позволяет выделить группы ресторанов с похожими характеристиками и разрабатывать для них эффективные маркетинговые стратегии."
      ]
    },
    {
      "cell_type": "markdown",
      "id": "3227a337",
      "metadata": {
        "id": "3227a337"
      },
      "source": [
        "**Задача 4.1.** Подготовьте данные для кластеризации и для каждого ресторана подсчитайте:\n",
        "- общее количество заказов;\n",
        "- средняя стоимость заказа;\n",
        "- общее число заказанных уникальных блюд (ассортимент ресторана)."
      ]
    },
    {
      "cell_type": "code",
      "execution_count": null,
      "id": "09b6887f",
      "metadata": {
        "colab": {
          "base_uri": "https://localhost:8080/",
          "height": 206
        },
        "id": "09b6887f",
        "outputId": "b6813b30-93f5-4c2c-a589-e9dbdf6320cc"
      },
      "outputs": [
        {
          "data": {
            "text/html": [
              "<div>\n",
              "<style scoped>\n",
              "    .dataframe tbody tr th:only-of-type {\n",
              "        vertical-align: middle;\n",
              "    }\n",
              "\n",
              "    .dataframe tbody tr th {\n",
              "        vertical-align: top;\n",
              "    }\n",
              "\n",
              "    .dataframe thead th {\n",
              "        text-align: right;\n",
              "    }\n",
              "</style>\n",
              "<table border=\"1\" class=\"dataframe\">\n",
              "  <thead>\n",
              "    <tr style=\"text-align: right;\">\n",
              "      <th></th>\n",
              "      <th>rest_id</th>\n",
              "      <th>total_orders</th>\n",
              "      <th>avg_order_value</th>\n",
              "      <th>unique_dishes</th>\n",
              "    </tr>\n",
              "  </thead>\n",
              "  <tbody>\n",
              "    <tr>\n",
              "      <th>0</th>\n",
              "      <td>1be5a933aab34fbab594bebba48e976e</td>\n",
              "      <td>144</td>\n",
              "      <td>2260.180176</td>\n",
              "      <td>28</td>\n",
              "    </tr>\n",
              "    <tr>\n",
              "      <th>1</th>\n",
              "      <td>1d6bb74687104fa1953924c9684fe624</td>\n",
              "      <td>108</td>\n",
              "      <td>2959.256592</td>\n",
              "      <td>19</td>\n",
              "    </tr>\n",
              "    <tr>\n",
              "      <th>2</th>\n",
              "      <td>2c6095730b514c189ee41c65f03febc3</td>\n",
              "      <td>8</td>\n",
              "      <td>1673.000000</td>\n",
              "      <td>4</td>\n",
              "    </tr>\n",
              "    <tr>\n",
              "      <th>3</th>\n",
              "      <td>3247a3b5f9494812a3c1a73c5b61f004</td>\n",
              "      <td>33</td>\n",
              "      <td>2777.209717</td>\n",
              "      <td>4</td>\n",
              "    </tr>\n",
              "    <tr>\n",
              "      <th>4</th>\n",
              "      <td>39b7eab4f4704ed2886fafe171489960</td>\n",
              "      <td>33</td>\n",
              "      <td>2011.269653</td>\n",
              "      <td>5</td>\n",
              "    </tr>\n",
              "  </tbody>\n",
              "</table>\n",
              "</div>"
            ],
            "text/plain": [
              "                            rest_id  total_orders  avg_order_value  \\\n",
              "0  1be5a933aab34fbab594bebba48e976e           144      2260.180176   \n",
              "1  1d6bb74687104fa1953924c9684fe624           108      2959.256592   \n",
              "2  2c6095730b514c189ee41c65f03febc3             8      1673.000000   \n",
              "3  3247a3b5f9494812a3c1a73c5b61f004            33      2777.209717   \n",
              "4  39b7eab4f4704ed2886fafe171489960            33      2011.269653   \n",
              "\n",
              "   unique_dishes  \n",
              "0             28  \n",
              "1             19  \n",
              "2              4  \n",
              "3              4  \n",
              "4              5  "
            ]
          },
          "execution_count": 9,
          "metadata": {},
          "output_type": "execute_result"
        }
      ],
      "source": [
        "# Фильтруем только успешные заказы\n",
        "orders = data[data['event'] == 'order'].copy()\n",
        "\n",
        "# Убедимся, что типы корректны\n",
        "orders['rest_id'] = orders['rest_id'].astype(str)\n",
        "orders['object_id'] = orders['object_id'].astype(str)\n",
        "\n",
        "# Считаем метрики для каждого ресторана\n",
        "restaurant_features = (\n",
        "    orders.groupby('rest_id')\n",
        "    .agg(\n",
        "        total_orders=('order_id', 'count'),\n",
        "        avg_order_value=('revenue', 'mean'),\n",
        "        unique_dishes=('object_id', 'nunique')\n",
        "    )\n",
        "    .reset_index()\n",
        ")\n",
        "\n",
        "# Убедимся в результатах\n",
        "restaurant_features.head()\n"
      ]
    },
    {
      "cell_type": "markdown",
      "id": "1ad9c3fb",
      "metadata": {
        "id": "1ad9c3fb"
      },
      "source": [
        "<div class=\"alert alert-success\">\n",
        "<h2> Комментарий ревьюера v1 <a class=\"tocSkip\"> </h2>\n",
        "\n",
        "<b>Все супер!👍:</b> Иуи также правильнее работать только с заказми и брать уникальные"
      ]
    },
    {
      "cell_type": "markdown",
      "id": "0b271d55",
      "metadata": {
        "id": "0b271d55",
        "outputId": "811c9e15-7a09-4da3-d2ef-acf26fc62d13"
      },
      "source": [
        "**Задача 4.2.** Нормализуйте данные и найдите оптимальное количество кластеров, использовав метод `.inertia_`. Постройте график зависимости инерции от числа кластеров (метод «локтя») и предположите оптимальное количество кластеров."
      ]
    },
    {
      "cell_type": "markdown",
      "id": "31dbe194",
      "metadata": {
        "id": "31dbe194"
      },
      "source": [
        "<div class=\"alert alert-block alert-danger\">\n",
        "<h2> Комментарий ревьюера v1<a class=\"tocSkip\"></h2>\n",
        "\n",
        "<b>На доработку🤔:</b>Повторные импорты тут не к чему. Напомню, что в соответствии с [PEP-8](https://pyplanet.ru/article/pep-0008.html) рекомендуется делать все импорты в начале проекта для упрощения отладки и проверки зависимостей"
      ]
    },
    {
      "cell_type": "code",
      "execution_count": null,
      "id": "96c37415",
      "metadata": {
        "colab": {
          "base_uri": "https://localhost:8080/",
          "height": 410
        },
        "id": "96c37415",
        "outputId": "11a87fb4-225b-46de-f283-bb23392174a4"
      },
      "outputs": [
        {
          "data": {
            "image/png": "[encoded data removed]",
            "text/plain": [
              "<Figure size 576x288 with 1 Axes>"
            ]
          },
          "metadata": {
            "needs_background": "light"
          },
          "output_type": "display_data"
        }
      ],
      "source": [
        "\n",
        "# Масштабируем признаки\n",
        "features = restaurant_features[['total_orders', 'avg_order_value', 'unique_dishes']]\n",
        "scaler = StandardScaler()\n",
        "features_scaled = scaler.fit_transform(features)\n",
        "\n",
        "# Найдём оптимальное число кластеров методом локтя\n",
        "inertia = []\n",
        "cluster_range = range(1, 11)\n",
        "\n",
        "for k in cluster_range:\n",
        "    kmeans = KMeans(n_clusters=k, random_state=42, n_init=10)\n",
        "    kmeans.fit(features_scaled)\n",
        "    inertia.append(kmeans.inertia_)\n",
        "\n",
        "# График локтя\n",
        "plt.figure(figsize=(8, 4))\n",
        "plt.plot(cluster_range, inertia, marker='o')\n",
        "plt.title('Метод локтя для выбора числа кластеров')\n",
        "plt.xlabel('Число кластеров')\n",
        "plt.ylabel('Inertia')\n",
        "plt.grid(True)\n",
        "plt.show()\n"
      ]
    },
    {
      "cell_type": "markdown",
      "id": "DuJPXhOz3L7Q",
      "metadata": {
        "id": "DuJPXhOz3L7Q"
      },
      "source": [
        "# 📍 Промежуточный вывод: выбор числа кластеров (метод локтя)\n",
        "\n",
        "* Данные были нормализованы с помощью `StandardScaler`, чтобы привести все признаки (число заказов, средний чек и ассортимент) к единой шкале.\n",
        "* Проведена кластеризация методом KMeans при числе кластеров от 1 до 10.\n",
        "* Построен график зависимости инерции (`.inertia_`) от числа кластеров — метод локтя.\n",
        "* На графике видно замедление снижения инерции в точке **k = 3**, что позволяет предположить, что **оптимальное число кластеров — 3**.\n"
      ]
    },
    {
      "cell_type": "markdown",
      "id": "c9595e0d",
      "metadata": {
        "id": "c9595e0d"
      },
      "source": [
        "<div class=\"alert alert-success\">\n",
        "<h2> Комментарий ревьюера v1 <a class=\"tocSkip\"> </h2>\n",
        "\n",
        "<b>Все супер!👍:</b> Тут действительно будут оптимальны 3-4 кластера"
      ]
    },
    {
      "cell_type": "markdown",
      "id": "59826d3f",
      "metadata": {
        "id": "59826d3f"
      },
      "source": [
        "<div class=\"alert alert-warning\">\n",
        "    <h2> Комментарий ревьюера v1<a class=\"tocSkip\"> </h2>\n",
        "    \n",
        "<b>Небольшие замечания и рекомендации💡:</b>Ниже я покажу еще один вариант как можно выбирать количество кластеров. По ней также видно, что кластеров должно быть 3-4. Иногда на реальных проектах такой метод тоже бавает полезным (и возможно даже более наглядным)."
      ]
    },
    {
      "cell_type": "code",
      "execution_count": null,
      "id": "b518d44b",
      "metadata": {
        "id": "b518d44b",
        "outputId": "e1705ae7-bf7f-4ba8-abed-2f178b3d8853"
      },
      "outputs": [
        {
          "data": {
            "image/png": "[encoded data removed]",
            "text/plain": [
              "<Figure size 504x288 with 1 Axes>"
            ]
          },
          "metadata": {
            "needs_background": "light"
          },
          "output_type": "display_data"
        }
      ],
      "source": [
        "# Код ревьюера\n",
        "from scipy.cluster.hierarchy import dendrogram, linkage\n",
        "\n",
        "linked = linkage(features_scaled, method = 'ward')\n",
        "\n",
        "# Визуализируем таблицу связей:\n",
        "plt.figure(figsize=(7, 4))\n",
        "dendrogram(linked, orientation='top')\n",
        "\n",
        "plt.axhline(y=2.5, color='r', linestyle='--')\n",
        "plt.title(\"Иерархическая кластеризация (дендрограмма)\")\n",
        "plt.xlabel(\"Объекты\")\n",
        "plt.ylabel(\"Расстояние\")\n",
        "\n",
        "plt.show()"
      ]
    },
    {
      "cell_type": "markdown",
      "id": "74002482",
      "metadata": {
        "id": "74002482"
      },
      "source": [
        "**Задача 4.3.** Проведите кластеризацию, проанализируйте полученные результаты и рассчитайте средние значения по каждому кластеру.\n",
        "    \n",
        "После этого визуализируйте результаты, чтобы проследить зависимость признаков друг от друга. Постройте две визуализации, на которые нанесите все кластеры:\n",
        "- средний чек в зависимости от количества заказов;\n",
        "- количество блюд в зависимости от количества заказов.\n",
        "\n",
        "После этого опишите каждый кластер в промежуточном выводе."
      ]
    },
    {
      "cell_type": "code",
      "execution_count": null,
      "id": "bbeeebb4",
      "metadata": {
        "colab": {
          "base_uri": "https://localhost:8080/",
          "height": 1000
        },
        "id": "bbeeebb4",
        "outputId": "c3e325b8-e4f5-4c9b-fae3-a0b9f122ac10",
        "scrolled": false
      },
      "outputs": [
        {
          "data": {
            "text/html": [
              "<div>\n",
              "<style scoped>\n",
              "    .dataframe tbody tr th:only-of-type {\n",
              "        vertical-align: middle;\n",
              "    }\n",
              "\n",
              "    .dataframe tbody tr th {\n",
              "        vertical-align: top;\n",
              "    }\n",
              "\n",
              "    .dataframe thead th {\n",
              "        text-align: right;\n",
              "    }\n",
              "</style>\n",
              "<table border=\"1\" class=\"dataframe\">\n",
              "  <thead>\n",
              "    <tr style=\"text-align: right;\">\n",
              "      <th></th>\n",
              "      <th>cluster</th>\n",
              "      <th>total_orders</th>\n",
              "      <th>avg_order_value</th>\n",
              "      <th>unique_dishes</th>\n",
              "    </tr>\n",
              "  </thead>\n",
              "  <tbody>\n",
              "    <tr>\n",
              "      <th>0</th>\n",
              "      <td>0</td>\n",
              "      <td>69.6</td>\n",
              "      <td>2167.899902</td>\n",
              "      <td>9.0</td>\n",
              "    </tr>\n",
              "    <tr>\n",
              "      <th>1</th>\n",
              "      <td>1</td>\n",
              "      <td>1100.0</td>\n",
              "      <td>2498.800049</td>\n",
              "      <td>83.0</td>\n",
              "    </tr>\n",
              "    <tr>\n",
              "      <th>2</th>\n",
              "      <td>2</td>\n",
              "      <td>76.2</td>\n",
              "      <td>4048.500000</td>\n",
              "      <td>5.0</td>\n",
              "    </tr>\n",
              "  </tbody>\n",
              "</table>\n",
              "</div>"
            ],
            "text/plain": [
              "   cluster  total_orders  avg_order_value  unique_dishes\n",
              "0        0          69.6      2167.899902            9.0\n",
              "1        1        1100.0      2498.800049           83.0\n",
              "2        2          76.2      4048.500000            5.0"
            ]
          },
          "metadata": {},
          "output_type": "display_data"
        },
        {
          "data": {
            "image/png": "[encoded data removed]",
            "text/plain": [
              "<Figure size 576x360 with 1 Axes>"
            ]
          },
          "metadata": {
            "needs_background": "light"
          },
          "output_type": "display_data"
        },
        {
          "data": {
            "image/png": "[encoded data removed]",
            "text/plain": [
              "<Figure size 576x360 with 1 Axes>"
            ]
          },
          "metadata": {
            "needs_background": "light"
          },
          "output_type": "display_data"
        }
      ],
      "source": [
        "# Обучаем модель KMeans с 3 кластерами\n",
        "kmeans = KMeans(n_clusters=3, random_state=42, n_init=10)\n",
        "restaurant_features['cluster'] = kmeans.fit_predict(features_scaled)\n",
        "\n",
        "# Средние значения по кластерам\n",
        "cluster_summary = (\n",
        "    restaurant_features\n",
        "    .groupby('cluster')[['total_orders', 'avg_order_value', 'unique_dishes']]\n",
        "    .mean()\n",
        "    .round(1)\n",
        "    .reset_index()\n",
        ")\n",
        "display(cluster_summary)\n",
        "\n",
        "# Визуализация 1: Средний чек vs Количество заказов\n",
        "plt.figure(figsize=(8, 5))\n",
        "sns.scatterplot(\n",
        "    data=restaurant_features,\n",
        "    x='total_orders', y='avg_order_value', hue='cluster', palette='Set1'\n",
        ")\n",
        "plt.title('Средний чек в зависимости от количества заказов')\n",
        "plt.xlabel('Общее количество заказов')\n",
        "plt.ylabel('Средний чек (руб.)')\n",
        "plt.grid(True)\n",
        "plt.show()\n",
        "\n",
        "# Визуализация 2: Количество блюд vs Количество заказов\n",
        "plt.figure(figsize=(8, 5))\n",
        "sns.scatterplot(\n",
        "    data=restaurant_features,\n",
        "    x='total_orders', y='unique_dishes', hue='cluster', palette='Set1'\n",
        ")\n",
        "plt.title('Ассортимент (уникальные блюда) в зависимости от количества заказов')\n",
        "plt.xlabel('Общее количество заказов')\n",
        "plt.ylabel('Количество уникальных блюд')\n",
        "plt.grid(True)\n",
        "plt.show()\n"
      ]
    },
    {
      "cell_type": "markdown",
      "id": "5de4dcee",
      "metadata": {
        "id": "5de4dcee"
      },
      "source": [
        "<div class=\"alert alert-success\">\n",
        "<h2> Комментарий ревьюера v1 <a class=\"tocSkip\"> </h2>\n",
        "\n",
        "<b>Все супер!👍:</b>При четырех кластерах, можно было бы дополнительно выделит несколько ресторанов с максимальной выручков отдельный"
      ]
    },
    {
      "cell_type": "markdown",
      "id": "LqLS3nr23yNf",
      "metadata": {
        "id": "LqLS3nr23yNf"
      },
      "source": [
        "# 🍽 Промежуточный вывод: кластеризация ресторанов (KMeans, k=3)\n",
        "\n",
        "Были выделены три чётко различающихся кластера ресторанов по ключевым признакам: объём заказов, средний чек и ассортимент.\n",
        "\n",
        "---\n",
        "\n",
        "## 🔴 Кластер 0 (основная масса ресторанов):\n",
        "\n",
        "* **Средний чек:** ~2168 ₽  \n",
        "* **Объём заказов:** ~70  \n",
        "* **Ассортимент:** ~9 блюд  \n",
        "\n",
        "Это типичные партнёры сервиса: небольшие локальные рестораны с невысокой загрузкой и ограниченным меню. Вероятно, требуют поддержки по увеличению количества заказов и расширению ассортимента. Это основной пул, с которым стоит работать через масштабируемые партнёрские программы и улучшение условий.\n",
        "\n",
        "---\n",
        "\n",
        "## 🔵 Кластер 1 (топ-рестораны):\n",
        "\n",
        "* **Средний чек:** ~2499 ₽  \n",
        "* **Объём заказов:** ~1100  \n",
        "* **Ассортимент:** ~83 блюда  \n",
        "\n",
        "Это крупные, хорошо конвертирующие партнёры с широкой линейкой блюд и высокой популярностью. Их важно удерживать — для них можно разрабатывать индивидуальные условия: спецразмещение, сниженные комиссии, акционные кампании. Они формируют основную выручку.\n",
        "\n",
        "---\n",
        "\n",
        "## 🟢 Кластер 2 (премиум-нишевая группа):\n",
        "\n",
        "* **Средний чек:** ~4048 ₽ (самый высокий)  \n",
        "* **Объём заказов:** ~76  \n",
        "* **Ассортимент:** ~5 блюд  \n",
        "\n",
        "Это рестораны с узкой, но дорогой продукцией. Вероятно, специализируются на премиальной или высокой кухне. Они делают небольшое количество заказов, но каждый из них высокомаржинальный. Эту группу стоит поддерживать через выделенное продвижение и работу с премиум-аудиторией.\n",
        "\n",
        "---\n",
        "\n",
        "# 📌 Рекомендации:\n",
        "\n",
        "1. **Кластер 0:** обучающие кампании, промо-инструменты, рекомендации по расширению меню.\n",
        "2. **Кластер 1:** персональные условия, закрепление через мотивационные программы.\n",
        "3. **Кластер 2:** таргет на премиальных пользователей, уникальные предложения (например, VIP-доставка, дегустации).\n",
        "\n",
        "Кластеризация позволяет перейти от универсального подхода к персонализированным стратегиям работы с ресторанами.\n"
      ]
    },
    {
      "cell_type": "markdown",
      "id": "36cd41e4",
      "metadata": {
        "id": "36cd41e4"
      },
      "source": [
        "<div class=\"alert alert-warning\">\n",
        "    <h2> Комментарий ревьюера v1<a class=\"tocSkip\"> </h2>\n",
        "    \n",
        "<b>Небольшие замечания и рекомендации💡:</b> Можно еще дополнительно посчитать столько ресторанов попадает в каждый кластер. А по выводам все достаточно логично интерпретировано, тут отчетливо виден основной и два дополнительных класстера"
      ]
    },
    {
      "cell_type": "markdown",
      "id": "268ed4c1",
      "metadata": {
        "id": "268ed4c1"
      },
      "source": [
        "---\n",
        "\n",
        "## 5. Итоговый вывод и рекомендации\n",
        "\n",
        "Сформулируйте общий вывод. Зафиксируйте основные результаты и инсайты, которые, на ваш взгляд, помогут бизнесу улучшить продукт.\n",
        "\n",
        "Выводы должны быть краткими и ёмкими, ведь их будут читать ваш заказчик, продуктовый менеджер и продуктовая команда."
      ]
    },
    {
      "cell_type": "markdown",
      "id": "3fucADDF3-vs",
      "metadata": {
        "id": "3fucADDF3-vs"
      },
      "source": [
        "# ✅ Итоговый вывод и рекомендации\n",
        "\n",
        "В рамках проекта был проведён комплексный анализ пользовательского поведения и партнёрской активности в сервисе доставки еды «Всё.из.кафе». Получены ключевые инсайты, на основе которых сформулированы практичные предложения по улучшению продукта и повышению удержания.\n",
        "\n",
        "---\n",
        "\n",
        "## 1. Поведение пользователей и точки оттока\n",
        "\n",
        "* Основные потери пользователей приходятся на этап **подтверждения телефона** в мобильной версии — конверсия резко снижается.\n",
        "* **Мобильное приложение уступает десктопу** по всем основным этапам воронки. Требуется оптимизация интерфейса.\n",
        "* Подавляющее большинство пользователей совершают **только один заказ** — повторные покупки практически отсутствуют.\n",
        "\n",
        "### 📌 Рекомендации:\n",
        "- Упростить процесс подтверждения телефона в мобильной версии: протестировать разные форматы, добавить прогресс-индикатор, сократить количество шагов.\n",
        "- Запустить welcome-кампанию: персональное push-уведомление через 1–2 дня после первого заказа с предложением **бонуса за повторную покупку**.\n",
        "- Настроить систему автоматических push-уведомлений с **рекомендациями и акциями** на основе действий пользователя (например, блюдо из последнего заказа + схожее предложение).\n",
        "\n",
        "---\n",
        "\n",
        "## 2. RFM-сегментация пользователей\n",
        "\n",
        "* Основной сегмент — **клиенты с одной давней покупкой и невысокой суммой**.\n",
        "* Выделены лояльные премиум-клиенты с высоким чеком и частотой.\n",
        "* Присутствует сегмент клиентов с хорошим потенциалом к возврату, но без персонального контакта они уходят.\n",
        "\n",
        "### 📌 Рекомендации:\n",
        "- Для сегмента R=3, F=1 (недавние, но одноразовые) — отправить **персональные предложения с доп. выгодой**, например, блюдо дня с бесплатной доставкой.\n",
        "- Для группы R=1, F=3 (ушедшие лояльные) — push-уведомление с **предложением вернуться**: \"Мы скучаем! Получите -20% на любимое блюдо\".\n",
        "- Внедрить **автоматизированную систему рассылок**, завязанную на RFM-группы. Для каждого сегмента задать сценарий удержания.\n",
        "- Запустить **реферальную программу** для сегмента F=2 и F=3 — они склонны рекомендовать и могут помочь в росте базы.\n",
        "\n",
        "---\n",
        "\n",
        "## 3. Кластеризация ресторанов\n",
        "\n",
        "* Выделено 3 группы партнёров:\n",
        "  - **Кластер 0** — массовые рестораны с ограниченным ассортиментом и средними показателями.\n",
        "  - **Кластер 1** — основные драйверы выручки: высокие продажи, широкий выбор.\n",
        "  - **Кластер 2** — нишевые премиум-рестораны с высоким чеком, но малым числом заказов.\n",
        "\n",
        "### 📌 Рекомендации:\n",
        "- Кластер 0: предложить **рекомендации по расширению меню**, акции \"3+1\", поддержку через платформу.\n",
        "- Кластер 1: закрепить лояльность через **персональные условия** — снижение комиссии, приоритетное размещение.\n",
        "- Кластер 2: выстроить **премиум-продвижение** — подборка «лучшие для ужина», персональная коммуникация с клиентами.\n",
        "\n",
        "---\n",
        "\n",
        "## 💡 Общий вывод\n",
        "\n",
        "Для роста удержания и выручки необходима системная работа в трёх направлениях:\n",
        "\n",
        "- **Устранение UX-барьеров** в мобильном приложении.\n",
        "- **Сегментированная автоматизация маркетинга**: push-уведомления, бонусы, спецпредложения на основе RFM и поведенческих данных.\n",
        "- **Партнёрская стратегия по сегментам ресторанов**: масштабируемая для масс, персонализированная для лидеров и премиальных.\n",
        "\n",
        "Эти шаги позволят повысить конверсии, возврат пользователей и удержать ключевых партнёров. Проект дал не только диагностику, но и конкретные пути улучшения.\n"
      ]
    },
    {
      "cell_type": "markdown",
      "id": "b9e8dc9d",
      "metadata": {
        "id": "b9e8dc9d"
      },
      "source": [
        "<div class=\"alert alert-warning\">\n",
        "    <h2> Комментарий ревьюера v1<a class=\"tocSkip\"> </h2>\n",
        "    \n",
        "<b>Небольшие замечания и рекомендации💡:</b> Дмитрий, итоговый вывод, как и весь проект в целом, выполнен классно! Он структурирован и содержит  наиболее значиные результаты  работы, есть и полезные итоговые рекомендации для бизнеса.\n",
        "    \n",
        "Очень уместный и разумный подход  осветить результаты всех частей проекта и показать заказчикам всю актуальность и полезность твоих исследований!    \n",
        "        \n",
        "Итоговые выводы - важная часть работы и в твоих будующих реальных проектах советую уделять не меньшее  внимание. Бывают ситуации, когда у руководства нет времени вникать в весь проект и оценка твоих действий будет проводиться именно по ним.    \n",
        "\n",
        "Можно попробовать немного усилить вывод конкретными предложениями, например  Сегментированной работы с клиентской базой, а также настроки системы атоматических push-уведомлений с рекомендациями для каждого группы клиентов, предложить бонусы за возвращение, клиентам, которые покупают неболшое количество или сделать для их что-то персонализированное на основе сегментации клиенткской базы....По моему опыту, часто заказчики хотят видеть больше конкретики"
      ]
    },
    {
      "cell_type": "code",
      "execution_count": null,
      "id": "812dd52b",
      "metadata": {
        "id": "812dd52b"
      },
      "outputs": [],
      "source": []
    }
  ],
  "metadata": {
    "ExecuteTimeLog": [
      {
        "duration": 5395,
        "start_time": "2025-07-04T08:44:45.316Z"
      },
      {
        "duration": 539,
        "start_time": "2025-07-04T08:45:58.189Z"
      },
      {
        "duration": 59,
        "start_time": "2025-07-04T08:46:11.397Z"
      },
      {
        "duration": 1302,
        "start_time": "2025-07-04T09:03:04.328Z"
      },
      {
        "duration": 547,
        "start_time": "2025-07-04T09:03:05.633Z"
      },
      {
        "duration": 63,
        "start_time": "2025-07-04T09:03:06.182Z"
      },
      {
        "duration": 17,
        "start_time": "2025-07-04T09:03:06.247Z"
      },
      {
        "duration": 347,
        "start_time": "2025-07-04T09:03:06.266Z"
      },
      {
        "duration": 610,
        "start_time": "2025-07-04T09:03:06.615Z"
      },
      {
        "duration": 965,
        "start_time": "2025-07-04T09:03:07.227Z"
      },
      {
        "duration": 416,
        "start_time": "2025-07-04T09:03:08.194Z"
      },
      {
        "duration": 123,
        "start_time": "2025-07-04T09:03:08.612Z"
      },
      {
        "duration": 0,
        "start_time": "2025-07-04T09:03:08.737Z"
      },
      {
        "duration": 0,
        "start_time": "2025-07-04T09:03:08.738Z"
      },
      {
        "duration": 0,
        "start_time": "2025-07-04T09:03:08.739Z"
      },
      {
        "duration": 8,
        "start_time": "2025-07-04T09:04:01.089Z"
      },
      {
        "duration": 9,
        "start_time": "2025-07-04T09:04:29.893Z"
      },
      {
        "duration": 11,
        "start_time": "2025-07-04T09:04:53.723Z"
      },
      {
        "duration": 1230,
        "start_time": "2025-07-04T09:06:35.026Z"
      },
      {
        "duration": 515,
        "start_time": "2025-07-04T09:06:36.261Z"
      },
      {
        "duration": 68,
        "start_time": "2025-07-04T09:06:36.777Z"
      },
      {
        "duration": 7,
        "start_time": "2025-07-04T09:06:36.860Z"
      },
      {
        "duration": 342,
        "start_time": "2025-07-04T09:06:36.868Z"
      },
      {
        "duration": 601,
        "start_time": "2025-07-04T09:06:37.212Z"
      },
      {
        "duration": 1011,
        "start_time": "2025-07-04T09:06:37.815Z"
      },
      {
        "duration": 409,
        "start_time": "2025-07-04T09:06:38.828Z"
      },
      {
        "duration": 44,
        "start_time": "2025-07-04T09:06:39.239Z"
      },
      {
        "duration": 601,
        "start_time": "2025-07-04T09:06:39.285Z"
      },
      {
        "duration": 531,
        "start_time": "2025-07-04T09:06:39.888Z"
      },
      {
        "duration": 16,
        "start_time": "2025-07-04T09:11:15.389Z"
      },
      {
        "duration": 332,
        "start_time": "2025-07-04T09:11:44.070Z"
      },
      {
        "duration": 5191,
        "start_time": "2025-07-05T05:28:25.035Z"
      },
      {
        "duration": 518,
        "start_time": "2025-07-05T05:28:55.168Z"
      },
      {
        "duration": 262,
        "start_time": "2025-07-05T05:30:22.295Z"
      },
      {
        "duration": 56,
        "start_time": "2025-07-05T05:30:58.012Z"
      },
      {
        "duration": 6,
        "start_time": "2025-07-05T05:31:01.153Z"
      },
      {
        "duration": 375,
        "start_time": "2025-07-05T05:31:05.074Z"
      },
      {
        "duration": 112,
        "start_time": "2025-07-05T05:31:39.890Z"
      },
      {
        "duration": 4136,
        "start_time": "2025-07-05T05:31:51.541Z"
      },
      {
        "duration": 384,
        "start_time": "2025-07-05T05:31:55.679Z"
      },
      {
        "duration": 53,
        "start_time": "2025-07-05T05:31:56.065Z"
      },
      {
        "duration": 6,
        "start_time": "2025-07-05T05:31:56.120Z"
      },
      {
        "duration": 308,
        "start_time": "2025-07-05T05:31:56.127Z"
      },
      {
        "duration": 571,
        "start_time": "2025-07-05T05:31:56.437Z"
      },
      {
        "duration": 952,
        "start_time": "2025-07-05T05:31:57.010Z"
      },
      {
        "duration": 356,
        "start_time": "2025-07-05T05:31:57.963Z"
      },
      {
        "duration": 41,
        "start_time": "2025-07-05T05:31:58.321Z"
      },
      {
        "duration": 685,
        "start_time": "2025-07-05T05:31:58.364Z"
      },
      {
        "duration": 318,
        "start_time": "2025-07-05T05:31:59.051Z"
      },
      {
        "duration": 467,
        "start_time": "2025-07-05T05:31:59.370Z"
      }
    ],
    "colab": {
      "provenance": [],
      "include_colab_link": true
    },
    "kernelspec": {
      "display_name": "Python 3 (ipykernel)",
      "language": "python",
      "name": "python3"
    },
    "language_info": {
      "codemirror_mode": {
        "name": "ipython",
        "version": 3
      },
      "file_extension": ".py",
      "mimetype": "text/x-python",
      "name": "python",
      "nbconvert_exporter": "python",
      "pygments_lexer": "ipython3",
      "version": "3.9.5"
    },
    "toc": {
      "base_numbering": 1,
      "nav_menu": {},
      "number_sections": true,
      "sideBar": true,
      "skip_h1_title": true,
      "title_cell": "Table of Contents",
      "title_sidebar": "Contents",
      "toc_cell": false,
      "toc_position": {},
      "toc_section_display": true,
      "toc_window_display": false
    }
  },
  "nbformat": 4,
  "nbformat_minor": 5
}