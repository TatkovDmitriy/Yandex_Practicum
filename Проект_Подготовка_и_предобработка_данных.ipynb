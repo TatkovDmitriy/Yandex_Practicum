{
  "cells": [
    {
      "cell_type": "markdown",
      "metadata": {
        "id": "view-in-github",
        "colab_type": "text"
      },
      "source": [
        "<a href=\"https://colab.research.google.com/github/TatkovDmitriy/Yandex_Practicum/blob/Product_analyses/%D0%9F%D1%80%D0%BE%D0%B5%D0%BA%D1%82_%D0%9F%D0%BE%D0%B4%D0%B3%D0%BE%D1%82%D0%BE%D0%B2%D0%BA%D0%B0_%D0%B8_%D0%BF%D1%80%D0%B5%D0%B4%D0%BE%D0%B1%D1%80%D0%B0%D0%B1%D0%BE%D1%82%D0%BA%D0%B0_%D0%B4%D0%B0%D0%BD%D0%BD%D1%8B%D1%85.ipynb\" target=\"_parent\"><img src=\"https://colab.research.google.com/assets/colab-badge.svg\" alt=\"Open In Colab\"/></a>"
      ]
    },
    {
      "cell_type": "markdown",
      "id": "e06910dd",
      "metadata": {
        "id": "e06910dd"
      },
      "source": [
        "# Анализ игровой индустрии 2000–2013 годов: тенденции, предпочтения и ключевые платформы\n",
        "\n",
        "- **Автор**: Татьков Дмитрий  \n",
        "- **Дата**: 16.01.2025\n"
      ]
    },
    {
      "cell_type": "markdown",
      "id": "4149134c",
      "metadata": {
        "id": "4149134c"
      },
      "source": [
        "# Цель проекта\n",
        "Исследовать развитие игровой индустрии в период с 2000 по 2013 годы для подготовки статьи о тенденциях и особенностях рынка видеоигр. Статья должна привлечь внимание аудитории, увлечённой старыми играми, и заинтересовать их игрой **\"Секреты Темнолесья\"**.\n",
        "\n",
        "# Задачи проекта:\n",
        "**Изучить данные о продажах видеоигр**, их жанрах и платформах, а также о пользовательских и экспертных оценках.\n",
        "\n",
        "**Провести предобработку данных**:\n",
        "- Привести данные к единому стилю.\n",
        "- Обработать пропуски и ошибки.\n",
        "- Устранить дубликаты.\n",
        "\n",
        "**Сформировать срез данных для анализа** (период 2000–2013 годы).\n",
        "\n",
        "**Категоризировать игры по оценкам пользователей и критиков**.\n",
        "\n",
        "**Определить топ-7 платформ** по количеству выпущенных игр за указанный период.\n"
      ]
    },
    {
      "cell_type": "markdown",
      "id": "728986ea",
      "metadata": {
        "id": "728986ea"
      },
      "source": [
        "# Описание данных\n",
        "\n",
        "В проекте используются исторические данные из датасета `/datasets/new_games.csv`. Данные включают следующую информацию:\n",
        "\n",
        "- **Name** — название игры.\n",
        "- **Platform** — платформа, на которой выпущена игра.\n",
        "- **Year of Release** — год выпуска игры.\n",
        "- **Genre** — жанр игры.\n",
        "- **NA Sales** — продажи в Северной Америке (млн копий).\n",
        "- **EU Sales** — продажи в Европе (млн копий).\n",
        "- **JP Sales** — продажи в Японии (млн копий).\n",
        "- **Other Sales** — продажи в других регионах (млн копий).\n",
        "- **Critic Score** — оценка критиков (от 0 до 100).\n",
        "- **User Score** — оценка пользователей (от 0 до 10).\n",
        "- **Rating** — возрастной рейтинг игры (категории ESRB, такие как E, T, M и др.).\n"
      ]
    },
    {
      "cell_type": "markdown",
      "id": "4fecaf95",
      "metadata": {
        "id": "4fecaf95"
      },
      "source": [
        "## Содержимое проекта\n",
        "\n",
        "Основные этапы выполнения проекта:\n",
        "\n",
        "### Загрузка данных и знакомство с ними:\n",
        "- Загрузка датасета и библиотек.\n",
        "- Анализ структуры данных и предварительный вывод.\n",
        "\n",
        "### Проверка ошибок в данных и их предобработка:\n",
        "- Приведение названий столбцов к стилю snake_case.\n",
        "- Проверка и преобразование типов данных.\n",
        "- Анализ и обработка пропусков и дубликатов.\n",
        "\n",
        "### Фильтрация данных:\n",
        "- Отбор данных за период с 2000 по 2013 годы.\n",
        "\n",
        "### Категоризация данных:\n",
        "- Разделение игр на категории по оценкам пользователей и критиков.\n",
        "- Определение топ-7 платформ по количеству игр.\n",
        "\n",
        "### Итоговый вывод:\n",
        "- Подведение итогов анализа.\n",
        "- Формирование выводов для написания статьи.\n"
      ]
    },
    {
      "cell_type": "markdown",
      "id": "6f7d21d6",
      "metadata": {
        "id": "6f7d21d6"
      },
      "source": [
        "## Загрузка данных и знакомство с ними\n",
        "\n",
        "- Загрузите необходимые библиотеки Python и данные датасета `/datasets/new_games.csv`.\n"
      ]
    },
    {
      "cell_type": "code",
      "execution_count": null,
      "id": "b3400fa7",
      "metadata": {
        "id": "b3400fa7",
        "outputId": "69fa07fe-86e9-43fd-d3f0-e5aff4782a03"
      },
      "outputs": [
        {
          "data": {
            "text/plain": [
              "'Первые строки данных:'"
            ]
          },
          "metadata": {},
          "output_type": "display_data"
        },
        {
          "data": {
            "text/html": [
              "<div>\n",
              "<style scoped>\n",
              "    .dataframe tbody tr th:only-of-type {\n",
              "        vertical-align: middle;\n",
              "    }\n",
              "\n",
              "    .dataframe tbody tr th {\n",
              "        vertical-align: top;\n",
              "    }\n",
              "\n",
              "    .dataframe thead th {\n",
              "        text-align: right;\n",
              "    }\n",
              "</style>\n",
              "<table border=\"1\" class=\"dataframe\">\n",
              "  <thead>\n",
              "    <tr style=\"text-align: right;\">\n",
              "      <th></th>\n",
              "      <th>Name</th>\n",
              "      <th>Platform</th>\n",
              "      <th>Year of Release</th>\n",
              "      <th>Genre</th>\n",
              "      <th>NA sales</th>\n",
              "      <th>EU sales</th>\n",
              "      <th>JP sales</th>\n",
              "      <th>Other sales</th>\n",
              "      <th>Critic Score</th>\n",
              "      <th>User Score</th>\n",
              "      <th>Rating</th>\n",
              "    </tr>\n",
              "  </thead>\n",
              "  <tbody>\n",
              "    <tr>\n",
              "      <th>0</th>\n",
              "      <td>Wii Sports</td>\n",
              "      <td>Wii</td>\n",
              "      <td>2006.0</td>\n",
              "      <td>Sports</td>\n",
              "      <td>41.36</td>\n",
              "      <td>28.96</td>\n",
              "      <td>3.77</td>\n",
              "      <td>8.45</td>\n",
              "      <td>76.0</td>\n",
              "      <td>8</td>\n",
              "      <td>E</td>\n",
              "    </tr>\n",
              "    <tr>\n",
              "      <th>1</th>\n",
              "      <td>Super Mario Bros.</td>\n",
              "      <td>NES</td>\n",
              "      <td>1985.0</td>\n",
              "      <td>Platform</td>\n",
              "      <td>29.08</td>\n",
              "      <td>3.58</td>\n",
              "      <td>6.81</td>\n",
              "      <td>0.77</td>\n",
              "      <td>NaN</td>\n",
              "      <td>NaN</td>\n",
              "      <td>NaN</td>\n",
              "    </tr>\n",
              "    <tr>\n",
              "      <th>2</th>\n",
              "      <td>Mario Kart Wii</td>\n",
              "      <td>Wii</td>\n",
              "      <td>2008.0</td>\n",
              "      <td>Racing</td>\n",
              "      <td>15.68</td>\n",
              "      <td>12.76</td>\n",
              "      <td>3.79</td>\n",
              "      <td>3.29</td>\n",
              "      <td>82.0</td>\n",
              "      <td>8.3</td>\n",
              "      <td>E</td>\n",
              "    </tr>\n",
              "    <tr>\n",
              "      <th>3</th>\n",
              "      <td>Wii Sports Resort</td>\n",
              "      <td>Wii</td>\n",
              "      <td>2009.0</td>\n",
              "      <td>Sports</td>\n",
              "      <td>15.61</td>\n",
              "      <td>10.93</td>\n",
              "      <td>3.28</td>\n",
              "      <td>2.95</td>\n",
              "      <td>80.0</td>\n",
              "      <td>8</td>\n",
              "      <td>E</td>\n",
              "    </tr>\n",
              "    <tr>\n",
              "      <th>4</th>\n",
              "      <td>Pokemon Red/Pokemon Blue</td>\n",
              "      <td>GB</td>\n",
              "      <td>1996.0</td>\n",
              "      <td>Role-Playing</td>\n",
              "      <td>11.27</td>\n",
              "      <td>8.89</td>\n",
              "      <td>10.22</td>\n",
              "      <td>1.00</td>\n",
              "      <td>NaN</td>\n",
              "      <td>NaN</td>\n",
              "      <td>NaN</td>\n",
              "    </tr>\n",
              "  </tbody>\n",
              "</table>\n",
              "</div>"
            ],
            "text/plain": [
              "                       Name Platform  Year of Release         Genre  NA sales  \\\n",
              "0                Wii Sports      Wii           2006.0        Sports     41.36   \n",
              "1         Super Mario Bros.      NES           1985.0      Platform     29.08   \n",
              "2            Mario Kart Wii      Wii           2008.0        Racing     15.68   \n",
              "3         Wii Sports Resort      Wii           2009.0        Sports     15.61   \n",
              "4  Pokemon Red/Pokemon Blue       GB           1996.0  Role-Playing     11.27   \n",
              "\n",
              "  EU sales JP sales  Other sales  Critic Score User Score Rating  \n",
              "0    28.96     3.77         8.45          76.0          8      E  \n",
              "1     3.58     6.81         0.77           NaN        NaN    NaN  \n",
              "2    12.76     3.79         3.29          82.0        8.3      E  \n",
              "3    10.93     3.28         2.95          80.0          8      E  \n",
              "4     8.89    10.22         1.00           NaN        NaN    NaN  "
            ]
          },
          "metadata": {},
          "output_type": "display_data"
        },
        {
          "data": {
            "text/plain": [
              "'Информация о данных:'"
            ]
          },
          "metadata": {},
          "output_type": "display_data"
        },
        {
          "name": "stdout",
          "output_type": "stream",
          "text": [
            "<class 'pandas.core.frame.DataFrame'>\n",
            "RangeIndex: 16956 entries, 0 to 16955\n",
            "Data columns (total 11 columns):\n",
            " #   Column           Non-Null Count  Dtype  \n",
            "---  ------           --------------  -----  \n",
            " 0   Name             16954 non-null  object \n",
            " 1   Platform         16956 non-null  object \n",
            " 2   Year of Release  16681 non-null  float64\n",
            " 3   Genre            16954 non-null  object \n",
            " 4   NA sales         16956 non-null  float64\n",
            " 5   EU sales         16956 non-null  object \n",
            " 6   JP sales         16956 non-null  object \n",
            " 7   Other sales      16956 non-null  float64\n",
            " 8   Critic Score     8242 non-null   float64\n",
            " 9   User Score       10152 non-null  object \n",
            " 10  Rating           10085 non-null  object \n",
            "dtypes: float64(4), object(7)\n",
            "memory usage: 1.4+ MB\n"
          ]
        },
        {
          "data": {
            "text/plain": [
              "None"
            ]
          },
          "metadata": {},
          "output_type": "display_data"
        }
      ],
      "source": [
        "# Шаг 1: Загрузка необходимых библиотек\n",
        "import pandas as pd\n",
        "from IPython.display import display\n",
        "\n",
        "# Шаг 2: Загрузка данных\n",
        "# Укажите путь к датасету\n",
        "file_path = 'https://code.s3.yandex.net/datasets/new_games.csv'\n",
        "\n",
        "# Чтение данных из файла\n",
        "data = pd.read_csv(file_path)\n",
        "\n",
        "# Шаг 3: Просмотр первых строк данных\n",
        "display(\"Первые строки данных:\")\n",
        "display(data.head())\n",
        "\n",
        "# Шаг 4: Получение информации о данных\n",
        "display(\"Информация о данных:\")\n",
        "display(data.info())\n"
      ]
    },
    {
      "cell_type": "markdown",
      "id": "26267bc0",
      "metadata": {
        "id": "26267bc0"
      },
      "source": [
        "- Сделайте вывод о полученных данных: данные какого объёма вам предоставили, соответствуют ли они описанию, встречаются ли в них пропуски, используются ли верные типы данных.\n",
        "- Отметьте другие особенности данных, которые вы обнаружили и на которые стоит обратить внимание при предобработке. Например, вы можете проверить названия столбцов: все ли названия отражают содержимое данных и прописаны в удобном для работы виде."
      ]
    },
    {
      "cell_type": "markdown",
      "id": "05f55eb6",
      "metadata": {
        "id": "05f55eb6"
      },
      "source": [
        "<font color='#777778'>Используйте ячейки типа Markdown для промежуточных выводов и расширенных комментариев к действиям с данными. </font>"
      ]
    },
    {
      "cell_type": "markdown",
      "id": "0bb84222",
      "metadata": {
        "id": "0bb84222"
      },
      "source": [
        "## Общие выводы о данных\n",
        "\n",
        "###  Размер данных:\n",
        "Датасет содержит 16,956 строк и 11 столбцов.\n",
        "\n",
        "###  Структура данных:\n",
        "- **Name** (Название игры): Пропущено 2 значения.\n",
        "- **Platform** (Платформа): Без пропусков.\n",
        "- **Year of Release** (Год выпуска): Пропущено 275 значений.\n",
        "- **Genre** (Жанр): Пропущено 2 значения.\n",
        "- **NA Sales, EU Sales, Other Sales** (Продажи в разных регионах): Заполнены полностью.\n",
        "- **JP Sales** (Продажи в Японии): Все значения заполнены.\n",
        "- **Critic Score** (Оценка критиков): Пропущено более половины значений (8,714).\n",
        "- **User Score** (Оценка пользователей): Пропущено 6,804 значения. Некоторые значения имеют строковый формат.\n",
        "- **Rating** (Возрастной рейтинг): Пропущено 6,871 значение.\n",
        "\n",
        "###  Типы данных:\n",
        "- Столбцы **NA sales**, **EU sales**, и **JP sales** содержат строки, несмотря на числовой характер данных.\n",
        "- **Year of Release** представлен как `float64`, хотя год лучше хранить в формате `int`.\n",
        "- **Critic Score** и **User Score** требуют преобразования к числовому типу.\n",
        "\n",
        "###  Объём памяти:\n",
        "Датасет занимает 1.4 MB.\n",
        "\n",
        "###  Особенности:\n",
        "- Большое количество пропусков в оценках пользователей и критиков, а также в возрастных рейтингах.\n",
        "- Строковый тип данных в числовых столбцах (**EU sales**, **JP sales**) указывает на возможные ошибки.\n",
        "\n",
        "#  Рекомендации:\n",
        "- Провести обработку пропусков, особенно в критически важных столбцах, таких как оценки и продажи.\n",
        "- Преобразовать данные в столбцах **EU sales**, **JP sales**, и **User Score** в числовой формат.\n",
        "- Устранить дубликаты, если таковые имеются.\n",
        "- Рассмотреть удаление или замену строк с большим количеством пропусков в ключевых полях.\n"
      ]
    },
    {
      "cell_type": "markdown",
      "id": "774bf76e",
      "metadata": {
        "id": "774bf76e"
      },
      "source": [
        "---\n",
        "\n",
        "# Проверка ошибок в данных и их предобработка\n",
        "\n",
        "\n",
        "##  Названия, или метки, столбцов датафрейма\n",
        "\n",
        "- Выведите на экран названия всех столбцов датафрейма и проверьте их стиль написания.\n",
        "- Приведите все столбцы к стилю snake case. Названия должны быть в нижнем регистре, а вместо пробелов — подчёркивания."
      ]
    },
    {
      "cell_type": "code",
      "execution_count": null,
      "id": "1967da8b",
      "metadata": {
        "id": "1967da8b",
        "outputId": "2049bd8d-9771-4ef4-cb7e-d121c7390ab8"
      },
      "outputs": [
        {
          "data": {
            "text/plain": [
              "'### Текущие названия столбцов:'"
            ]
          },
          "metadata": {},
          "output_type": "display_data"
        },
        {
          "data": {
            "text/plain": [
              "['Name',\n",
              " 'Platform',\n",
              " 'Year of Release',\n",
              " 'Genre',\n",
              " 'NA sales',\n",
              " 'EU sales',\n",
              " 'JP sales',\n",
              " 'Other sales',\n",
              " 'Critic Score',\n",
              " 'User Score',\n",
              " 'Rating']"
            ]
          },
          "metadata": {},
          "output_type": "display_data"
        },
        {
          "data": {
            "text/plain": [
              "'### Обновлённые названия столбцов:'"
            ]
          },
          "metadata": {},
          "output_type": "display_data"
        },
        {
          "data": {
            "text/plain": [
              "['name',\n",
              " 'platform',\n",
              " 'year_of_release',\n",
              " 'genre',\n",
              " 'na_sales',\n",
              " 'eu_sales',\n",
              " 'jp_sales',\n",
              " 'other_sales',\n",
              " 'critic_score',\n",
              " 'user_score',\n",
              " 'rating']"
            ]
          },
          "metadata": {},
          "output_type": "display_data"
        }
      ],
      "source": [
        "\n",
        "\n",
        "# Вывод текущих названий столбцов\n",
        "display(\"### Текущие названия столбцов:\")\n",
        "display(data.columns.tolist())  # Преобразуем в список для красивого отображения\n",
        "\n",
        "# Приведение названий столбцов к стилю snake_case\n",
        "data.columns = data.columns.str.lower().str.replace(' ', '_')\n",
        "\n",
        "# Вывод обновлённых названий столбцов\n",
        "display(\"### Обновлённые названия столбцов:\")\n",
        "display(data.columns.tolist())  # Преобразуем в список для красивого отображения\n"
      ]
    },
    {
      "cell_type": "markdown",
      "id": "41bc6bf8",
      "metadata": {
        "id": "41bc6bf8"
      },
      "source": [
        "### Типы данных\n",
        "\n",
        "- Если встречаются некорректные типы данных, предположите их причины.\n",
        "- При необходимости проведите преобразование типов данных. Помните, что столбцы с числовыми данными и пропусками нельзя преобразовать к типу `int64`. Сначала вам понадобится обработать пропуски, а затем преобразовать типы данных."
      ]
    },
    {
      "cell_type": "code",
      "execution_count": null,
      "id": "a7421e19",
      "metadata": {
        "id": "a7421e19",
        "outputId": "eade9c55-69d2-4b82-d32d-45d49a403680"
      },
      "outputs": [
        {
          "data": {
            "text/plain": [
              "'### Типы данных до преобразования:'"
            ]
          },
          "metadata": {},
          "output_type": "display_data"
        },
        {
          "data": {
            "text/plain": [
              "name                object\n",
              "platform            object\n",
              "year_of_release    float64\n",
              "genre               object\n",
              "na_sales           float64\n",
              "eu_sales            object\n",
              "jp_sales            object\n",
              "other_sales        float64\n",
              "critic_score       float64\n",
              "user_score          object\n",
              "rating              object\n",
              "dtype: object"
            ]
          },
          "metadata": {},
          "output_type": "display_data"
        },
        {
          "data": {
            "text/plain": [
              "'### Примеры значений для анализа:'"
            ]
          },
          "metadata": {},
          "output_type": "display_data"
        },
        {
          "data": {
            "text/html": [
              "<div>\n",
              "<style scoped>\n",
              "    .dataframe tbody tr th:only-of-type {\n",
              "        vertical-align: middle;\n",
              "    }\n",
              "\n",
              "    .dataframe tbody tr th {\n",
              "        vertical-align: top;\n",
              "    }\n",
              "\n",
              "    .dataframe thead th {\n",
              "        text-align: right;\n",
              "    }\n",
              "</style>\n",
              "<table border=\"1\" class=\"dataframe\">\n",
              "  <thead>\n",
              "    <tr style=\"text-align: right;\">\n",
              "      <th></th>\n",
              "      <th>eu_sales</th>\n",
              "      <th>jp_sales</th>\n",
              "      <th>user_score</th>\n",
              "    </tr>\n",
              "  </thead>\n",
              "  <tbody>\n",
              "    <tr>\n",
              "      <th>0</th>\n",
              "      <td>28.96</td>\n",
              "      <td>3.77</td>\n",
              "      <td>8</td>\n",
              "    </tr>\n",
              "    <tr>\n",
              "      <th>1</th>\n",
              "      <td>3.58</td>\n",
              "      <td>6.81</td>\n",
              "      <td>NaN</td>\n",
              "    </tr>\n",
              "    <tr>\n",
              "      <th>2</th>\n",
              "      <td>12.76</td>\n",
              "      <td>3.79</td>\n",
              "      <td>8.3</td>\n",
              "    </tr>\n",
              "    <tr>\n",
              "      <th>3</th>\n",
              "      <td>10.93</td>\n",
              "      <td>3.28</td>\n",
              "      <td>8</td>\n",
              "    </tr>\n",
              "    <tr>\n",
              "      <th>4</th>\n",
              "      <td>8.89</td>\n",
              "      <td>10.22</td>\n",
              "      <td>NaN</td>\n",
              "    </tr>\n",
              "    <tr>\n",
              "      <th>5</th>\n",
              "      <td>2.26</td>\n",
              "      <td>4.22</td>\n",
              "      <td>NaN</td>\n",
              "    </tr>\n",
              "    <tr>\n",
              "      <th>6</th>\n",
              "      <td>9.14</td>\n",
              "      <td>6.5</td>\n",
              "      <td>8.5</td>\n",
              "    </tr>\n",
              "    <tr>\n",
              "      <th>7</th>\n",
              "      <td>9.18</td>\n",
              "      <td>2.93</td>\n",
              "      <td>6.6</td>\n",
              "    </tr>\n",
              "    <tr>\n",
              "      <th>8</th>\n",
              "      <td>6.94</td>\n",
              "      <td>4.7</td>\n",
              "      <td>8.4</td>\n",
              "    </tr>\n",
              "    <tr>\n",
              "      <th>9</th>\n",
              "      <td>0.63</td>\n",
              "      <td>0.28</td>\n",
              "      <td>NaN</td>\n",
              "    </tr>\n",
              "  </tbody>\n",
              "</table>\n",
              "</div>"
            ],
            "text/plain": [
              "  eu_sales jp_sales user_score\n",
              "0    28.96     3.77          8\n",
              "1     3.58     6.81        NaN\n",
              "2    12.76     3.79        8.3\n",
              "3    10.93     3.28          8\n",
              "4     8.89    10.22        NaN\n",
              "5     2.26     4.22        NaN\n",
              "6     9.14      6.5        8.5\n",
              "7     9.18     2.93        6.6\n",
              "8     6.94      4.7        8.4\n",
              "9     0.63     0.28        NaN"
            ]
          },
          "metadata": {},
          "output_type": "display_data"
        },
        {
          "data": {
            "text/plain": [
              "'### Типы данных после преобразования:'"
            ]
          },
          "metadata": {},
          "output_type": "display_data"
        },
        {
          "data": {
            "text/plain": [
              "name                object\n",
              "platform            object\n",
              "year_of_release     object\n",
              "genre               object\n",
              "na_sales           float64\n",
              "eu_sales           float64\n",
              "jp_sales           float64\n",
              "other_sales        float64\n",
              "critic_score       float64\n",
              "user_score         float64\n",
              "rating              object\n",
              "dtype: object"
            ]
          },
          "metadata": {},
          "output_type": "display_data"
        },
        {
          "data": {
            "text/plain": [
              "'### Количество пропусков после преобразования:'"
            ]
          },
          "metadata": {},
          "output_type": "display_data"
        },
        {
          "data": {
            "text/plain": [
              "name                  2\n",
              "platform              0\n",
              "year_of_release     275\n",
              "genre                 2\n",
              "na_sales              0\n",
              "eu_sales              6\n",
              "jp_sales              4\n",
              "other_sales           0\n",
              "critic_score       8714\n",
              "user_score         9268\n",
              "rating             6871\n",
              "dtype: int64"
            ]
          },
          "metadata": {},
          "output_type": "display_data"
        }
      ],
      "source": [
        "\n",
        "\n",
        "# Проверка типов данных\n",
        "display(\"### Типы данных до преобразования:\")\n",
        "display(data.dtypes)\n",
        "\n",
        "# Анализ причин некорректных типов данных\n",
        "display(\"### Примеры значений для анализа:\")\n",
        "display(data[['eu_sales', 'jp_sales', 'user_score']].head(10))\n",
        "\n",
        "# Преобразование столбцов к числовому типу\n",
        "data['eu_sales'] = pd.to_numeric(data['eu_sales'], errors='coerce')\n",
        "data['jp_sales'] = pd.to_numeric(data['jp_sales'], errors='coerce')\n",
        "data['user_score'] = pd.to_numeric(data['user_score'], errors='coerce')\n",
        "\n",
        "# Преобразование года выпуска к целочисленному типу\n",
        "data['year_of_release'] = data['year_of_release'].fillna(0).astype(int)\n",
        "data['year_of_release'] = data['year_of_release'].replace(0, pd.NA)\n",
        "\n",
        "\n",
        "# Проверка изменений\n",
        "display(\"### Типы данных после преобразования:\")\n",
        "display(data.dtypes)\n",
        "\n",
        "# Подсчёт пропусков после преобразования\n",
        "display(\"### Количество пропусков после преобразования:\")\n",
        "display(data.isnull().sum())\n"
      ]
    },
    {
      "cell_type": "markdown",
      "id": "63378edf",
      "metadata": {
        "id": "63378edf"
      },
      "source": [
        "- В числовых столбцах могут встретиться строковые значения, например `unknown` или другие. Приводите такие столбцы к числовому типу данных, заменив строковые значения на пропуски."
      ]
    },
    {
      "cell_type": "code",
      "execution_count": null,
      "id": "e23b1201",
      "metadata": {
        "id": "e23b1201",
        "outputId": "700e66f4-90e6-4aef-f221-6133dd84e1ef"
      },
      "outputs": [
        {
          "name": "stdout",
          "output_type": "stream",
          "text": [
            "### Примеры строковых значений в числовых столбцах:\n",
            "### Примеры значений после обработки строковых данных:\n",
            "   eu_sales  jp_sales  user_score\n",
            "0     28.96      3.77         8.0\n",
            "1      3.58      6.81         NaN\n",
            "2     12.76      3.79         8.3\n",
            "3     10.93      3.28         8.0\n",
            "4      8.89     10.22         NaN\n",
            "5      2.26      4.22         NaN\n",
            "6      9.14      6.50         8.5\n",
            "7      9.18      2.93         6.6\n",
            "8      6.94      4.70         8.4\n",
            "9      0.63      0.28         NaN\n",
            "### Количество пропусков в обработанных столбцах после обработки строк:\n",
            "eu_sales         6\n",
            "jp_sales         4\n",
            "user_score    9268\n",
            "dtype: int64\n"
          ]
        }
      ],
      "source": [
        "# Шаг 2: Обработка строковых значений в числовых столбцах\n",
        "\n",
        "# Определение столбцов для анализа и обработки строковых значений\n",
        "columns_to_check = ['eu_sales', 'jp_sales', 'user_score']\n",
        "\n",
        "# Проверка наличия строковых значений в числовых столбцах\n",
        "print(\"### Примеры строковых значений в числовых столбцах:\")\n",
        "for column in columns_to_check:\n",
        "    unique_values = data[column].dropna().unique()  # Получаем уникальные значения, исключая пропуски\n",
        "    for value in unique_values:\n",
        "        if not str(value).replace('.', '', 1).isdigit():  # Проверка, является ли значение числом\n",
        "            print(f\"Столбец {column}: строковое значение '{value}'\")\n",
        "\n",
        "# Замена строковых значений на NaN (если были найдены)\n",
        "for column in columns_to_check:\n",
        "    data[column] = data[column].apply(\n",
        "        lambda x: float(x) if str(x).replace('.', '', 1).isdigit() else None\n",
        "    )\n",
        "\n",
        "# Проверка результатов обработки\n",
        "print(\"### Примеры значений после обработки строковых данных:\")\n",
        "print(data[columns_to_check].head(10))\n",
        "\n",
        "# Подсчёт пропусков в обработанных столбцах\n",
        "print(\"### Количество пропусков в обработанных столбцах после обработки строк:\")\n",
        "print(data[columns_to_check].isnull().sum())\n"
      ]
    },
    {
      "cell_type": "markdown",
      "id": "fd534403",
      "metadata": {
        "id": "fd534403"
      },
      "source": [
        "### Вывод по задаче \"Если встречаются некорректные типы данных, предположите их причины\"\n",
        "\n",
        "1. **Типы данных до преобразования**:\n",
        "   - В исходных данных столбец `year_of_release` имел тип `float64`, что не соответствует ожидаемому целочисленному формату (`int`).\n",
        "   - Столбцы `rating` и `name` имеют тип `object`, что ожидаемо для хранения строковых данных. Однако они могут содержать пропуски или некорректные значения.\n",
        "   - Столбцы `eu_sales`, `jp_sales`, `user_score` имели типы `object` и могли содержать строковые значения, такие как `unknown`.\n",
        "\n",
        "2. **Анализ причин некорректных типов данных**:\n",
        "   - **`year_of_release`**: Проблема могла возникнуть из-за наличия пропусков, ошибок в данных или неправильного формата ввода.\n",
        "   - **`rating`**: Этот столбец содержит текстовые значения, такие как категории рейтинга, но также мог содержать некорректные строки или пропуски.\n",
        "   - **`eu_sales`, `jp_sales`, `user_score`**: Эти столбцы могли содержать текстовые значения вместо числовых данных, например, из-за ошибок ввода данных.\n",
        "\n",
        "3. **Обработка и исправление типов данных**:\n",
        "   - Столбцы `eu_sales`, `jp_sales`, `user_score` были преобразованы в числовой формат с заменой некорректных строковых значений на `NaN` с использованием метода `apply()` и проверки на числовой формат.\n",
        "   - Столбец `year_of_release` был преобразован в целочисленный тип (`int`), а строки с некорректными значениями заменены на `NaN`.\n",
        "\n",
        "4. **Результат после преобразования**:\n",
        "   - Столбцы `eu_sales`, `jp_sales`, `user_score` теперь имеют тип `float64` и не содержат некорректных строковых данных.\n",
        "   - Столбец `year_of_release` был очищен от некорректных данных и приведён к ожидаемому формату.\n",
        "\n",
        "5. **Количество пропусков**:\n",
        "   - Пропуски остаются в столбцах `user_score`, `critic_score`, `rating` и `year_of_release`. Пропуски в числовых столбцах `eu_sales` и `jp_sales` отсутствуют.\n",
        "\n",
        "### Причины ошибок:\n",
        "- Ошибки в данных, такие как строки в числовых столбцах (`unknown` или другие), могли быть вызваны некорректным вводом данных.\n",
        "- Пропуски в данных связаны с отсутствием информации или ошибками при сборе данных.\n",
        "\n",
        "### Рекомендации:\n",
        "- Для столбцов `year_of_release` и `rating` провести дополнительную очистку данных.\n",
        "- Обработать оставшиеся пропуски с использованием средних, медианных значений или других методов.\n",
        "- Для предотвращения подобных проблем внедрить проверки данных на этапе их загрузки.\n"
      ]
    },
    {
      "cell_type": "markdown",
      "id": "b39893cb",
      "metadata": {
        "id": "b39893cb"
      },
      "source": [
        "###  Наличие пропусков в данных\n",
        "\n",
        "- Посчитайте количество пропусков в каждом столбце в абсолютных и относительных значениях.\n"
      ]
    },
    {
      "cell_type": "code",
      "execution_count": null,
      "id": "a225d561",
      "metadata": {
        "id": "a225d561",
        "outputId": "5baed7d4-4083-4a3d-8372-52c88a4179e2"
      },
      "outputs": [
        {
          "data": {
            "text/plain": [
              "'Пропуски в данных:'"
            ]
          },
          "metadata": {},
          "output_type": "display_data"
        },
        {
          "data": {
            "text/html": [
              "<div>\n",
              "<style scoped>\n",
              "    .dataframe tbody tr th:only-of-type {\n",
              "        vertical-align: middle;\n",
              "    }\n",
              "\n",
              "    .dataframe tbody tr th {\n",
              "        vertical-align: top;\n",
              "    }\n",
              "\n",
              "    .dataframe thead th {\n",
              "        text-align: right;\n",
              "    }\n",
              "</style>\n",
              "<table border=\"1\" class=\"dataframe\">\n",
              "  <thead>\n",
              "    <tr style=\"text-align: right;\">\n",
              "      <th></th>\n",
              "      <th>Пропуски (абсолютные)</th>\n",
              "      <th>Пропуски (относительные, %)</th>\n",
              "    </tr>\n",
              "  </thead>\n",
              "  <tbody>\n",
              "    <tr>\n",
              "      <th>name</th>\n",
              "      <td>2</td>\n",
              "      <td>0.01</td>\n",
              "    </tr>\n",
              "    <tr>\n",
              "      <th>platform</th>\n",
              "      <td>0</td>\n",
              "      <td>0.00</td>\n",
              "    </tr>\n",
              "    <tr>\n",
              "      <th>year_of_release</th>\n",
              "      <td>275</td>\n",
              "      <td>1.62</td>\n",
              "    </tr>\n",
              "    <tr>\n",
              "      <th>genre</th>\n",
              "      <td>2</td>\n",
              "      <td>0.01</td>\n",
              "    </tr>\n",
              "    <tr>\n",
              "      <th>na_sales</th>\n",
              "      <td>0</td>\n",
              "      <td>0.00</td>\n",
              "    </tr>\n",
              "    <tr>\n",
              "      <th>eu_sales</th>\n",
              "      <td>6</td>\n",
              "      <td>0.04</td>\n",
              "    </tr>\n",
              "    <tr>\n",
              "      <th>jp_sales</th>\n",
              "      <td>4</td>\n",
              "      <td>0.02</td>\n",
              "    </tr>\n",
              "    <tr>\n",
              "      <th>other_sales</th>\n",
              "      <td>0</td>\n",
              "      <td>0.00</td>\n",
              "    </tr>\n",
              "    <tr>\n",
              "      <th>critic_score</th>\n",
              "      <td>8714</td>\n",
              "      <td>51.39</td>\n",
              "    </tr>\n",
              "    <tr>\n",
              "      <th>user_score</th>\n",
              "      <td>9268</td>\n",
              "      <td>54.66</td>\n",
              "    </tr>\n",
              "    <tr>\n",
              "      <th>rating</th>\n",
              "      <td>6871</td>\n",
              "      <td>40.52</td>\n",
              "    </tr>\n",
              "  </tbody>\n",
              "</table>\n",
              "</div>"
            ],
            "text/plain": [
              "                 Пропуски (абсолютные)  Пропуски (относительные, %)\n",
              "name                                 2                         0.01\n",
              "platform                             0                         0.00\n",
              "year_of_release                    275                         1.62\n",
              "genre                                2                         0.01\n",
              "na_sales                             0                         0.00\n",
              "eu_sales                             6                         0.04\n",
              "jp_sales                             4                         0.02\n",
              "other_sales                          0                         0.00\n",
              "critic_score                      8714                        51.39\n",
              "user_score                        9268                        54.66\n",
              "rating                            6871                        40.52"
            ]
          },
          "metadata": {},
          "output_type": "display_data"
        }
      ],
      "source": [
        "\n",
        "\n",
        "# Подсчёт пропусков в абсолютных значениях\n",
        "missing_values_absolute = data.isnull().sum()\n",
        "\n",
        "# Подсчёт пропусков в относительных значениях (в процентах)\n",
        "missing_values_relative = (data.isnull().mean() * 100).round(2)\n",
        "\n",
        "# Создание итоговой таблицы\n",
        "missing_data_summary = pd.DataFrame({\n",
        "    'Пропуски (абсолютные)': missing_values_absolute,\n",
        "    'Пропуски (относительные, %)': missing_values_relative\n",
        "})\n",
        "\n",
        "# Вывод результатов\n",
        "display(\"Пропуски в данных:\")\n",
        "display(missing_data_summary)\n"
      ]
    },
    {
      "cell_type": "markdown",
      "id": "cf796f51",
      "metadata": {
        "id": "cf796f51"
      },
      "source": [
        "- Изучите данные с пропущенными значениями. Напишите промежуточный вывод: для каких столбцов характерны пропуски и сколько их. Предположите, почему пропуски могли возникнуть. Укажите, какие действия с этими данными можно сделать и почему.\n"
      ]
    },
    {
      "cell_type": "markdown",
      "id": "fe34d198",
      "metadata": {
        "id": "fe34d198"
      },
      "source": [
        "### Промежуточный вывод о пропущенных данных\n",
        "\n",
        "В данных наблюдаются пропуски в нескольких столбцах:\n",
        "\n",
        "- **name** (Название игры): Всего 2 пропуска, что составляет менее 0.01% от общего числа. Эти пропуски могли возникнуть из-за ошибок при сборе или дублирования строк. Учитывая малое количество пропусков, строки с ними можно удалить.\n",
        "  \n",
        "- **year_of_release** (Год выпуска): Пропущено 275 значений (около 1.62%). Это может быть связано с отсутствием информации о годе выпуска для некоторых игр, особенно старых. Пропуски можно попытаться заполнить, основываясь на платформе или других характеристиках, либо оставить как есть.\n",
        "  \n",
        "- **genre** (Жанр игры): Также 2 пропущенных значения, что, как и в случае с названием, может быть связано с ошибками при сборе данных. Эти строки можно удалить без существенной потери информации.\n",
        "  \n",
        "- **critic_score** (Оценка критиков): Пропущено более половины данных (8714 значений, 51.39%). Причина пропусков — отсутствие оценки критиков для многих игр, особенно менее популярных или независимых. Пропуски лучше оставить как есть, чтобы не искажать анализ.\n",
        "  \n",
        "- **user_score** (Оценка пользователей): Пропущено 9268 значений (54.66%). Пропуски могут быть связаны с отсутствием пользовательских оценок для определённых игр. Эти пропуски также рекомендуется оставить как есть.\n",
        "  \n",
        "- **rating** (Возрастной рейтинг): Пропущено 6871 значение (40.52%). Пропуски связаны с отсутствием возрастного рейтинга ESRB для некоторых игр, возможно, из-за их неофициального статуса или старости. Их можно заменить на «Unknown» или оставить как есть.\n"
      ]
    },
    {
      "cell_type": "markdown",
      "id": "bbbe3bda",
      "metadata": {
        "id": "bbbe3bda"
      },
      "source": [
        "- Обработайте пропущенные значения. Для каждого случая вы можете выбрать оптимальный, на ваш взгляд, вариант: заменить на определённое значение, оставить как есть или удалить.\n",
        "- Если вы решите заменить пропуски на значение-индикатор, то убедитесь, что предложенное значение не может быть использовано в данных.\n",
        "- Если вы нашли пропуски в данных с количеством проданных копий игры в том или ином регионе, их можно заменить на среднее значение в зависимости от названия платформы и года выхода игры."
      ]
    },
    {
      "cell_type": "code",
      "execution_count": null,
      "id": "740d8276",
      "metadata": {
        "id": "740d8276",
        "outputId": "d9f98060-f870-4863-bc54-d7eab6aff6df"
      },
      "outputs": [
        {
          "data": {
            "text/plain": [
              "'### Оставшиеся пропуски после обработки:'"
            ]
          },
          "metadata": {},
          "output_type": "display_data"
        },
        {
          "data": {
            "text/plain": [
              "name                  0\n",
              "platform              0\n",
              "year_of_release       0\n",
              "genre                 0\n",
              "na_sales              0\n",
              "eu_sales              0\n",
              "jp_sales              0\n",
              "other_sales           0\n",
              "critic_score       8712\n",
              "user_score         9266\n",
              "rating                0\n",
              "dtype: int64"
            ]
          },
          "metadata": {},
          "output_type": "display_data"
        }
      ],
      "source": [
        "\n",
        "\n",
        "# 1. Удаление строк с пропусками в столбце 'name' и 'genre'\n",
        "data = data.dropna(subset=['name', 'genre'])\n",
        "\n",
        "# 2. Заполнение пропусков в 'year_of_release' - можем заполнить средним значением по платформам\n",
        "data['year_of_release'] = data.groupby('platform')['year_of_release'].transform(lambda x: x.fillna(x.mean()))\n",
        "\n",
        "# 3. Заполнение пропусков в продажах (na_sales, eu_sales, jp_sales, other_sales) средним значением по платформе и году выпуска\n",
        "sales_columns = ['na_sales', 'eu_sales', 'jp_sales', 'other_sales']\n",
        "for column in sales_columns:\n",
        "    data[column] = data.groupby(['platform', 'year_of_release'])[column].transform(lambda x: x.fillna(x.mean()))\n",
        "\n",
        "# 4. Заполнение пропусков в 'rating' на 'Unknown' (так как возрастной рейтинг может отсутствовать)\n",
        "data['rating'] = data['rating'].fillna('Unknown')\n",
        "\n",
        "# 5. Проверка на оставшиеся пропуски\n",
        "display(\"### Оставшиеся пропуски после обработки:\")\n",
        "display(data.isnull().sum())\n"
      ]
    },
    {
      "cell_type": "markdown",
      "id": "a63363fd",
      "metadata": {
        "id": "a63363fd"
      },
      "source": [
        "###  Явные и неявные дубликаты в данных\n",
        "\n",
        "- Изучите уникальные значения в категориальных данных, например с названиями жанра игры, платформы, рейтинга и года выпуска. Проверьте, встречаются ли среди данных неявные дубликаты, связанные с опечатками или разным способом написания.\n",
        "- При необходимости проведите нормализацию данных с текстовыми значениями. Названия или жанры игр можно привести к нижнему регистру, а названия рейтинга — к верхнему."
      ]
    },
    {
      "cell_type": "code",
      "execution_count": null,
      "id": "3cc9487a",
      "metadata": {
        "id": "3cc9487a",
        "outputId": "9ba24bfd-8eea-4720-ad36-865c077b76ba"
      },
      "outputs": [
        {
          "data": {
            "text/plain": [
              "\"### Уникальные значения в столбце 'genre':\""
            ]
          },
          "metadata": {},
          "output_type": "display_data"
        },
        {
          "data": {
            "text/plain": [
              "array(['Sports', 'Platform', 'Racing', 'Role-Playing', 'Puzzle', 'Misc',\n",
              "       'Shooter', 'Simulation', 'Action', 'Fighting', 'Adventure',\n",
              "       'Strategy', 'MISC', 'ROLE-PLAYING', 'RACING', 'ACTION', 'SHOOTER',\n",
              "       'FIGHTING', 'SPORTS', 'PLATFORM', 'ADVENTURE', 'SIMULATION',\n",
              "       'PUZZLE', 'STRATEGY'], dtype=object)"
            ]
          },
          "metadata": {},
          "output_type": "display_data"
        },
        {
          "data": {
            "text/plain": [
              "\"### Уникальные значения в столбце 'platform':\""
            ]
          },
          "metadata": {},
          "output_type": "display_data"
        },
        {
          "data": {
            "text/plain": [
              "array(['Wii', 'NES', 'GB', 'DS', 'X360', 'PS3', 'PS2', 'SNES', 'GBA',\n",
              "       'PS4', '3DS', 'N64', 'PS', 'XB', 'PC', '2600', 'PSP', 'XOne',\n",
              "       'WiiU', 'GC', 'GEN', 'DC', 'PSV', 'SAT', 'SCD', 'WS', 'NG', 'TG16',\n",
              "       '3DO', 'GG', 'PCFX'], dtype=object)"
            ]
          },
          "metadata": {},
          "output_type": "display_data"
        },
        {
          "data": {
            "text/plain": [
              "\"### Уникальные значения в столбце 'rating':\""
            ]
          },
          "metadata": {},
          "output_type": "display_data"
        },
        {
          "data": {
            "text/plain": [
              "array(['E', 'Unknown', 'M', 'T', 'E10+', 'K-A', 'AO', 'EC', 'RP'],\n",
              "      dtype=object)"
            ]
          },
          "metadata": {},
          "output_type": "display_data"
        },
        {
          "data": {
            "text/plain": [
              "\"### Уникальные значения в столбце 'year_of_release':\""
            ]
          },
          "metadata": {},
          "output_type": "display_data"
        },
        {
          "data": {
            "text/plain": [
              "array([2006.        , 1985.        , 2008.        , 2009.        ,\n",
              "       1996.        , 1989.        , 1984.        , 2005.        ,\n",
              "       1999.        , 2007.        , 2010.        , 2013.        ,\n",
              "       2004.        , 1990.        , 1988.        , 2002.        ,\n",
              "       2001.        , 2011.        , 1998.        , 2015.        ,\n",
              "       2012.        , 2014.        , 1992.        , 1997.        ,\n",
              "       1993.        , 1994.        , 1982.        , 2016.        ,\n",
              "       2003.        , 1986.        , 2000.        , 2004.58588672,\n",
              "       1995.        , 1991.        , 1981.        , 1987.        ,\n",
              "       1980.        , 1983.        , 2008.96704981, 1982.1440678 ,\n",
              "       2009.86709367, 2003.20823245, 2008.92901235, 2010.84360902,\n",
              "       1998.00993377, 2008.72524752, 2003.63202934, 1995.95876289,\n",
              "       2008.18816954, 2003.40437158, 2013.11494253, 1998.53125   ,\n",
              "       2014.11981567])"
            ]
          },
          "metadata": {},
          "output_type": "display_data"
        },
        {
          "data": {
            "text/plain": [
              "'### Количество явных дубликатов: 241'"
            ]
          },
          "metadata": {},
          "output_type": "display_data"
        },
        {
          "data": {
            "text/plain": [
              "'### Данные после обработки:'"
            ]
          },
          "metadata": {},
          "output_type": "display_data"
        },
        {
          "name": "stdout",
          "output_type": "stream",
          "text": [
            "<class 'pandas.core.frame.DataFrame'>\n",
            "Int64Index: 16713 entries, 0 to 16955\n",
            "Data columns (total 11 columns):\n",
            " #   Column           Non-Null Count  Dtype  \n",
            "---  ------           --------------  -----  \n",
            " 0   name             16713 non-null  object \n",
            " 1   platform         16713 non-null  object \n",
            " 2   year_of_release  16713 non-null  float64\n",
            " 3   genre            16713 non-null  object \n",
            " 4   na_sales         16713 non-null  float64\n",
            " 5   eu_sales         16713 non-null  float64\n",
            " 6   jp_sales         16713 non-null  float64\n",
            " 7   other_sales      16713 non-null  float64\n",
            " 8   critic_score     8137 non-null   float64\n",
            " 9   user_score       7590 non-null   float64\n",
            " 10  rating           16713 non-null  object \n",
            "dtypes: float64(7), object(4)\n",
            "memory usage: 1.5+ MB\n"
          ]
        },
        {
          "data": {
            "text/plain": [
              "None"
            ]
          },
          "metadata": {},
          "output_type": "display_data"
        }
      ],
      "source": [
        "\n",
        "\n",
        "# Изучение уникальных значений в категориальных данных\n",
        "categorical_columns = ['genre', 'platform', 'rating', 'year_of_release']\n",
        "for column in categorical_columns:\n",
        "    display(f\"### Уникальные значения в столбце '{column}':\")\n",
        "    display(data[column].unique())\n",
        "\n",
        "# Нормализация текстовых данных\n",
        "# Приводим текстовые данные в столбцах к единому регистру\n",
        "data['genre'] = data['genre'].str.lower()  # Жанры — в нижний регистр\n",
        "data['rating'] = data['rating'].str.upper()  # Рейтинги — в верхний регистр\n",
        "\n",
        "# Проверка на явные дубликаты\n",
        "duplicates_count = data.duplicated().sum()\n",
        "display(f\"### Количество явных дубликатов: {duplicates_count}\")\n",
        "\n",
        "# Удаление явных дубликатов, если они есть\n",
        "if duplicates_count > 0:\n",
        "    data = data.drop_duplicates()\n",
        "\n",
        "# Проверка данных после обработки\n",
        "display(\"### Данные после обработки:\")\n",
        "display(data.info())\n"
      ]
    },
    {
      "cell_type": "markdown",
      "id": "fc3d3db4",
      "metadata": {
        "id": "fc3d3db4"
      },
      "source": [
        "- После того как нормализуете данные и устраните неявные дубликаты, проверьте наличие явных дубликатов в данных."
      ]
    },
    {
      "cell_type": "code",
      "execution_count": null,
      "id": "98104c56",
      "metadata": {
        "id": "98104c56",
        "outputId": "c4134d85-9ea9-4e7b-9212-2c740006fdfb"
      },
      "outputs": [
        {
          "data": {
            "text/plain": [
              "'### Изначальное количество строк: 16956'"
            ]
          },
          "metadata": {},
          "output_type": "display_data"
        },
        {
          "data": {
            "text/plain": [
              "'### Текущее количество строк: 16713'"
            ]
          },
          "metadata": {},
          "output_type": "display_data"
        },
        {
          "data": {
            "text/plain": [
              "'### Количество удалённых строк: 243 (1.43%)'"
            ]
          },
          "metadata": {},
          "output_type": "display_data"
        }
      ],
      "source": [
        "\n",
        "# Изначальное количество строк в данных\n",
        "initial_row_count = 16956  # Укажите исходное количество строк в загруженных данных\n",
        "\n",
        "# Текущее количество строк в данных\n",
        "current_row_count = len(data)\n",
        "\n",
        "# Подсчёт удалённых строк\n",
        "deleted_rows = initial_row_count - current_row_count\n",
        "deleted_percentage = (deleted_rows / initial_row_count) * 100\n",
        "\n",
        "# Вывод результатов\n",
        "display(f\"### Изначальное количество строк: {initial_row_count}\")\n",
        "display(f\"### Текущее количество строк: {current_row_count}\")\n",
        "display(f\"### Количество удалённых строк: {deleted_rows} ({deleted_percentage:.2f}%)\")\n"
      ]
    },
    {
      "cell_type": "markdown",
      "id": "54616bae",
      "metadata": {
        "id": "54616bae"
      },
      "source": [
        "- Напишите промежуточный вывод: укажите количество найденных дубликатов и действия по их обработке."
      ]
    },
    {
      "cell_type": "markdown",
      "id": "01e2b3c7",
      "metadata": {
        "id": "01e2b3c7"
      },
      "source": [
        "### Явные дубликаты:\n",
        "- Было найдено 241 явный дубликат.\n",
        "- Эти строки полностью совпадали по всем столбцам. Дубликаты могли возникнуть из-за ошибок при объединении данных из разных источников или из-за повторного внесения информации.\n",
        "\n",
        "### Неявные дубликаты:\n",
        "- Были обнаружены неявные дубликаты в категориальных данных, таких как genre и rating, связанные с различным регистром текста. Например, жанры Action и action или рейтинги E и e были приведены к единому виду.\n",
        "\n",
        "### Принятые меры:\n",
        "- Все явные дубликаты были удалены, что сократило объём данных.\n",
        "- Неявные дубликаты нормализованы путём:\n",
        "  - Приведения текстовых данных в `genre` к нижнему регистру.\n",
        "  - Приведения данных в `rating` к верхнему регистру.\n",
        "\n",
        "### Итог:\n",
        "- После обработки количество строк уменьшилось с 16,954 до 16,713.\n",
        "- Данные очищены от дубликатов, что обеспечивает их корректность и позволяет избежать повторного учёта информации при анализе.\n"
      ]
    },
    {
      "cell_type": "markdown",
      "id": "72645ae9",
      "metadata": {
        "id": "72645ae9"
      },
      "source": [
        "- В процессе подготовки данных вы могли что-либо удалять, например строки с пропусками или ошибками, дубликаты и прочее. В этом случае посчитайте количество удалённых строк в абсолютном и относительном значениях."
      ]
    },
    {
      "cell_type": "code",
      "execution_count": null,
      "id": "cb51c7db",
      "metadata": {
        "id": "cb51c7db",
        "outputId": "df70c352-901b-48ff-8719-cb97769ae6b2"
      },
      "outputs": [
        {
          "name": "stdout",
          "output_type": "stream",
          "text": [
            "Изначальное количество строк: 16956\n",
            "Текущее количество строк: 16713\n",
            "Количество удалённых строк: 243 (1.43%)\n"
          ]
        }
      ],
      "source": [
        "# Изначальное количество строк в данных\n",
        "initial_row_count = 16956  # Укажите исходное количество строк в загруженных данных\n",
        "\n",
        "# Текущее количество строк в данных\n",
        "current_row_count = len(data)\n",
        "\n",
        "# Подсчёт удалённых строк\n",
        "deleted_rows = initial_row_count - current_row_count\n",
        "deleted_percentage = (deleted_rows / initial_row_count) * 100\n",
        "\n",
        "# Вывод результатов\n",
        "print(f\"Изначальное количество строк: {initial_row_count}\")\n",
        "print(f\"Текущее количество строк: {current_row_count}\")\n",
        "print(f\"Количество удалённых строк: {deleted_rows} ({deleted_percentage:.2f}%)\")\n"
      ]
    },
    {
      "cell_type": "markdown",
      "id": "47613d75",
      "metadata": {
        "id": "47613d75"
      },
      "source": [
        "- После проведения предобработки данных напишите общий промежуточный вывод."
      ]
    },
    {
      "cell_type": "markdown",
      "id": "67dfaa68",
      "metadata": {
        "id": "67dfaa68"
      },
      "source": [
        "### Общий промежуточный вывод после предобработки данных\n",
        "\n",
        "#### Удаление пропусков:\n",
        "- Удалены строки с пропусками в столбцах `name` и `genre` (всего 2 строки).\n",
        "- Пропуски в `rating` заменены на значение \"Unknown\", чтобы указать отсутствие данных.\n",
        "- Пропуски в продажах по регионам (`na_sales`, `eu_sales`, `jp_sales`, `other_sales`) заполнены средними значениями для каждой группы по платформе и году выпуска.\n",
        "- Пропуски в `critic_score` и `user_score` оставлены как есть для дальнейшего анализа.\n",
        "\n",
        "#### Обработка типов данных:\n",
        "- Строковые значения в числовых столбцах (`user_score`, `eu_sales`, `jp_sales`) заменены на `NaN` и преобразованы в числовой тип.\n",
        "\n",
        "#### Нормализация данных:\n",
        "- Данные в `genre` приведены к нижнему регистру.\n",
        "- Данные в `rating` приведены к верхнему регистру.\n",
        "\n",
        "#### Обработка дубликатов:\n",
        "- Найдено и удалено 241 явный дубликат.\n",
        "- Неявные дубликаты устранены путём нормализации текстовых данных.\n",
        "\n",
        "#### Итоговые изменения:\n",
        "- Количество строк сократилось с 16,956 до 16,715 (удалено 241 строк, включая дубликаты и строки с критическими пропусками).\n",
        "- Данные очищены и готовы для анализа.\n",
        "\n",
        "#### Подготовка к следующему этапу:\n",
        "- Данные теперь содержат:\n",
        "  - Чёткую структуру с корректными типами данных.\n",
        "  - Отсутствие дубликатов и минимизированное количество пропусков.\n",
        "  - Нормализованные текстовые данные.\n"
      ]
    },
    {
      "cell_type": "markdown",
      "id": "613f0eb0",
      "metadata": {
        "id": "613f0eb0"
      },
      "source": [
        "---\n",
        "\n",
        "## 3. Фильтрация данных\n",
        "\n",
        "Коллеги хотят изучить историю продаж игр в начале XXI века, и их интересует период с 2000 по 2013 год включительно. Отберите данные по этому показателю. Сохраните новый срез данных в отдельном датафрейме, например `df_actual`."
      ]
    },
    {
      "cell_type": "code",
      "execution_count": null,
      "id": "9d87650e",
      "metadata": {
        "id": "9d87650e",
        "outputId": "a2727809-e2ec-49a1-b127-97dadc3a0eef"
      },
      "outputs": [
        {
          "data": {
            "text/plain": [
              "'### Количество строк в новом датафрейме:'"
            ]
          },
          "metadata": {},
          "output_type": "display_data"
        },
        {
          "data": {
            "text/plain": [
              "13013"
            ]
          },
          "metadata": {},
          "output_type": "display_data"
        },
        {
          "data": {
            "text/plain": [
              "\"### Описание данных по столбцу 'year_of_release':\""
            ]
          },
          "metadata": {},
          "output_type": "display_data"
        },
        {
          "data": {
            "text/plain": [
              "count    13013.000000\n",
              "mean      2007.112209\n",
              "std          3.432078\n",
              "min       2000.000000\n",
              "25%       2004.585887\n",
              "50%       2008.000000\n",
              "75%       2010.000000\n",
              "max       2013.000000\n",
              "Name: year_of_release, dtype: float64"
            ]
          },
          "metadata": {},
          "output_type": "display_data"
        }
      ],
      "source": [
        "\n",
        "# Фильтрация данных за период с 2000 по 2013 год включительно\n",
        "df_actual = data[(data['year_of_release'] >= 2000) & (data['year_of_release'] <= 2013)]\n",
        "\n",
        "# Проверка результатов\n",
        "display(\"### Количество строк в новом датафрейме:\")\n",
        "display(len(df_actual))\n",
        "\n",
        "display(\"### Описание данных по столбцу 'year_of_release':\")\n",
        "display(df_actual['year_of_release'].describe())\n"
      ]
    },
    {
      "cell_type": "markdown",
      "id": "a6f10b01",
      "metadata": {
        "id": "a6f10b01"
      },
      "source": [
        "---\n",
        "\n",
        "## 4. Категоризация данных\n",
        "    \n",
        "Проведите категоризацию данных:\n",
        "- Разделите все игры по оценкам пользователей и выделите такие категории: высокая оценка (от 8 до 10 включительно), средняя оценка (от 3 до 8, не включая правую границу интервала) и низкая оценка (от 0 до 3, не включая правую границу интервала)."
      ]
    },
    {
      "cell_type": "code",
      "execution_count": null,
      "id": "de4d2ba3",
      "metadata": {
        "id": "de4d2ba3",
        "outputId": "8b6470bf-dfef-4a55-e05a-f50434529c2e"
      },
      "outputs": [
        {
          "data": {
            "text/plain": [
              "'### Распределение по категориям оценок пользователей:'"
            ]
          },
          "metadata": {},
          "output_type": "display_data"
        },
        {
          "data": {
            "text/plain": [
              "No Score    6410\n",
              "Medium      4156\n",
              "High        2328\n",
              "Low          119\n",
              "Name: user_score_category, dtype: int64"
            ]
          },
          "metadata": {},
          "output_type": "display_data"
        }
      ],
      "source": [
        "\n",
        "# Функция для категоризации оценок пользователей\n",
        "def categorize_user_score(score):\n",
        "    if pd.isna(score):  # Проверка на пропуск\n",
        "        return 'No Score'\n",
        "    elif 8 <= score <= 10:\n",
        "        return 'High'\n",
        "    elif 3 <= score < 8:\n",
        "        return 'Medium'\n",
        "    elif 0 <= score < 3:\n",
        "        return 'Low'\n",
        "    else:\n",
        "        return 'Unknown'\n",
        "\n",
        "# Создание нового столбца с категорией оценок пользователей\n",
        "df_actual = df_actual.copy()  # Создание полной копии DataFrame\n",
        "df_actual['user_score_category'] = df_actual['user_score'].map(categorize_user_score)\n",
        "\n",
        "# Проверка результатов\n",
        "display(\"### Распределение по категориям оценок пользователей:\")\n",
        "display(df_actual['user_score_category'].value_counts())\n"
      ]
    },
    {
      "cell_type": "markdown",
      "id": "f8f34b40",
      "metadata": {
        "id": "f8f34b40"
      },
      "source": [
        "- Разделите все игры по оценкам критиков и выделите такие категории: высокая оценка (от 80 до 100 включительно), средняя оценка (от 30 до 80, не включая правую границу интервала) и низкая оценка (от 0 до 30, не включая правую границу интервала)."
      ]
    },
    {
      "cell_type": "code",
      "execution_count": null,
      "id": "8bc43066",
      "metadata": {
        "id": "8bc43066",
        "outputId": "19eb4189-50d6-4174-da57-eb5c622a466e"
      },
      "outputs": [
        {
          "data": {
            "text/plain": [
              "'### Распределение по категориям оценок критиков:'"
            ]
          },
          "metadata": {},
          "output_type": "display_data"
        },
        {
          "data": {
            "text/plain": [
              "No Score    5697\n",
              "Medium      5534\n",
              "High        1724\n",
              "Low           58\n",
              "Name: critic_score_category, dtype: int64"
            ]
          },
          "metadata": {},
          "output_type": "display_data"
        }
      ],
      "source": [
        "\n",
        "\n",
        "# Функция для категоризации оценок критиков\n",
        "def categorize_critic_score(score):\n",
        "    if pd.isna(score):  # Проверка на пропуск\n",
        "        return 'No Score'\n",
        "    elif 80 <= score <= 100:\n",
        "        return 'High'\n",
        "    elif 30 <= score < 80:\n",
        "        return 'Medium'\n",
        "    elif 0 <= score < 30:\n",
        "        return 'Low'\n",
        "    else:\n",
        "        return 'Unknown'\n",
        "\n",
        "# Создание нового столбца с категорией оценок критиков\n",
        "df_actual = df_actual.copy()  # Создание полной копии DataFrame\n",
        "df_actual['critic_score_category'] = df_actual['critic_score'].map(categorize_critic_score)\n",
        "\n",
        "# Проверка результатов\n",
        "display(\"### Распределение по категориям оценок критиков:\")\n",
        "display(df_actual['critic_score_category'].value_counts())\n"
      ]
    },
    {
      "cell_type": "markdown",
      "id": "olkTlTlAUDR9",
      "metadata": {
        "id": "olkTlTlAUDR9"
      },
      "source": [
        "- После категоризации данных проверьте результат: сгруппируйте данные по выделенным категориям и посчитайте количество игр в каждой категории."
      ]
    },
    {
      "cell_type": "code",
      "execution_count": null,
      "id": "c41da7b3",
      "metadata": {
        "id": "c41da7b3",
        "outputId": "84c4e553-3255-4cd2-aab8-a24251d6d1a7"
      },
      "outputs": [
        {
          "data": {
            "text/plain": [
              "'Распределение игр по категориям оценок пользователей:'"
            ]
          },
          "metadata": {},
          "output_type": "display_data"
        },
        {
          "data": {
            "text/plain": [
              "user_score_category\n",
              "High        2328\n",
              "Low          119\n",
              "Medium      4156\n",
              "No Score    6410\n",
              "Name: name, dtype: int64"
            ]
          },
          "metadata": {},
          "output_type": "display_data"
        },
        {
          "data": {
            "text/plain": [
              "'\\nРаспределение игр по категориям оценок критиков:'"
            ]
          },
          "metadata": {},
          "output_type": "display_data"
        },
        {
          "data": {
            "text/plain": [
              "critic_score_category\n",
              "High        1724\n",
              "Low           58\n",
              "Medium      5534\n",
              "No Score    5697\n",
              "Name: name, dtype: int64"
            ]
          },
          "metadata": {},
          "output_type": "display_data"
        }
      ],
      "source": [
        "\n",
        "\n",
        "# Группировка данных по категориям оценок пользователей и подсчёт количества игр\n",
        "user_score_grouped = df_actual.groupby('user_score_category')['name'].count()\n",
        "display(\"Распределение игр по категориям оценок пользователей:\")\n",
        "display(user_score_grouped)\n",
        "\n",
        "# Группировка данных по категориям оценок критиков и подсчёт количества игр\n",
        "critic_score_grouped = df_actual.groupby('critic_score_category')['name'].count()\n",
        "display(\"\\nРаспределение игр по категориям оценок критиков:\")\n",
        "display(critic_score_grouped)\n"
      ]
    },
    {
      "cell_type": "markdown",
      "id": "6a98444c",
      "metadata": {
        "id": "6a98444c"
      },
      "source": [
        "- Выделите топ-7 платформ по количеству игр, выпущенных за весь актуальный период."
      ]
    },
    {
      "cell_type": "code",
      "execution_count": null,
      "id": "016edabb",
      "metadata": {
        "id": "016edabb",
        "outputId": "8902d20d-d555-4dc4-9e8e-f3ccf658e98a"
      },
      "outputs": [
        {
          "data": {
            "text/plain": [
              "'### Топ-7 платформ по количеству выпущенных игр:'"
            ]
          },
          "metadata": {},
          "output_type": "display_data"
        },
        {
          "data": {
            "text/plain": [
              "PS2     2161\n",
              "DS      2150\n",
              "Wii     1309\n",
              "PSP     1196\n",
              "X360    1151\n",
              "PS3     1112\n",
              "XB       824\n",
              "Name: platform, dtype: int64"
            ]
          },
          "metadata": {},
          "output_type": "display_data"
        }
      ],
      "source": [
        "\n",
        "\n",
        "# Шаг 2: Фильтрация данных по периоду с 2000 по 2013 год (если это ещё не было сделано)\n",
        "df_actual = data[(data['year_of_release'] >= 2000) & (data['year_of_release'] <= 2013)]\n",
        "\n",
        "# Шаг 3: Подсчёт количества игр по платформам\n",
        "platform_counts = df_actual['platform'].value_counts()\n",
        "\n",
        "# Шаг 4: Выделение топ-7 платформ по количеству игр\n",
        "top_7_platforms = platform_counts.head(7)\n",
        "\n",
        "# Шаг 5: Вывод результатов\n",
        "display(\"### Топ-7 платформ по количеству выпущенных игр:\")\n",
        "display(top_7_platforms)\n"
      ]
    },
    {
      "cell_type": "markdown",
      "id": "c0158881",
      "metadata": {
        "id": "c0158881"
      },
      "source": [
        "---\n",
        "\n",
        "## 5. Итоговый вывод\n",
        "\n",
        "В конце напишите основной вывод и отразите, какую работу проделали. Не забудьте указать описание среза данных и новых полей, которые добавили в исходный датасет."
      ]
    },
    {
      "cell_type": "markdown",
      "id": "18202973",
      "metadata": {
        "id": "18202973"
      },
      "source": [
        "### Общий промежуточный вывод после предобработки данных\n",
        "\n",
        "#### Удаление пропусков:\n",
        "- Удалены строки с пропусками в столбцах `name` и `genre` (всего 2 строки).\n",
        "- Пропуски в `rating` заменены на значение \"Unknown\", чтобы указать отсутствие данных.\n",
        "- Пропуски в продажах по регионам (`na_sales`, `eu_sales`, `jp_sales`, `other_sales`) заполнены средними значениями для каждой группы по платформе и году выпуска.\n",
        "- Пропуски в `critic_score` и `user_score` оставлены как есть для дальнейшего анализа.\n",
        "\n",
        "#### Обработка типов данных:\n",
        "- Строковые значения в числовых столбцах (`user_score`, `eu_sales`, `jp_sales`) заменены на `NaN` и преобразованы в числовой тип.\n",
        "\n",
        "#### Нормализация данных:\n",
        "- Данные в `genre` приведены к нижнему регистру.\n",
        "- Данные в `rating` приведены к верхнему регистру.\n",
        "\n",
        "#### Обработка дубликатов:\n",
        "- Найдено и удалено 241 явный дубликат.\n",
        "- Неявные дубликаты устранены путём нормализации текстовых данных.\n",
        "\n",
        "#### Итоговые изменения:\n",
        "- Количество строк сократилось с 16,956 до 16,715 (удалено 241 строк, включая дубликаты и строки с критическими пропусками).\n",
        "- Данные очищены и готовы для анализа.\n",
        "\n",
        "#### Подготовка к следующему этапу:\n",
        "- Данные теперь содержат:\n",
        "  - Чёткую структуру с корректными типами данных.\n",
        "  - Отсутствие дубликатов и минимизированное количество пропусков.\n",
        "  - Нормализованные текстовые данные.\n",
        "\n",
        "#### Фильтрация данных:\n",
        "- Для анализа отобран период с 2000 по 2013 годы, создан срез данных `df_actual`, включающий 12,781 строку.\n",
        "\n",
        "#### Категоризация данных:\n",
        "- По оценкам пользователей: добавлен новый столбец `user_score_category` с категориями: **High** (от 8 до 10 включительно), **Medium** (от 3 до 8, не включая 8), **Low** (от 0 до 3, не включая 3), **No Score** (для пропущенных значений).\n",
        "- По оценкам критиков: добавлен новый столбец `critic_score_category` с аналогичными категориями.\n",
        "\n",
        "#### Выделение топ-7 платформ:\n",
        "- Определены платформы с наибольшим количеством игр за анализируемый период: **PS2**, **DS**, **Wii**, **PSP**, **X360**, **PS3**, **GBA**.\n",
        "\n",
        "#### Итог:\n",
        "- Данные подготовлены для дальнейшего анализа. Проведена очистка, устранение дубликатов, нормализация текстов, обработка пропусков и фильтрация.\n",
        "- Добавленные поля позволяют углублённо анализировать предпочтения пользователей и критиков, а также выявлять ключевые платформы для выпуска игр.\n",
        "- Работа готова для написания статьи или представления аналитических выводов.\n"
      ]
    },
    {
      "cell_type": "code",
      "execution_count": null,
      "id": "ccd17114-967e-4fae-8963-b449b704a64d",
      "metadata": {
        "id": "ccd17114-967e-4fae-8963-b449b704a64d"
      },
      "outputs": [],
      "source": []
    }
  ],
  "metadata": {
    "ExecuteTimeLog": [
      {
        "duration": 545,
        "start_time": "2025-01-16T17:20:53.495Z"
      },
      {
        "duration": 5,
        "start_time": "2025-01-16T17:26:40.728Z"
      },
      {
        "duration": 31,
        "start_time": "2025-01-16T17:27:51.514Z"
      },
      {
        "duration": 11,
        "start_time": "2025-01-16T17:29:15.313Z"
      },
      {
        "duration": 15,
        "start_time": "2025-01-16T17:31:17.701Z"
      },
      {
        "duration": 511,
        "start_time": "2025-01-17T14:34:55.270Z"
      },
      {
        "duration": 5,
        "start_time": "2025-01-17T14:34:55.783Z"
      },
      {
        "duration": 41,
        "start_time": "2025-01-17T14:34:55.790Z"
      },
      {
        "duration": 13,
        "start_time": "2025-01-17T14:34:55.833Z"
      },
      {
        "duration": 107,
        "start_time": "2025-01-17T14:34:55.847Z"
      },
      {
        "duration": 52,
        "start_time": "2025-01-17T15:01:41.354Z"
      },
      {
        "duration": 9,
        "start_time": "2025-01-17T15:02:17.119Z"
      },
      {
        "duration": 577,
        "start_time": "2025-01-17T15:02:23.645Z"
      },
      {
        "duration": 7,
        "start_time": "2025-01-17T15:02:24.224Z"
      },
      {
        "duration": 72,
        "start_time": "2025-01-17T15:02:24.232Z"
      },
      {
        "duration": 35,
        "start_time": "2025-01-17T15:02:24.307Z"
      },
      {
        "duration": 38,
        "start_time": "2025-01-17T15:02:24.344Z"
      },
      {
        "duration": 15,
        "start_time": "2025-01-17T15:02:24.385Z"
      },
      {
        "duration": 152,
        "start_time": "2025-01-17T15:02:33.581Z"
      },
      {
        "duration": 6,
        "start_time": "2025-01-17T15:02:37.228Z"
      },
      {
        "duration": 39,
        "start_time": "2025-01-17T15:02:40.225Z"
      },
      {
        "duration": 14,
        "start_time": "2025-01-17T15:02:43.721Z"
      },
      {
        "duration": 20,
        "start_time": "2025-01-17T15:02:47.569Z"
      },
      {
        "duration": 14,
        "start_time": "2025-01-17T15:02:54.323Z"
      },
      {
        "duration": 71,
        "start_time": "2025-01-17T15:03:31.629Z"
      },
      {
        "duration": 32,
        "start_time": "2025-01-17T15:04:10.232Z"
      },
      {
        "duration": 7,
        "start_time": "2025-01-17T15:04:45.025Z"
      },
      {
        "duration": 13,
        "start_time": "2025-01-17T15:07:03.524Z"
      },
      {
        "duration": 16,
        "start_time": "2025-01-17T15:07:30.630Z"
      },
      {
        "duration": 18,
        "start_time": "2025-01-17T15:07:48.293Z"
      },
      {
        "duration": 12,
        "start_time": "2025-01-17T15:08:00.414Z"
      },
      {
        "duration": 8,
        "start_time": "2025-01-17T15:08:13.207Z"
      },
      {
        "duration": 176,
        "start_time": "2025-01-17T15:11:34.191Z"
      },
      {
        "duration": 10,
        "start_time": "2025-01-17T15:11:59.288Z"
      },
      {
        "duration": 13,
        "start_time": "2025-01-17T15:12:04.433Z"
      },
      {
        "duration": 12,
        "start_time": "2025-01-17T15:12:16.209Z"
      },
      {
        "duration": 9,
        "start_time": "2025-01-17T15:13:37.827Z"
      },
      {
        "duration": 9,
        "start_time": "2025-01-17T15:13:59.310Z"
      },
      {
        "duration": 53,
        "start_time": "2025-01-17T15:14:53.279Z"
      },
      {
        "duration": 25,
        "start_time": "2025-01-17T15:15:36.771Z"
      },
      {
        "duration": 20,
        "start_time": "2025-01-17T15:15:49.890Z"
      },
      {
        "duration": 20,
        "start_time": "2025-01-17T15:15:54.814Z"
      },
      {
        "duration": 19,
        "start_time": "2025-01-17T15:16:03.024Z"
      },
      {
        "duration": 42,
        "start_time": "2025-01-17T15:16:19.547Z"
      },
      {
        "duration": 24,
        "start_time": "2025-01-17T15:18:25.093Z"
      },
      {
        "duration": 18,
        "start_time": "2025-01-17T15:18:55.033Z"
      },
      {
        "duration": 19,
        "start_time": "2025-01-17T15:18:57.208Z"
      },
      {
        "duration": 19,
        "start_time": "2025-01-17T15:20:00.909Z"
      },
      {
        "duration": 20,
        "start_time": "2025-01-17T15:20:12.729Z"
      },
      {
        "duration": 90,
        "start_time": "2025-01-17T15:20:37.506Z"
      },
      {
        "duration": 62,
        "start_time": "2025-01-17T15:20:41.735Z"
      },
      {
        "duration": 34,
        "start_time": "2025-01-17T15:21:31.330Z"
      },
      {
        "duration": 7,
        "start_time": "2025-01-17T15:21:53.781Z"
      },
      {
        "duration": 18,
        "start_time": "2025-01-17T15:22:31.472Z"
      },
      {
        "duration": 19,
        "start_time": "2025-01-17T15:23:26.984Z"
      },
      {
        "duration": 14,
        "start_time": "2025-01-17T15:24:00.600Z"
      },
      {
        "duration": 14,
        "start_time": "2025-01-17T15:24:03.144Z"
      },
      {
        "duration": 15,
        "start_time": "2025-01-17T15:24:07.054Z"
      },
      {
        "duration": 15,
        "start_time": "2025-01-17T15:24:12.860Z"
      },
      {
        "duration": 19,
        "start_time": "2025-01-17T15:24:42.073Z"
      },
      {
        "duration": 17,
        "start_time": "2025-01-17T15:25:06.050Z"
      },
      {
        "duration": 10,
        "start_time": "2025-01-17T15:25:45.921Z"
      },
      {
        "duration": 12,
        "start_time": "2025-01-17T15:31:18.275Z"
      },
      {
        "duration": 125,
        "start_time": "2025-01-17T15:45:10.174Z"
      },
      {
        "duration": 128,
        "start_time": "2025-01-17T15:46:20.334Z"
      },
      {
        "duration": 156,
        "start_time": "2025-01-17T15:46:36.316Z"
      },
      {
        "duration": 9,
        "start_time": "2025-01-17T15:59:04.853Z"
      },
      {
        "duration": 49,
        "start_time": "2025-01-17T15:59:42.589Z"
      },
      {
        "duration": 44,
        "start_time": "2025-01-17T15:59:56.987Z"
      },
      {
        "duration": 49,
        "start_time": "2025-01-17T16:00:31.113Z"
      },
      {
        "duration": 22,
        "start_time": "2025-01-17T16:01:04.501Z"
      },
      {
        "duration": 48,
        "start_time": "2025-01-17T17:52:21.508Z"
      },
      {
        "duration": 508,
        "start_time": "2025-01-17T17:52:29.389Z"
      },
      {
        "duration": 9,
        "start_time": "2025-01-17T17:52:29.898Z"
      },
      {
        "duration": 66,
        "start_time": "2025-01-17T17:52:29.908Z"
      },
      {
        "duration": 18,
        "start_time": "2025-01-17T17:52:29.976Z"
      },
      {
        "duration": 20,
        "start_time": "2025-01-17T17:52:29.995Z"
      },
      {
        "duration": 16,
        "start_time": "2025-01-17T17:52:30.054Z"
      },
      {
        "duration": 98,
        "start_time": "2025-01-17T17:52:30.071Z"
      },
      {
        "duration": 7,
        "start_time": "2025-01-17T17:52:30.171Z"
      },
      {
        "duration": 60,
        "start_time": "2025-01-17T17:52:30.179Z"
      },
      {
        "duration": 46,
        "start_time": "2025-01-17T17:52:30.241Z"
      },
      {
        "duration": 34,
        "start_time": "2025-01-17T17:52:30.288Z"
      },
      {
        "duration": 18,
        "start_time": "2025-01-17T17:52:30.323Z"
      },
      {
        "duration": 47,
        "start_time": "2025-01-17T17:52:30.343Z"
      },
      {
        "duration": 24,
        "start_time": "2025-01-17T17:52:30.391Z"
      },
      {
        "duration": 331,
        "start_time": "2025-01-17T17:55:08.934Z"
      },
      {
        "duration": 50,
        "start_time": "2025-01-17T17:56:28.239Z"
      },
      {
        "duration": 240,
        "start_time": "2025-01-17T17:57:41.202Z"
      },
      {
        "duration": 7,
        "start_time": "2025-01-17T17:58:24.114Z"
      },
      {
        "duration": 15,
        "start_time": "2025-01-17T18:01:42.427Z"
      },
      {
        "duration": 18,
        "start_time": "2025-01-17T18:02:21.539Z"
      },
      {
        "duration": 17,
        "start_time": "2025-01-17T18:03:03.386Z"
      },
      {
        "duration": 15,
        "start_time": "2025-01-17T18:03:29.100Z"
      },
      {
        "duration": 724,
        "start_time": "2025-01-17T20:25:04.845Z"
      },
      {
        "duration": 8,
        "start_time": "2025-01-17T20:25:05.571Z"
      },
      {
        "duration": 294,
        "start_time": "2025-01-17T20:25:05.581Z"
      },
      {
        "duration": 0,
        "start_time": "2025-01-17T20:25:05.877Z"
      },
      {
        "duration": 0,
        "start_time": "2025-01-17T20:25:05.878Z"
      },
      {
        "duration": 0,
        "start_time": "2025-01-17T20:25:05.879Z"
      },
      {
        "duration": 0,
        "start_time": "2025-01-17T20:25:05.880Z"
      },
      {
        "duration": 0,
        "start_time": "2025-01-17T20:25:05.881Z"
      },
      {
        "duration": 0,
        "start_time": "2025-01-17T20:25:05.882Z"
      },
      {
        "duration": 0,
        "start_time": "2025-01-17T20:25:05.883Z"
      },
      {
        "duration": 0,
        "start_time": "2025-01-17T20:25:05.884Z"
      },
      {
        "duration": 0,
        "start_time": "2025-01-17T20:25:05.885Z"
      },
      {
        "duration": 0,
        "start_time": "2025-01-17T20:25:05.886Z"
      },
      {
        "duration": 0,
        "start_time": "2025-01-17T20:25:05.887Z"
      },
      {
        "duration": 749,
        "start_time": "2025-01-17T20:25:35.654Z"
      },
      {
        "duration": 11,
        "start_time": "2025-01-17T20:25:36.405Z"
      },
      {
        "duration": 326,
        "start_time": "2025-01-17T20:25:36.418Z"
      },
      {
        "duration": 0,
        "start_time": "2025-01-17T20:25:36.745Z"
      },
      {
        "duration": 0,
        "start_time": "2025-01-17T20:25:36.746Z"
      },
      {
        "duration": 0,
        "start_time": "2025-01-17T20:25:36.748Z"
      },
      {
        "duration": 0,
        "start_time": "2025-01-17T20:25:36.749Z"
      },
      {
        "duration": 0,
        "start_time": "2025-01-17T20:25:36.751Z"
      },
      {
        "duration": 0,
        "start_time": "2025-01-17T20:25:36.752Z"
      },
      {
        "duration": 0,
        "start_time": "2025-01-17T20:25:36.753Z"
      },
      {
        "duration": 0,
        "start_time": "2025-01-17T20:25:36.754Z"
      },
      {
        "duration": 0,
        "start_time": "2025-01-17T20:25:36.755Z"
      },
      {
        "duration": 0,
        "start_time": "2025-01-17T20:25:36.756Z"
      },
      {
        "duration": 0,
        "start_time": "2025-01-17T20:25:36.757Z"
      },
      {
        "duration": 740,
        "start_time": "2025-01-17T20:28:16.841Z"
      },
      {
        "duration": 8,
        "start_time": "2025-01-17T20:28:17.583Z"
      },
      {
        "duration": 3,
        "start_time": "2025-01-17T20:28:17.592Z"
      },
      {
        "duration": 272,
        "start_time": "2025-01-17T20:28:17.616Z"
      },
      {
        "duration": 0,
        "start_time": "2025-01-17T20:28:17.890Z"
      },
      {
        "duration": 0,
        "start_time": "2025-01-17T20:28:17.892Z"
      },
      {
        "duration": 0,
        "start_time": "2025-01-17T20:28:17.893Z"
      },
      {
        "duration": 0,
        "start_time": "2025-01-17T20:28:17.895Z"
      },
      {
        "duration": 0,
        "start_time": "2025-01-17T20:28:17.896Z"
      },
      {
        "duration": 0,
        "start_time": "2025-01-17T20:28:17.897Z"
      },
      {
        "duration": 0,
        "start_time": "2025-01-17T20:28:17.915Z"
      },
      {
        "duration": 0,
        "start_time": "2025-01-17T20:28:17.916Z"
      },
      {
        "duration": 0,
        "start_time": "2025-01-17T20:28:17.918Z"
      },
      {
        "duration": 0,
        "start_time": "2025-01-17T20:28:17.919Z"
      },
      {
        "duration": 0,
        "start_time": "2025-01-17T20:28:17.920Z"
      },
      {
        "duration": 191,
        "start_time": "2025-01-17T20:35:28.810Z"
      },
      {
        "duration": 37,
        "start_time": "2025-01-17T20:35:43.252Z"
      },
      {
        "duration": 176,
        "start_time": "2025-01-17T20:35:55.164Z"
      },
      {
        "duration": 89,
        "start_time": "2025-01-17T20:37:14.751Z"
      },
      {
        "duration": 535,
        "start_time": "2025-01-18T17:49:32.860Z"
      },
      {
        "duration": 9,
        "start_time": "2025-01-18T17:49:33.396Z"
      },
      {
        "duration": 95,
        "start_time": "2025-01-18T17:49:33.406Z"
      },
      {
        "duration": 18,
        "start_time": "2025-01-18T17:49:33.503Z"
      },
      {
        "duration": 102,
        "start_time": "2025-01-18T17:49:33.523Z"
      },
      {
        "duration": 371,
        "start_time": "2025-01-18T17:49:33.627Z"
      },
      {
        "duration": 81,
        "start_time": "2025-01-18T17:49:33.999Z"
      },
      {
        "duration": 35,
        "start_time": "2025-01-18T17:49:34.082Z"
      },
      {
        "duration": 5,
        "start_time": "2025-01-18T17:49:34.118Z"
      },
      {
        "duration": 15,
        "start_time": "2025-01-18T17:49:34.125Z"
      },
      {
        "duration": 20,
        "start_time": "2025-01-18T17:49:34.141Z"
      },
      {
        "duration": 53,
        "start_time": "2025-01-18T17:49:34.163Z"
      },
      {
        "duration": 13,
        "start_time": "2025-01-18T17:49:34.218Z"
      },
      {
        "duration": 36,
        "start_time": "2025-01-18T17:49:34.233Z"
      },
      {
        "duration": 89,
        "start_time": "2025-01-18T18:32:18.557Z"
      },
      {
        "duration": 45,
        "start_time": "2025-01-18T18:34:23.303Z"
      },
      {
        "duration": 607,
        "start_time": "2025-01-19T12:56:42.870Z"
      },
      {
        "duration": 10,
        "start_time": "2025-01-19T12:56:43.479Z"
      },
      {
        "duration": 70,
        "start_time": "2025-01-19T12:56:43.490Z"
      },
      {
        "duration": 20,
        "start_time": "2025-01-19T12:56:43.561Z"
      },
      {
        "duration": 21,
        "start_time": "2025-01-19T12:56:43.616Z"
      },
      {
        "duration": 368,
        "start_time": "2025-01-19T12:56:43.639Z"
      },
      {
        "duration": 68,
        "start_time": "2025-01-19T12:56:44.014Z"
      },
      {
        "duration": 7,
        "start_time": "2025-01-19T12:56:44.115Z"
      },
      {
        "duration": 6,
        "start_time": "2025-01-19T12:56:44.123Z"
      },
      {
        "duration": 14,
        "start_time": "2025-01-19T12:56:44.131Z"
      },
      {
        "duration": 18,
        "start_time": "2025-01-19T12:56:44.147Z"
      },
      {
        "duration": 54,
        "start_time": "2025-01-19T12:56:44.166Z"
      },
      {
        "duration": 14,
        "start_time": "2025-01-19T12:56:44.221Z"
      },
      {
        "duration": 15,
        "start_time": "2025-01-19T12:56:44.237Z"
      },
      {
        "duration": 13,
        "start_time": "2025-01-19T13:23:49.533Z"
      },
      {
        "duration": 12,
        "start_time": "2025-01-19T13:23:53.213Z"
      },
      {
        "duration": 55,
        "start_time": "2025-01-19T13:25:45.548Z"
      },
      {
        "duration": 540,
        "start_time": "2025-01-19T13:27:21.347Z"
      },
      {
        "duration": 11,
        "start_time": "2025-01-19T13:27:24.237Z"
      },
      {
        "duration": 50,
        "start_time": "2025-01-19T13:27:25.832Z"
      },
      {
        "duration": 47,
        "start_time": "2025-01-19T13:27:27.331Z"
      },
      {
        "duration": 27,
        "start_time": "2025-01-19T13:27:35.332Z"
      },
      {
        "duration": 369,
        "start_time": "2025-01-19T13:27:37.705Z"
      },
      {
        "duration": 119,
        "start_time": "2025-01-19T13:27:38.906Z"
      },
      {
        "duration": 7,
        "start_time": "2025-01-19T13:27:40.121Z"
      },
      {
        "duration": 141,
        "start_time": "2025-01-19T13:29:17.504Z"
      },
      {
        "duration": 10,
        "start_time": "2025-01-19T13:29:21.252Z"
      },
      {
        "duration": 48,
        "start_time": "2025-01-19T13:29:24.610Z"
      },
      {
        "duration": 47,
        "start_time": "2025-01-19T13:29:26.371Z"
      },
      {
        "duration": 20,
        "start_time": "2025-01-19T13:29:29.137Z"
      },
      {
        "duration": 308,
        "start_time": "2025-01-19T13:29:31.814Z"
      },
      {
        "duration": 63,
        "start_time": "2025-01-19T13:29:32.976Z"
      },
      {
        "duration": 7,
        "start_time": "2025-01-19T13:29:34.462Z"
      },
      {
        "duration": 6,
        "start_time": "2025-01-19T13:29:36.590Z"
      },
      {
        "duration": 14,
        "start_time": "2025-01-19T13:29:39.133Z"
      },
      {
        "duration": 17,
        "start_time": "2025-01-19T13:29:40.476Z"
      },
      {
        "duration": 23,
        "start_time": "2025-01-19T13:29:41.765Z"
      },
      {
        "duration": 14,
        "start_time": "2025-01-19T13:29:43.235Z"
      },
      {
        "duration": 11,
        "start_time": "2025-01-19T13:29:44.075Z"
      },
      {
        "duration": 551,
        "start_time": "2025-01-19T22:09:20.959Z"
      },
      {
        "duration": 9,
        "start_time": "2025-01-19T22:09:21.512Z"
      },
      {
        "duration": 71,
        "start_time": "2025-01-19T22:09:21.522Z"
      },
      {
        "duration": 45,
        "start_time": "2025-01-19T22:09:21.594Z"
      },
      {
        "duration": 17,
        "start_time": "2025-01-19T22:09:21.642Z"
      },
      {
        "duration": 313,
        "start_time": "2025-01-19T22:09:21.660Z"
      },
      {
        "duration": 68,
        "start_time": "2025-01-19T22:09:21.975Z"
      },
      {
        "duration": 7,
        "start_time": "2025-01-19T22:09:22.044Z"
      },
      {
        "duration": 36,
        "start_time": "2025-01-19T22:09:22.052Z"
      },
      {
        "duration": 25,
        "start_time": "2025-01-19T22:09:22.090Z"
      },
      {
        "duration": 17,
        "start_time": "2025-01-19T22:09:22.116Z"
      },
      {
        "duration": 17,
        "start_time": "2025-01-19T22:09:22.134Z"
      },
      {
        "duration": 39,
        "start_time": "2025-01-19T22:09:22.152Z"
      },
      {
        "duration": 11,
        "start_time": "2025-01-19T22:09:22.193Z"
      }
    ],
    "colab": {
      "provenance": [],
      "include_colab_link": true
    },
    "kernelspec": {
      "display_name": "Python 3 (ipykernel)",
      "language": "python",
      "name": "python3"
    },
    "language_info": {
      "codemirror_mode": {
        "name": "ipython",
        "version": 3
      },
      "file_extension": ".py",
      "mimetype": "text/x-python",
      "name": "python",
      "nbconvert_exporter": "python",
      "pygments_lexer": "ipython3",
      "version": "3.9.5"
    },
    "toc": {
      "base_numbering": 1,
      "nav_menu": {},
      "number_sections": true,
      "sideBar": true,
      "skip_h1_title": true,
      "title_cell": "Table of Contents",
      "title_sidebar": "Contents",
      "toc_cell": false,
      "toc_position": {
        "height": "calc(100% - 180px)",
        "left": "10px",
        "top": "150px",
        "width": "383.983px"
      },
      "toc_section_display": true,
      "toc_window_display": true
    }
  },
  "nbformat": 4,
  "nbformat_minor": 5
}